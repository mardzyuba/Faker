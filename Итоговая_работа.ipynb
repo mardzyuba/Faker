{
  "nbformat": 4,
  "nbformat_minor": 0,
  "metadata": {
    "colab": {
      "name": "Итоговая работа.ipynb",
      "provenance": [],
      "collapsed_sections": [],
      "mount_file_id": "1ZVZWad_jlLduFGh7qYfZBM1af1xn4Gxv",
      "authorship_tag": "ABX9TyPOivo1JXoX4NbsiWdZJYwj",
      "include_colab_link": true
    },
    "kernelspec": {
      "name": "python3",
      "display_name": "Python 3"
    },
    "language_info": {
      "name": "python"
    }
  },
  "cells": [
    {
      "cell_type": "markdown",
      "metadata": {
        "id": "view-in-github",
        "colab_type": "text"
      },
      "source": [
        "<a href=\"https://colab.research.google.com/github/mardzyuba/Faker/blob/master/%D0%98%D1%82%D0%BE%D0%B3%D0%BE%D0%B2%D0%B0%D1%8F_%D1%80%D0%B0%D0%B1%D0%BE%D1%82%D0%B0.ipynb\" target=\"_parent\"><img src=\"https://colab.research.google.com/assets/colab-badge.svg\" alt=\"Open In Colab\"/></a>"
      ]
    },
    {
      "cell_type": "code",
      "execution_count": 1840,
      "metadata": {
        "id": "SkXKbQL_Nmc_"
      },
      "outputs": [],
      "source": [
        "import pandas as pd\n",
        "import numpy as np\n",
        "\n",
        "from matplotlib import pyplot as plt\n",
        "%matplotlib inline\n",
        "import seaborn as sns\n",
        "\n",
        "from sklearn.preprocessing import Normalizer, StandardScaler\n",
        "from sklearn.model_selection import train_test_split\n",
        "from sklearn.linear_model import LinearRegression\n",
        "from sklearn.metrics import mean_absolute_error, mean_squared_error, r2_score"
      ]
    },
    {
      "cell_type": "markdown",
      "source": [
        "Скачиваем только файлы train.csv.zip, macro.csv.zip.\n",
        "\n",
        "Произведем загрузку данных и получим информацию о датафреймах.\n",
        "\n",
        "---\n",
        "\n"
      ],
      "metadata": {
        "id": "fkxaUdmDXEFJ"
      }
    },
    {
      "cell_type": "code",
      "source": [
        "macro = pd.read_csv('/content/drive/MyDrive/Colab Notebooks/macro.csv')\n",
        "macro.head()"
      ],
      "metadata": {
        "colab": {
          "base_uri": "https://localhost:8080/",
          "height": 386
        },
        "id": "KaJIBaQYUs6Y",
        "outputId": "a810c0cd-5568-46ca-8581-ca0da5da8cd3"
      },
      "execution_count": 1841,
      "outputs": [
        {
          "output_type": "execute_result",
          "data": {
            "text/html": [
              "\n",
              "  <div id=\"df-71af1141-6744-4e16-9ebd-bcaaaade930b\">\n",
              "    <div class=\"colab-df-container\">\n",
              "      <div>\n",
              "<style scoped>\n",
              "    .dataframe tbody tr th:only-of-type {\n",
              "        vertical-align: middle;\n",
              "    }\n",
              "\n",
              "    .dataframe tbody tr th {\n",
              "        vertical-align: top;\n",
              "    }\n",
              "\n",
              "    .dataframe thead th {\n",
              "        text-align: right;\n",
              "    }\n",
              "</style>\n",
              "<table border=\"1\" class=\"dataframe\">\n",
              "  <thead>\n",
              "    <tr style=\"text-align: right;\">\n",
              "      <th></th>\n",
              "      <th>timestamp</th>\n",
              "      <th>oil_urals</th>\n",
              "      <th>gdp_quart</th>\n",
              "      <th>gdp_quart_growth</th>\n",
              "      <th>cpi</th>\n",
              "      <th>ppi</th>\n",
              "      <th>gdp_deflator</th>\n",
              "      <th>balance_trade</th>\n",
              "      <th>balance_trade_growth</th>\n",
              "      <th>usdrub</th>\n",
              "      <th>eurrub</th>\n",
              "      <th>brent</th>\n",
              "      <th>net_capital_export</th>\n",
              "      <th>gdp_annual</th>\n",
              "      <th>gdp_annual_growth</th>\n",
              "      <th>average_provision_of_build_contract</th>\n",
              "      <th>average_provision_of_build_contract_moscow</th>\n",
              "      <th>rts</th>\n",
              "      <th>micex</th>\n",
              "      <th>micex_rgbi_tr</th>\n",
              "      <th>micex_cbi_tr</th>\n",
              "      <th>deposits_value</th>\n",
              "      <th>deposits_growth</th>\n",
              "      <th>deposits_rate</th>\n",
              "      <th>mortgage_value</th>\n",
              "      <th>mortgage_growth</th>\n",
              "      <th>mortgage_rate</th>\n",
              "      <th>grp</th>\n",
              "      <th>grp_growth</th>\n",
              "      <th>income_per_cap</th>\n",
              "      <th>real_dispos_income_per_cap_growth</th>\n",
              "      <th>salary</th>\n",
              "      <th>salary_growth</th>\n",
              "      <th>fixed_basket</th>\n",
              "      <th>retail_trade_turnover</th>\n",
              "      <th>retail_trade_turnover_per_cap</th>\n",
              "      <th>retail_trade_turnover_growth</th>\n",
              "      <th>labor_force</th>\n",
              "      <th>unemployment</th>\n",
              "      <th>employment</th>\n",
              "      <th>...</th>\n",
              "      <th>sewerage_share</th>\n",
              "      <th>gas_share</th>\n",
              "      <th>hot_water_share</th>\n",
              "      <th>electric_stove_share</th>\n",
              "      <th>heating_share</th>\n",
              "      <th>old_house_share</th>\n",
              "      <th>average_life_exp</th>\n",
              "      <th>infant_mortarity_per_1000_cap</th>\n",
              "      <th>perinatal_mort_per_1000_cap</th>\n",
              "      <th>incidence_population</th>\n",
              "      <th>rent_price_4+room_bus</th>\n",
              "      <th>rent_price_3room_bus</th>\n",
              "      <th>rent_price_2room_bus</th>\n",
              "      <th>rent_price_1room_bus</th>\n",
              "      <th>rent_price_3room_eco</th>\n",
              "      <th>rent_price_2room_eco</th>\n",
              "      <th>rent_price_1room_eco</th>\n",
              "      <th>load_of_teachers_preschool_per_teacher</th>\n",
              "      <th>child_on_acc_pre_school</th>\n",
              "      <th>load_of_teachers_school_per_teacher</th>\n",
              "      <th>students_state_oneshift</th>\n",
              "      <th>modern_education_share</th>\n",
              "      <th>old_education_build_share</th>\n",
              "      <th>provision_doctors</th>\n",
              "      <th>provision_nurse</th>\n",
              "      <th>load_on_doctors</th>\n",
              "      <th>power_clinics</th>\n",
              "      <th>hospital_beds_available_per_cap</th>\n",
              "      <th>hospital_bed_occupancy_per_year</th>\n",
              "      <th>provision_retail_space_sqm</th>\n",
              "      <th>provision_retail_space_modern_sqm</th>\n",
              "      <th>turnover_catering_per_cap</th>\n",
              "      <th>theaters_viewers_per_1000_cap</th>\n",
              "      <th>seats_theather_rfmin_per_100000_cap</th>\n",
              "      <th>museum_visitis_per_100_cap</th>\n",
              "      <th>bandwidth_sports</th>\n",
              "      <th>population_reg_sports_share</th>\n",
              "      <th>students_reg_sports_share</th>\n",
              "      <th>apartment_build</th>\n",
              "      <th>apartment_fund_sqm</th>\n",
              "    </tr>\n",
              "  </thead>\n",
              "  <tbody>\n",
              "    <tr>\n",
              "      <th>0</th>\n",
              "      <td>2010-01-01</td>\n",
              "      <td>76.1</td>\n",
              "      <td>NaN</td>\n",
              "      <td>NaN</td>\n",
              "      <td>NaN</td>\n",
              "      <td>NaN</td>\n",
              "      <td>NaN</td>\n",
              "      <td>NaN</td>\n",
              "      <td>NaN</td>\n",
              "      <td>NaN</td>\n",
              "      <td>NaN</td>\n",
              "      <td>NaN</td>\n",
              "      <td>NaN</td>\n",
              "      <td>38807.2</td>\n",
              "      <td>-0.078209</td>\n",
              "      <td>5.0</td>\n",
              "      <td>NaN</td>\n",
              "      <td>NaN</td>\n",
              "      <td>NaN</td>\n",
              "      <td>NaN</td>\n",
              "      <td>NaN</td>\n",
              "      <td>7484970</td>\n",
              "      <td>NaN</td>\n",
              "      <td>NaN</td>\n",
              "      <td>142968</td>\n",
              "      <td>NaN</td>\n",
              "      <td>13.72</td>\n",
              "      <td>8375.8638</td>\n",
              "      <td>NaN</td>\n",
              "      <td>30789.2</td>\n",
              "      <td>0.038</td>\n",
              "      <td>38410.5</td>\n",
              "      <td>NaN</td>\n",
              "      <td>11443.63</td>\n",
              "      <td>2882.4169</td>\n",
              "      <td>251.484</td>\n",
              "      <td>106.8</td>\n",
              "      <td>6436.244</td>\n",
              "      <td>0.018</td>\n",
              "      <td>0.69</td>\n",
              "      <td>...</td>\n",
              "      <td>99.6</td>\n",
              "      <td>44.4</td>\n",
              "      <td>95.7</td>\n",
              "      <td>55.0</td>\n",
              "      <td>99.9</td>\n",
              "      <td>0.3</td>\n",
              "      <td>74.2</td>\n",
              "      <td>6.1</td>\n",
              "      <td>5.87</td>\n",
              "      <td>696.6</td>\n",
              "      <td>NaN</td>\n",
              "      <td>NaN</td>\n",
              "      <td>NaN</td>\n",
              "      <td>NaN</td>\n",
              "      <td>NaN</td>\n",
              "      <td>NaN</td>\n",
              "      <td>NaN</td>\n",
              "      <td>721.477765</td>\n",
              "      <td>45,713</td>\n",
              "      <td>1356.112607</td>\n",
              "      <td>NaN</td>\n",
              "      <td>NaN</td>\n",
              "      <td>NaN</td>\n",
              "      <td>18.0</td>\n",
              "      <td>99.4</td>\n",
              "      <td>7872.848285</td>\n",
              "      <td>162.9</td>\n",
              "      <td>NaN</td>\n",
              "      <td>NaN</td>\n",
              "      <td>NaN</td>\n",
              "      <td>690.0</td>\n",
              "      <td>6221.0</td>\n",
              "      <td>527.0</td>\n",
              "      <td>0.41</td>\n",
              "      <td>993.0</td>\n",
              "      <td>NaN</td>\n",
              "      <td>NaN</td>\n",
              "      <td>63.03</td>\n",
              "      <td>22825.0</td>\n",
              "      <td>NaN</td>\n",
              "    </tr>\n",
              "    <tr>\n",
              "      <th>1</th>\n",
              "      <td>2010-01-02</td>\n",
              "      <td>76.1</td>\n",
              "      <td>NaN</td>\n",
              "      <td>NaN</td>\n",
              "      <td>NaN</td>\n",
              "      <td>NaN</td>\n",
              "      <td>NaN</td>\n",
              "      <td>NaN</td>\n",
              "      <td>NaN</td>\n",
              "      <td>NaN</td>\n",
              "      <td>NaN</td>\n",
              "      <td>NaN</td>\n",
              "      <td>NaN</td>\n",
              "      <td>38807.2</td>\n",
              "      <td>-0.078209</td>\n",
              "      <td>5.0</td>\n",
              "      <td>NaN</td>\n",
              "      <td>NaN</td>\n",
              "      <td>NaN</td>\n",
              "      <td>NaN</td>\n",
              "      <td>175.15</td>\n",
              "      <td>7484970</td>\n",
              "      <td>NaN</td>\n",
              "      <td>NaN</td>\n",
              "      <td>142968</td>\n",
              "      <td>NaN</td>\n",
              "      <td>13.72</td>\n",
              "      <td>8375.8638</td>\n",
              "      <td>NaN</td>\n",
              "      <td>30789.2</td>\n",
              "      <td>0.038</td>\n",
              "      <td>38410.5</td>\n",
              "      <td>NaN</td>\n",
              "      <td>11443.63</td>\n",
              "      <td>2882.4169</td>\n",
              "      <td>251.484</td>\n",
              "      <td>106.8</td>\n",
              "      <td>6436.244</td>\n",
              "      <td>0.018</td>\n",
              "      <td>0.69</td>\n",
              "      <td>...</td>\n",
              "      <td>99.6</td>\n",
              "      <td>44.4</td>\n",
              "      <td>95.7</td>\n",
              "      <td>55.0</td>\n",
              "      <td>99.9</td>\n",
              "      <td>0.3</td>\n",
              "      <td>74.2</td>\n",
              "      <td>6.1</td>\n",
              "      <td>5.87</td>\n",
              "      <td>696.6</td>\n",
              "      <td>NaN</td>\n",
              "      <td>NaN</td>\n",
              "      <td>NaN</td>\n",
              "      <td>NaN</td>\n",
              "      <td>NaN</td>\n",
              "      <td>NaN</td>\n",
              "      <td>NaN</td>\n",
              "      <td>721.477765</td>\n",
              "      <td>45,713</td>\n",
              "      <td>1356.112607</td>\n",
              "      <td>NaN</td>\n",
              "      <td>NaN</td>\n",
              "      <td>NaN</td>\n",
              "      <td>18.0</td>\n",
              "      <td>99.4</td>\n",
              "      <td>7872.848285</td>\n",
              "      <td>162.9</td>\n",
              "      <td>NaN</td>\n",
              "      <td>NaN</td>\n",
              "      <td>NaN</td>\n",
              "      <td>690.0</td>\n",
              "      <td>6221.0</td>\n",
              "      <td>527.0</td>\n",
              "      <td>0.41</td>\n",
              "      <td>993.0</td>\n",
              "      <td>NaN</td>\n",
              "      <td>NaN</td>\n",
              "      <td>63.03</td>\n",
              "      <td>22825.0</td>\n",
              "      <td>NaN</td>\n",
              "    </tr>\n",
              "    <tr>\n",
              "      <th>2</th>\n",
              "      <td>2010-01-03</td>\n",
              "      <td>76.1</td>\n",
              "      <td>NaN</td>\n",
              "      <td>NaN</td>\n",
              "      <td>NaN</td>\n",
              "      <td>NaN</td>\n",
              "      <td>NaN</td>\n",
              "      <td>NaN</td>\n",
              "      <td>NaN</td>\n",
              "      <td>NaN</td>\n",
              "      <td>NaN</td>\n",
              "      <td>NaN</td>\n",
              "      <td>NaN</td>\n",
              "      <td>38807.2</td>\n",
              "      <td>-0.078209</td>\n",
              "      <td>5.0</td>\n",
              "      <td>NaN</td>\n",
              "      <td>NaN</td>\n",
              "      <td>NaN</td>\n",
              "      <td>NaN</td>\n",
              "      <td>178.66</td>\n",
              "      <td>7484970</td>\n",
              "      <td>NaN</td>\n",
              "      <td>NaN</td>\n",
              "      <td>142968</td>\n",
              "      <td>NaN</td>\n",
              "      <td>13.72</td>\n",
              "      <td>8375.8638</td>\n",
              "      <td>NaN</td>\n",
              "      <td>30789.2</td>\n",
              "      <td>0.038</td>\n",
              "      <td>38410.5</td>\n",
              "      <td>NaN</td>\n",
              "      <td>11443.63</td>\n",
              "      <td>2882.4169</td>\n",
              "      <td>251.484</td>\n",
              "      <td>106.8</td>\n",
              "      <td>6436.244</td>\n",
              "      <td>0.018</td>\n",
              "      <td>0.69</td>\n",
              "      <td>...</td>\n",
              "      <td>99.6</td>\n",
              "      <td>44.4</td>\n",
              "      <td>95.7</td>\n",
              "      <td>55.0</td>\n",
              "      <td>99.9</td>\n",
              "      <td>0.3</td>\n",
              "      <td>74.2</td>\n",
              "      <td>6.1</td>\n",
              "      <td>5.87</td>\n",
              "      <td>696.6</td>\n",
              "      <td>NaN</td>\n",
              "      <td>NaN</td>\n",
              "      <td>NaN</td>\n",
              "      <td>NaN</td>\n",
              "      <td>NaN</td>\n",
              "      <td>NaN</td>\n",
              "      <td>NaN</td>\n",
              "      <td>721.477765</td>\n",
              "      <td>45,713</td>\n",
              "      <td>1356.112607</td>\n",
              "      <td>NaN</td>\n",
              "      <td>NaN</td>\n",
              "      <td>NaN</td>\n",
              "      <td>18.0</td>\n",
              "      <td>99.4</td>\n",
              "      <td>7872.848285</td>\n",
              "      <td>162.9</td>\n",
              "      <td>NaN</td>\n",
              "      <td>NaN</td>\n",
              "      <td>NaN</td>\n",
              "      <td>690.0</td>\n",
              "      <td>6221.0</td>\n",
              "      <td>527.0</td>\n",
              "      <td>0.41</td>\n",
              "      <td>993.0</td>\n",
              "      <td>NaN</td>\n",
              "      <td>NaN</td>\n",
              "      <td>63.03</td>\n",
              "      <td>22825.0</td>\n",
              "      <td>NaN</td>\n",
              "    </tr>\n",
              "    <tr>\n",
              "      <th>3</th>\n",
              "      <td>2010-01-04</td>\n",
              "      <td>76.1</td>\n",
              "      <td>NaN</td>\n",
              "      <td>NaN</td>\n",
              "      <td>NaN</td>\n",
              "      <td>NaN</td>\n",
              "      <td>NaN</td>\n",
              "      <td>NaN</td>\n",
              "      <td>NaN</td>\n",
              "      <td>29.905</td>\n",
              "      <td>43.4054</td>\n",
              "      <td>80.12</td>\n",
              "      <td>NaN</td>\n",
              "      <td>38807.2</td>\n",
              "      <td>-0.078209</td>\n",
              "      <td>5.0</td>\n",
              "      <td>NaN</td>\n",
              "      <td>NaN</td>\n",
              "      <td>NaN</td>\n",
              "      <td>NaN</td>\n",
              "      <td>183.44</td>\n",
              "      <td>7484970</td>\n",
              "      <td>NaN</td>\n",
              "      <td>NaN</td>\n",
              "      <td>142968</td>\n",
              "      <td>NaN</td>\n",
              "      <td>13.72</td>\n",
              "      <td>8375.8638</td>\n",
              "      <td>NaN</td>\n",
              "      <td>30789.2</td>\n",
              "      <td>0.038</td>\n",
              "      <td>38410.5</td>\n",
              "      <td>NaN</td>\n",
              "      <td>11443.63</td>\n",
              "      <td>2882.4169</td>\n",
              "      <td>251.484</td>\n",
              "      <td>106.8</td>\n",
              "      <td>6436.244</td>\n",
              "      <td>0.018</td>\n",
              "      <td>0.69</td>\n",
              "      <td>...</td>\n",
              "      <td>99.6</td>\n",
              "      <td>44.4</td>\n",
              "      <td>95.7</td>\n",
              "      <td>55.0</td>\n",
              "      <td>99.9</td>\n",
              "      <td>0.3</td>\n",
              "      <td>74.2</td>\n",
              "      <td>6.1</td>\n",
              "      <td>5.87</td>\n",
              "      <td>696.6</td>\n",
              "      <td>NaN</td>\n",
              "      <td>NaN</td>\n",
              "      <td>NaN</td>\n",
              "      <td>NaN</td>\n",
              "      <td>NaN</td>\n",
              "      <td>NaN</td>\n",
              "      <td>NaN</td>\n",
              "      <td>721.477765</td>\n",
              "      <td>45,713</td>\n",
              "      <td>1356.112607</td>\n",
              "      <td>NaN</td>\n",
              "      <td>NaN</td>\n",
              "      <td>NaN</td>\n",
              "      <td>18.0</td>\n",
              "      <td>99.4</td>\n",
              "      <td>7872.848285</td>\n",
              "      <td>162.9</td>\n",
              "      <td>NaN</td>\n",
              "      <td>NaN</td>\n",
              "      <td>NaN</td>\n",
              "      <td>690.0</td>\n",
              "      <td>6221.0</td>\n",
              "      <td>527.0</td>\n",
              "      <td>0.41</td>\n",
              "      <td>993.0</td>\n",
              "      <td>NaN</td>\n",
              "      <td>NaN</td>\n",
              "      <td>63.03</td>\n",
              "      <td>22825.0</td>\n",
              "      <td>NaN</td>\n",
              "    </tr>\n",
              "    <tr>\n",
              "      <th>4</th>\n",
              "      <td>2010-01-05</td>\n",
              "      <td>76.1</td>\n",
              "      <td>NaN</td>\n",
              "      <td>NaN</td>\n",
              "      <td>NaN</td>\n",
              "      <td>NaN</td>\n",
              "      <td>NaN</td>\n",
              "      <td>NaN</td>\n",
              "      <td>NaN</td>\n",
              "      <td>29.836</td>\n",
              "      <td>42.9600</td>\n",
              "      <td>80.59</td>\n",
              "      <td>NaN</td>\n",
              "      <td>38807.2</td>\n",
              "      <td>-0.078209</td>\n",
              "      <td>5.0</td>\n",
              "      <td>NaN</td>\n",
              "      <td>NaN</td>\n",
              "      <td>NaN</td>\n",
              "      <td>NaN</td>\n",
              "      <td>183.44</td>\n",
              "      <td>7484970</td>\n",
              "      <td>NaN</td>\n",
              "      <td>NaN</td>\n",
              "      <td>142968</td>\n",
              "      <td>NaN</td>\n",
              "      <td>13.72</td>\n",
              "      <td>8375.8638</td>\n",
              "      <td>NaN</td>\n",
              "      <td>30789.2</td>\n",
              "      <td>0.038</td>\n",
              "      <td>38410.5</td>\n",
              "      <td>NaN</td>\n",
              "      <td>11443.63</td>\n",
              "      <td>2882.4169</td>\n",
              "      <td>251.484</td>\n",
              "      <td>106.8</td>\n",
              "      <td>6436.244</td>\n",
              "      <td>0.018</td>\n",
              "      <td>0.69</td>\n",
              "      <td>...</td>\n",
              "      <td>99.6</td>\n",
              "      <td>44.4</td>\n",
              "      <td>95.7</td>\n",
              "      <td>55.0</td>\n",
              "      <td>99.9</td>\n",
              "      <td>0.3</td>\n",
              "      <td>74.2</td>\n",
              "      <td>6.1</td>\n",
              "      <td>5.87</td>\n",
              "      <td>696.6</td>\n",
              "      <td>NaN</td>\n",
              "      <td>NaN</td>\n",
              "      <td>NaN</td>\n",
              "      <td>NaN</td>\n",
              "      <td>NaN</td>\n",
              "      <td>NaN</td>\n",
              "      <td>NaN</td>\n",
              "      <td>721.477765</td>\n",
              "      <td>45,713</td>\n",
              "      <td>1356.112607</td>\n",
              "      <td>NaN</td>\n",
              "      <td>NaN</td>\n",
              "      <td>NaN</td>\n",
              "      <td>18.0</td>\n",
              "      <td>99.4</td>\n",
              "      <td>7872.848285</td>\n",
              "      <td>162.9</td>\n",
              "      <td>NaN</td>\n",
              "      <td>NaN</td>\n",
              "      <td>NaN</td>\n",
              "      <td>690.0</td>\n",
              "      <td>6221.0</td>\n",
              "      <td>527.0</td>\n",
              "      <td>0.41</td>\n",
              "      <td>993.0</td>\n",
              "      <td>NaN</td>\n",
              "      <td>NaN</td>\n",
              "      <td>63.03</td>\n",
              "      <td>22825.0</td>\n",
              "      <td>NaN</td>\n",
              "    </tr>\n",
              "  </tbody>\n",
              "</table>\n",
              "<p>5 rows × 100 columns</p>\n",
              "</div>\n",
              "      <button class=\"colab-df-convert\" onclick=\"convertToInteractive('df-71af1141-6744-4e16-9ebd-bcaaaade930b')\"\n",
              "              title=\"Convert this dataframe to an interactive table.\"\n",
              "              style=\"display:none;\">\n",
              "        \n",
              "  <svg xmlns=\"http://www.w3.org/2000/svg\" height=\"24px\"viewBox=\"0 0 24 24\"\n",
              "       width=\"24px\">\n",
              "    <path d=\"M0 0h24v24H0V0z\" fill=\"none\"/>\n",
              "    <path d=\"M18.56 5.44l.94 2.06.94-2.06 2.06-.94-2.06-.94-.94-2.06-.94 2.06-2.06.94zm-11 1L8.5 8.5l.94-2.06 2.06-.94-2.06-.94L8.5 2.5l-.94 2.06-2.06.94zm10 10l.94 2.06.94-2.06 2.06-.94-2.06-.94-.94-2.06-.94 2.06-2.06.94z\"/><path d=\"M17.41 7.96l-1.37-1.37c-.4-.4-.92-.59-1.43-.59-.52 0-1.04.2-1.43.59L10.3 9.45l-7.72 7.72c-.78.78-.78 2.05 0 2.83L4 21.41c.39.39.9.59 1.41.59.51 0 1.02-.2 1.41-.59l7.78-7.78 2.81-2.81c.8-.78.8-2.07 0-2.86zM5.41 20L4 18.59l7.72-7.72 1.47 1.35L5.41 20z\"/>\n",
              "  </svg>\n",
              "      </button>\n",
              "      \n",
              "  <style>\n",
              "    .colab-df-container {\n",
              "      display:flex;\n",
              "      flex-wrap:wrap;\n",
              "      gap: 12px;\n",
              "    }\n",
              "\n",
              "    .colab-df-convert {\n",
              "      background-color: #E8F0FE;\n",
              "      border: none;\n",
              "      border-radius: 50%;\n",
              "      cursor: pointer;\n",
              "      display: none;\n",
              "      fill: #1967D2;\n",
              "      height: 32px;\n",
              "      padding: 0 0 0 0;\n",
              "      width: 32px;\n",
              "    }\n",
              "\n",
              "    .colab-df-convert:hover {\n",
              "      background-color: #E2EBFA;\n",
              "      box-shadow: 0px 1px 2px rgba(60, 64, 67, 0.3), 0px 1px 3px 1px rgba(60, 64, 67, 0.15);\n",
              "      fill: #174EA6;\n",
              "    }\n",
              "\n",
              "    [theme=dark] .colab-df-convert {\n",
              "      background-color: #3B4455;\n",
              "      fill: #D2E3FC;\n",
              "    }\n",
              "\n",
              "    [theme=dark] .colab-df-convert:hover {\n",
              "      background-color: #434B5C;\n",
              "      box-shadow: 0px 1px 3px 1px rgba(0, 0, 0, 0.15);\n",
              "      filter: drop-shadow(0px 1px 2px rgba(0, 0, 0, 0.3));\n",
              "      fill: #FFFFFF;\n",
              "    }\n",
              "  </style>\n",
              "\n",
              "      <script>\n",
              "        const buttonEl =\n",
              "          document.querySelector('#df-71af1141-6744-4e16-9ebd-bcaaaade930b button.colab-df-convert');\n",
              "        buttonEl.style.display =\n",
              "          google.colab.kernel.accessAllowed ? 'block' : 'none';\n",
              "\n",
              "        async function convertToInteractive(key) {\n",
              "          const element = document.querySelector('#df-71af1141-6744-4e16-9ebd-bcaaaade930b');\n",
              "          const dataTable =\n",
              "            await google.colab.kernel.invokeFunction('convertToInteractive',\n",
              "                                                     [key], {});\n",
              "          if (!dataTable) return;\n",
              "\n",
              "          const docLinkHtml = 'Like what you see? Visit the ' +\n",
              "            '<a target=\"_blank\" href=https://colab.research.google.com/notebooks/data_table.ipynb>data table notebook</a>'\n",
              "            + ' to learn more about interactive tables.';\n",
              "          element.innerHTML = '';\n",
              "          dataTable['output_type'] = 'display_data';\n",
              "          await google.colab.output.renderOutput(dataTable, element);\n",
              "          const docLink = document.createElement('div');\n",
              "          docLink.innerHTML = docLinkHtml;\n",
              "          element.appendChild(docLink);\n",
              "        }\n",
              "      </script>\n",
              "    </div>\n",
              "  </div>\n",
              "  "
            ],
            "text/plain": [
              "    timestamp  oil_urals  ...  apartment_build  apartment_fund_sqm\n",
              "0  2010-01-01       76.1  ...          22825.0                 NaN\n",
              "1  2010-01-02       76.1  ...          22825.0                 NaN\n",
              "2  2010-01-03       76.1  ...          22825.0                 NaN\n",
              "3  2010-01-04       76.1  ...          22825.0                 NaN\n",
              "4  2010-01-05       76.1  ...          22825.0                 NaN\n",
              "\n",
              "[5 rows x 100 columns]"
            ]
          },
          "metadata": {},
          "execution_count": 1841
        }
      ]
    },
    {
      "cell_type": "code",
      "source": [
        "macro.shape"
      ],
      "metadata": {
        "colab": {
          "base_uri": "https://localhost:8080/"
        },
        "id": "L0IPfa0QU7J3",
        "outputId": "21a5ca63-c8f5-448b-d83f-9f4a2f62763a"
      },
      "execution_count": 1842,
      "outputs": [
        {
          "output_type": "execute_result",
          "data": {
            "text/plain": [
              "(2484, 100)"
            ]
          },
          "metadata": {},
          "execution_count": 1842
        }
      ]
    },
    {
      "cell_type": "markdown",
      "source": [
        "Прежде чем производить соединение двух датафреймов, проработаю каждый из них - выявлю неинформативные колонки(от 40% пропусков) и удалю их.\n"
      ],
      "metadata": {
        "id": "c0RqQ2Tzrdc_"
      }
    },
    {
      "cell_type": "code",
      "source": [
        "for col in macro.columns:\n",
        "  print('{}: {}%'.format(col, round(np.mean(macro[col].isnull())*100)))"
      ],
      "metadata": {
        "colab": {
          "base_uri": "https://localhost:8080/"
        },
        "id": "Rp-Pd5jVhBWW",
        "outputId": "588b9ea4-ee57-4a35-e2ef-253db906fcf3"
      },
      "execution_count": 1843,
      "outputs": [
        {
          "output_type": "stream",
          "name": "stdout",
          "text": [
            "timestamp: 0%\n",
            "oil_urals: 0%\n",
            "gdp_quart: 4%\n",
            "gdp_quart_growth: 4%\n",
            "cpi: 1%\n",
            "ppi: 1%\n",
            "gdp_deflator: 15%\n",
            "balance_trade: 1%\n",
            "balance_trade_growth: 4%\n",
            "usdrub: 0%\n",
            "eurrub: 0%\n",
            "brent: 0%\n",
            "net_capital_export: 16%\n",
            "gdp_annual: 0%\n",
            "gdp_annual_growth: 0%\n",
            "average_provision_of_build_contract: 0%\n",
            "average_provision_of_build_contract_moscow: 15%\n",
            "rts: 0%\n",
            "micex: 0%\n",
            "micex_rgbi_tr: 0%\n",
            "micex_cbi_tr: 0%\n",
            "deposits_value: 0%\n",
            "deposits_growth: 1%\n",
            "deposits_rate: 17%\n",
            "mortgage_value: 0%\n",
            "mortgage_growth: 15%\n",
            "mortgage_rate: 0%\n",
            "grp: 26%\n",
            "grp_growth: 41%\n",
            "income_per_cap: 12%\n",
            "real_dispos_income_per_cap_growth: 26%\n",
            "salary: 12%\n",
            "salary_growth: 26%\n",
            "fixed_basket: 0%\n",
            "retail_trade_turnover: 12%\n",
            "retail_trade_turnover_per_cap: 12%\n",
            "retail_trade_turnover_growth: 12%\n",
            "labor_force: 12%\n",
            "unemployment: 12%\n",
            "employment: 12%\n",
            "invest_fixed_capital_per_cap: 12%\n",
            "invest_fixed_assets: 12%\n",
            "profitable_enterpr_share: 26%\n",
            "unprofitable_enterpr_share: 26%\n",
            "share_own_revenues: 26%\n",
            "overdue_wages_per_cap: 26%\n",
            "fin_res_per_cap: 26%\n",
            "marriages_per_1000_cap: 26%\n",
            "divorce_rate: 26%\n",
            "construction_value: 26%\n",
            "invest_fixed_assets_phys: 26%\n",
            "pop_natural_increase: 12%\n",
            "pop_migration: 26%\n",
            "pop_total_inc: 26%\n",
            "childbirth: 12%\n",
            "mortality: 12%\n",
            "housing_fund_sqm: 26%\n",
            "lodging_sqm_per_cap: 26%\n",
            "water_pipes_share: 26%\n",
            "baths_share: 26%\n",
            "sewerage_share: 26%\n",
            "gas_share: 26%\n",
            "hot_water_share: 26%\n",
            "electric_stove_share: 26%\n",
            "heating_share: 26%\n",
            "old_house_share: 26%\n",
            "average_life_exp: 12%\n",
            "infant_mortarity_per_1000_cap: 26%\n",
            "perinatal_mort_per_1000_cap: 26%\n",
            "incidence_population: 26%\n",
            "rent_price_4+room_bus: 11%\n",
            "rent_price_3room_bus: 11%\n",
            "rent_price_2room_bus: 11%\n",
            "rent_price_1room_bus: 11%\n",
            "rent_price_3room_eco: 11%\n",
            "rent_price_2room_eco: 11%\n",
            "rent_price_1room_eco: 11%\n",
            "load_of_teachers_preschool_per_teacher: 41%\n",
            "child_on_acc_pre_school: 26%\n",
            "load_of_teachers_school_per_teacher: 12%\n",
            "students_state_oneshift: 26%\n",
            "modern_education_share: 56%\n",
            "old_education_build_share: 56%\n",
            "provision_doctors: 26%\n",
            "provision_nurse: 12%\n",
            "load_on_doctors: 12%\n",
            "power_clinics: 26%\n",
            "hospital_beds_available_per_cap: 41%\n",
            "hospital_bed_occupancy_per_year: 41%\n",
            "provision_retail_space_sqm: 71%\n",
            "provision_retail_space_modern_sqm: 71%\n",
            "turnover_catering_per_cap: 12%\n",
            "theaters_viewers_per_1000_cap: 41%\n",
            "seats_theather_rfmin_per_100000_cap: 12%\n",
            "museum_visitis_per_100_cap: 41%\n",
            "bandwidth_sports: 26%\n",
            "population_reg_sports_share: 41%\n",
            "students_reg_sports_share: 41%\n",
            "apartment_build: 26%\n",
            "apartment_fund_sqm: 26%\n"
          ]
        }
      ]
    },
    {
      "cell_type": "code",
      "source": [
        "macro = macro.drop(['load_of_teachers_preschool_per_teacher','modern_education_share','old_education_build_share','hospital_beds_available_per_cap'], axis = 1)\n",
        "macro = macro.drop(['hospital_bed_occupancy_per_year','provision_retail_space_sqm','provision_retail_space_modern_sqm','theaters_viewers_per_1000_cap'], axis = 1)\n",
        "macro = macro.drop(['museum_visitis_per_100_cap','population_reg_sports_share','students_reg_sports_share'], axis = 1)"
      ],
      "metadata": {
        "id": "KOeFPI6csF0P"
      },
      "execution_count": 1844,
      "outputs": []
    },
    {
      "cell_type": "code",
      "source": [
        "macro = macro.drop(['grp_growth'],axis = 1)"
      ],
      "metadata": {
        "id": "PT_-Hf2GtcWG"
      },
      "execution_count": 1845,
      "outputs": []
    },
    {
      "cell_type": "code",
      "source": [
        "macro.shape"
      ],
      "metadata": {
        "colab": {
          "base_uri": "https://localhost:8080/"
        },
        "id": "t9NzLEZNtH7J",
        "outputId": "08aa8d4f-58b4-4eb4-9f00-7b0d46eb8d15"
      },
      "execution_count": 1846,
      "outputs": [
        {
          "output_type": "execute_result",
          "data": {
            "text/plain": [
              "(2484, 88)"
            ]
          },
          "metadata": {},
          "execution_count": 1846
        }
      ]
    },
    {
      "cell_type": "markdown",
      "source": [
        "Второй датафрейм train."
      ],
      "metadata": {
        "id": "-UBvUx5JuVdv"
      }
    },
    {
      "cell_type": "code",
      "source": [
        "train = pd.read_csv('/content/drive/MyDrive/Colab Notebooks/train.csv')\n",
        "train.head()"
      ],
      "metadata": {
        "colab": {
          "base_uri": "https://localhost:8080/",
          "height": 386
        },
        "id": "ZcugC21aVBgS",
        "outputId": "83bfe1d4-4894-4598-cb06-876232e9c9e6"
      },
      "execution_count": 1847,
      "outputs": [
        {
          "output_type": "execute_result",
          "data": {
            "text/html": [
              "\n",
              "  <div id=\"df-da5ebf22-43be-4a04-ae66-76e383210b83\">\n",
              "    <div class=\"colab-df-container\">\n",
              "      <div>\n",
              "<style scoped>\n",
              "    .dataframe tbody tr th:only-of-type {\n",
              "        vertical-align: middle;\n",
              "    }\n",
              "\n",
              "    .dataframe tbody tr th {\n",
              "        vertical-align: top;\n",
              "    }\n",
              "\n",
              "    .dataframe thead th {\n",
              "        text-align: right;\n",
              "    }\n",
              "</style>\n",
              "<table border=\"1\" class=\"dataframe\">\n",
              "  <thead>\n",
              "    <tr style=\"text-align: right;\">\n",
              "      <th></th>\n",
              "      <th>id</th>\n",
              "      <th>timestamp</th>\n",
              "      <th>full_sq</th>\n",
              "      <th>life_sq</th>\n",
              "      <th>floor</th>\n",
              "      <th>max_floor</th>\n",
              "      <th>material</th>\n",
              "      <th>build_year</th>\n",
              "      <th>num_room</th>\n",
              "      <th>kitch_sq</th>\n",
              "      <th>state</th>\n",
              "      <th>product_type</th>\n",
              "      <th>sub_area</th>\n",
              "      <th>area_m</th>\n",
              "      <th>raion_popul</th>\n",
              "      <th>green_zone_part</th>\n",
              "      <th>indust_part</th>\n",
              "      <th>children_preschool</th>\n",
              "      <th>preschool_quota</th>\n",
              "      <th>preschool_education_centers_raion</th>\n",
              "      <th>children_school</th>\n",
              "      <th>school_quota</th>\n",
              "      <th>school_education_centers_raion</th>\n",
              "      <th>school_education_centers_top_20_raion</th>\n",
              "      <th>hospital_beds_raion</th>\n",
              "      <th>healthcare_centers_raion</th>\n",
              "      <th>university_top_20_raion</th>\n",
              "      <th>sport_objects_raion</th>\n",
              "      <th>additional_education_raion</th>\n",
              "      <th>culture_objects_top_25</th>\n",
              "      <th>culture_objects_top_25_raion</th>\n",
              "      <th>shopping_centers_raion</th>\n",
              "      <th>office_raion</th>\n",
              "      <th>thermal_power_plant_raion</th>\n",
              "      <th>incineration_raion</th>\n",
              "      <th>oil_chemistry_raion</th>\n",
              "      <th>radiation_raion</th>\n",
              "      <th>railroad_terminal_raion</th>\n",
              "      <th>big_market_raion</th>\n",
              "      <th>nuclear_reactor_raion</th>\n",
              "      <th>...</th>\n",
              "      <th>cafe_sum_3000_min_price_avg</th>\n",
              "      <th>cafe_sum_3000_max_price_avg</th>\n",
              "      <th>cafe_avg_price_3000</th>\n",
              "      <th>cafe_count_3000_na_price</th>\n",
              "      <th>cafe_count_3000_price_500</th>\n",
              "      <th>cafe_count_3000_price_1000</th>\n",
              "      <th>cafe_count_3000_price_1500</th>\n",
              "      <th>cafe_count_3000_price_2500</th>\n",
              "      <th>cafe_count_3000_price_4000</th>\n",
              "      <th>cafe_count_3000_price_high</th>\n",
              "      <th>big_church_count_3000</th>\n",
              "      <th>church_count_3000</th>\n",
              "      <th>mosque_count_3000</th>\n",
              "      <th>leisure_count_3000</th>\n",
              "      <th>sport_count_3000</th>\n",
              "      <th>market_count_3000</th>\n",
              "      <th>green_part_5000</th>\n",
              "      <th>prom_part_5000</th>\n",
              "      <th>office_count_5000</th>\n",
              "      <th>office_sqm_5000</th>\n",
              "      <th>trc_count_5000</th>\n",
              "      <th>trc_sqm_5000</th>\n",
              "      <th>cafe_count_5000</th>\n",
              "      <th>cafe_sum_5000_min_price_avg</th>\n",
              "      <th>cafe_sum_5000_max_price_avg</th>\n",
              "      <th>cafe_avg_price_5000</th>\n",
              "      <th>cafe_count_5000_na_price</th>\n",
              "      <th>cafe_count_5000_price_500</th>\n",
              "      <th>cafe_count_5000_price_1000</th>\n",
              "      <th>cafe_count_5000_price_1500</th>\n",
              "      <th>cafe_count_5000_price_2500</th>\n",
              "      <th>cafe_count_5000_price_4000</th>\n",
              "      <th>cafe_count_5000_price_high</th>\n",
              "      <th>big_church_count_5000</th>\n",
              "      <th>church_count_5000</th>\n",
              "      <th>mosque_count_5000</th>\n",
              "      <th>leisure_count_5000</th>\n",
              "      <th>sport_count_5000</th>\n",
              "      <th>market_count_5000</th>\n",
              "      <th>price_doc</th>\n",
              "    </tr>\n",
              "  </thead>\n",
              "  <tbody>\n",
              "    <tr>\n",
              "      <th>0</th>\n",
              "      <td>1</td>\n",
              "      <td>2011-08-20</td>\n",
              "      <td>43</td>\n",
              "      <td>27.0</td>\n",
              "      <td>4.0</td>\n",
              "      <td>NaN</td>\n",
              "      <td>NaN</td>\n",
              "      <td>NaN</td>\n",
              "      <td>NaN</td>\n",
              "      <td>NaN</td>\n",
              "      <td>NaN</td>\n",
              "      <td>Investment</td>\n",
              "      <td>Bibirevo</td>\n",
              "      <td>6.407578e+06</td>\n",
              "      <td>155572</td>\n",
              "      <td>0.189727</td>\n",
              "      <td>0.000070</td>\n",
              "      <td>9576</td>\n",
              "      <td>5001.0</td>\n",
              "      <td>5</td>\n",
              "      <td>10309</td>\n",
              "      <td>11065.0</td>\n",
              "      <td>5</td>\n",
              "      <td>0</td>\n",
              "      <td>240.0</td>\n",
              "      <td>1</td>\n",
              "      <td>0</td>\n",
              "      <td>7</td>\n",
              "      <td>3</td>\n",
              "      <td>no</td>\n",
              "      <td>0</td>\n",
              "      <td>16</td>\n",
              "      <td>1</td>\n",
              "      <td>no</td>\n",
              "      <td>no</td>\n",
              "      <td>no</td>\n",
              "      <td>no</td>\n",
              "      <td>no</td>\n",
              "      <td>no</td>\n",
              "      <td>no</td>\n",
              "      <td>...</td>\n",
              "      <td>639.68</td>\n",
              "      <td>1079.37</td>\n",
              "      <td>859.52</td>\n",
              "      <td>5</td>\n",
              "      <td>21</td>\n",
              "      <td>22</td>\n",
              "      <td>16</td>\n",
              "      <td>3</td>\n",
              "      <td>1</td>\n",
              "      <td>0</td>\n",
              "      <td>2</td>\n",
              "      <td>4</td>\n",
              "      <td>0</td>\n",
              "      <td>0</td>\n",
              "      <td>21</td>\n",
              "      <td>1</td>\n",
              "      <td>13.09</td>\n",
              "      <td>13.31</td>\n",
              "      <td>29</td>\n",
              "      <td>807385</td>\n",
              "      <td>52</td>\n",
              "      <td>4036616</td>\n",
              "      <td>152</td>\n",
              "      <td>708.57</td>\n",
              "      <td>1185.71</td>\n",
              "      <td>947.14</td>\n",
              "      <td>12</td>\n",
              "      <td>39</td>\n",
              "      <td>48</td>\n",
              "      <td>40</td>\n",
              "      <td>9</td>\n",
              "      <td>4</td>\n",
              "      <td>0</td>\n",
              "      <td>13</td>\n",
              "      <td>22</td>\n",
              "      <td>1</td>\n",
              "      <td>0</td>\n",
              "      <td>52</td>\n",
              "      <td>4</td>\n",
              "      <td>5850000</td>\n",
              "    </tr>\n",
              "    <tr>\n",
              "      <th>1</th>\n",
              "      <td>2</td>\n",
              "      <td>2011-08-23</td>\n",
              "      <td>34</td>\n",
              "      <td>19.0</td>\n",
              "      <td>3.0</td>\n",
              "      <td>NaN</td>\n",
              "      <td>NaN</td>\n",
              "      <td>NaN</td>\n",
              "      <td>NaN</td>\n",
              "      <td>NaN</td>\n",
              "      <td>NaN</td>\n",
              "      <td>Investment</td>\n",
              "      <td>Nagatinskij Zaton</td>\n",
              "      <td>9.589337e+06</td>\n",
              "      <td>115352</td>\n",
              "      <td>0.372602</td>\n",
              "      <td>0.049637</td>\n",
              "      <td>6880</td>\n",
              "      <td>3119.0</td>\n",
              "      <td>5</td>\n",
              "      <td>7759</td>\n",
              "      <td>6237.0</td>\n",
              "      <td>8</td>\n",
              "      <td>0</td>\n",
              "      <td>229.0</td>\n",
              "      <td>1</td>\n",
              "      <td>0</td>\n",
              "      <td>6</td>\n",
              "      <td>1</td>\n",
              "      <td>yes</td>\n",
              "      <td>1</td>\n",
              "      <td>3</td>\n",
              "      <td>0</td>\n",
              "      <td>no</td>\n",
              "      <td>no</td>\n",
              "      <td>no</td>\n",
              "      <td>no</td>\n",
              "      <td>no</td>\n",
              "      <td>no</td>\n",
              "      <td>no</td>\n",
              "      <td>...</td>\n",
              "      <td>631.03</td>\n",
              "      <td>1086.21</td>\n",
              "      <td>858.62</td>\n",
              "      <td>1</td>\n",
              "      <td>11</td>\n",
              "      <td>11</td>\n",
              "      <td>4</td>\n",
              "      <td>2</td>\n",
              "      <td>1</td>\n",
              "      <td>0</td>\n",
              "      <td>1</td>\n",
              "      <td>7</td>\n",
              "      <td>0</td>\n",
              "      <td>6</td>\n",
              "      <td>19</td>\n",
              "      <td>1</td>\n",
              "      <td>10.26</td>\n",
              "      <td>27.47</td>\n",
              "      <td>66</td>\n",
              "      <td>2690465</td>\n",
              "      <td>40</td>\n",
              "      <td>2034942</td>\n",
              "      <td>177</td>\n",
              "      <td>673.81</td>\n",
              "      <td>1148.81</td>\n",
              "      <td>911.31</td>\n",
              "      <td>9</td>\n",
              "      <td>49</td>\n",
              "      <td>65</td>\n",
              "      <td>36</td>\n",
              "      <td>15</td>\n",
              "      <td>3</td>\n",
              "      <td>0</td>\n",
              "      <td>15</td>\n",
              "      <td>29</td>\n",
              "      <td>1</td>\n",
              "      <td>10</td>\n",
              "      <td>66</td>\n",
              "      <td>14</td>\n",
              "      <td>6000000</td>\n",
              "    </tr>\n",
              "    <tr>\n",
              "      <th>2</th>\n",
              "      <td>3</td>\n",
              "      <td>2011-08-27</td>\n",
              "      <td>43</td>\n",
              "      <td>29.0</td>\n",
              "      <td>2.0</td>\n",
              "      <td>NaN</td>\n",
              "      <td>NaN</td>\n",
              "      <td>NaN</td>\n",
              "      <td>NaN</td>\n",
              "      <td>NaN</td>\n",
              "      <td>NaN</td>\n",
              "      <td>Investment</td>\n",
              "      <td>Tekstil'shhiki</td>\n",
              "      <td>4.808270e+06</td>\n",
              "      <td>101708</td>\n",
              "      <td>0.112560</td>\n",
              "      <td>0.118537</td>\n",
              "      <td>5879</td>\n",
              "      <td>1463.0</td>\n",
              "      <td>4</td>\n",
              "      <td>6207</td>\n",
              "      <td>5580.0</td>\n",
              "      <td>7</td>\n",
              "      <td>0</td>\n",
              "      <td>1183.0</td>\n",
              "      <td>1</td>\n",
              "      <td>0</td>\n",
              "      <td>5</td>\n",
              "      <td>1</td>\n",
              "      <td>no</td>\n",
              "      <td>0</td>\n",
              "      <td>0</td>\n",
              "      <td>1</td>\n",
              "      <td>no</td>\n",
              "      <td>no</td>\n",
              "      <td>no</td>\n",
              "      <td>yes</td>\n",
              "      <td>no</td>\n",
              "      <td>no</td>\n",
              "      <td>no</td>\n",
              "      <td>...</td>\n",
              "      <td>697.44</td>\n",
              "      <td>1192.31</td>\n",
              "      <td>944.87</td>\n",
              "      <td>2</td>\n",
              "      <td>9</td>\n",
              "      <td>17</td>\n",
              "      <td>9</td>\n",
              "      <td>3</td>\n",
              "      <td>1</td>\n",
              "      <td>0</td>\n",
              "      <td>0</td>\n",
              "      <td>11</td>\n",
              "      <td>0</td>\n",
              "      <td>0</td>\n",
              "      <td>20</td>\n",
              "      <td>6</td>\n",
              "      <td>13.69</td>\n",
              "      <td>21.58</td>\n",
              "      <td>43</td>\n",
              "      <td>1478160</td>\n",
              "      <td>35</td>\n",
              "      <td>1572990</td>\n",
              "      <td>122</td>\n",
              "      <td>702.68</td>\n",
              "      <td>1196.43</td>\n",
              "      <td>949.55</td>\n",
              "      <td>10</td>\n",
              "      <td>29</td>\n",
              "      <td>45</td>\n",
              "      <td>25</td>\n",
              "      <td>10</td>\n",
              "      <td>3</td>\n",
              "      <td>0</td>\n",
              "      <td>11</td>\n",
              "      <td>27</td>\n",
              "      <td>0</td>\n",
              "      <td>4</td>\n",
              "      <td>67</td>\n",
              "      <td>10</td>\n",
              "      <td>5700000</td>\n",
              "    </tr>\n",
              "    <tr>\n",
              "      <th>3</th>\n",
              "      <td>4</td>\n",
              "      <td>2011-09-01</td>\n",
              "      <td>89</td>\n",
              "      <td>50.0</td>\n",
              "      <td>9.0</td>\n",
              "      <td>NaN</td>\n",
              "      <td>NaN</td>\n",
              "      <td>NaN</td>\n",
              "      <td>NaN</td>\n",
              "      <td>NaN</td>\n",
              "      <td>NaN</td>\n",
              "      <td>Investment</td>\n",
              "      <td>Mitino</td>\n",
              "      <td>1.258354e+07</td>\n",
              "      <td>178473</td>\n",
              "      <td>0.194703</td>\n",
              "      <td>0.069753</td>\n",
              "      <td>13087</td>\n",
              "      <td>6839.0</td>\n",
              "      <td>9</td>\n",
              "      <td>13670</td>\n",
              "      <td>17063.0</td>\n",
              "      <td>10</td>\n",
              "      <td>0</td>\n",
              "      <td>NaN</td>\n",
              "      <td>1</td>\n",
              "      <td>0</td>\n",
              "      <td>17</td>\n",
              "      <td>6</td>\n",
              "      <td>no</td>\n",
              "      <td>0</td>\n",
              "      <td>11</td>\n",
              "      <td>4</td>\n",
              "      <td>no</td>\n",
              "      <td>no</td>\n",
              "      <td>no</td>\n",
              "      <td>no</td>\n",
              "      <td>no</td>\n",
              "      <td>no</td>\n",
              "      <td>no</td>\n",
              "      <td>...</td>\n",
              "      <td>718.75</td>\n",
              "      <td>1218.75</td>\n",
              "      <td>968.75</td>\n",
              "      <td>0</td>\n",
              "      <td>5</td>\n",
              "      <td>14</td>\n",
              "      <td>10</td>\n",
              "      <td>3</td>\n",
              "      <td>0</td>\n",
              "      <td>0</td>\n",
              "      <td>1</td>\n",
              "      <td>2</td>\n",
              "      <td>0</td>\n",
              "      <td>0</td>\n",
              "      <td>18</td>\n",
              "      <td>3</td>\n",
              "      <td>14.18</td>\n",
              "      <td>3.89</td>\n",
              "      <td>8</td>\n",
              "      <td>244166</td>\n",
              "      <td>22</td>\n",
              "      <td>942180</td>\n",
              "      <td>61</td>\n",
              "      <td>931.58</td>\n",
              "      <td>1552.63</td>\n",
              "      <td>1242.11</td>\n",
              "      <td>4</td>\n",
              "      <td>7</td>\n",
              "      <td>21</td>\n",
              "      <td>15</td>\n",
              "      <td>11</td>\n",
              "      <td>2</td>\n",
              "      <td>1</td>\n",
              "      <td>4</td>\n",
              "      <td>4</td>\n",
              "      <td>0</td>\n",
              "      <td>0</td>\n",
              "      <td>26</td>\n",
              "      <td>3</td>\n",
              "      <td>13100000</td>\n",
              "    </tr>\n",
              "    <tr>\n",
              "      <th>4</th>\n",
              "      <td>5</td>\n",
              "      <td>2011-09-05</td>\n",
              "      <td>77</td>\n",
              "      <td>77.0</td>\n",
              "      <td>4.0</td>\n",
              "      <td>NaN</td>\n",
              "      <td>NaN</td>\n",
              "      <td>NaN</td>\n",
              "      <td>NaN</td>\n",
              "      <td>NaN</td>\n",
              "      <td>NaN</td>\n",
              "      <td>Investment</td>\n",
              "      <td>Basmannoe</td>\n",
              "      <td>8.398461e+06</td>\n",
              "      <td>108171</td>\n",
              "      <td>0.015234</td>\n",
              "      <td>0.037316</td>\n",
              "      <td>5706</td>\n",
              "      <td>3240.0</td>\n",
              "      <td>7</td>\n",
              "      <td>6748</td>\n",
              "      <td>7770.0</td>\n",
              "      <td>9</td>\n",
              "      <td>0</td>\n",
              "      <td>562.0</td>\n",
              "      <td>4</td>\n",
              "      <td>2</td>\n",
              "      <td>25</td>\n",
              "      <td>2</td>\n",
              "      <td>no</td>\n",
              "      <td>0</td>\n",
              "      <td>10</td>\n",
              "      <td>93</td>\n",
              "      <td>no</td>\n",
              "      <td>no</td>\n",
              "      <td>no</td>\n",
              "      <td>yes</td>\n",
              "      <td>yes</td>\n",
              "      <td>no</td>\n",
              "      <td>no</td>\n",
              "      <td>...</td>\n",
              "      <td>853.03</td>\n",
              "      <td>1410.45</td>\n",
              "      <td>1131.74</td>\n",
              "      <td>63</td>\n",
              "      <td>266</td>\n",
              "      <td>267</td>\n",
              "      <td>262</td>\n",
              "      <td>149</td>\n",
              "      <td>57</td>\n",
              "      <td>4</td>\n",
              "      <td>70</td>\n",
              "      <td>121</td>\n",
              "      <td>1</td>\n",
              "      <td>40</td>\n",
              "      <td>77</td>\n",
              "      <td>5</td>\n",
              "      <td>8.38</td>\n",
              "      <td>10.92</td>\n",
              "      <td>689</td>\n",
              "      <td>8404624</td>\n",
              "      <td>114</td>\n",
              "      <td>3503058</td>\n",
              "      <td>2283</td>\n",
              "      <td>853.88</td>\n",
              "      <td>1411.45</td>\n",
              "      <td>1132.66</td>\n",
              "      <td>143</td>\n",
              "      <td>566</td>\n",
              "      <td>578</td>\n",
              "      <td>552</td>\n",
              "      <td>319</td>\n",
              "      <td>108</td>\n",
              "      <td>17</td>\n",
              "      <td>135</td>\n",
              "      <td>236</td>\n",
              "      <td>2</td>\n",
              "      <td>91</td>\n",
              "      <td>195</td>\n",
              "      <td>14</td>\n",
              "      <td>16331452</td>\n",
              "    </tr>\n",
              "  </tbody>\n",
              "</table>\n",
              "<p>5 rows × 292 columns</p>\n",
              "</div>\n",
              "      <button class=\"colab-df-convert\" onclick=\"convertToInteractive('df-da5ebf22-43be-4a04-ae66-76e383210b83')\"\n",
              "              title=\"Convert this dataframe to an interactive table.\"\n",
              "              style=\"display:none;\">\n",
              "        \n",
              "  <svg xmlns=\"http://www.w3.org/2000/svg\" height=\"24px\"viewBox=\"0 0 24 24\"\n",
              "       width=\"24px\">\n",
              "    <path d=\"M0 0h24v24H0V0z\" fill=\"none\"/>\n",
              "    <path d=\"M18.56 5.44l.94 2.06.94-2.06 2.06-.94-2.06-.94-.94-2.06-.94 2.06-2.06.94zm-11 1L8.5 8.5l.94-2.06 2.06-.94-2.06-.94L8.5 2.5l-.94 2.06-2.06.94zm10 10l.94 2.06.94-2.06 2.06-.94-2.06-.94-.94-2.06-.94 2.06-2.06.94z\"/><path d=\"M17.41 7.96l-1.37-1.37c-.4-.4-.92-.59-1.43-.59-.52 0-1.04.2-1.43.59L10.3 9.45l-7.72 7.72c-.78.78-.78 2.05 0 2.83L4 21.41c.39.39.9.59 1.41.59.51 0 1.02-.2 1.41-.59l7.78-7.78 2.81-2.81c.8-.78.8-2.07 0-2.86zM5.41 20L4 18.59l7.72-7.72 1.47 1.35L5.41 20z\"/>\n",
              "  </svg>\n",
              "      </button>\n",
              "      \n",
              "  <style>\n",
              "    .colab-df-container {\n",
              "      display:flex;\n",
              "      flex-wrap:wrap;\n",
              "      gap: 12px;\n",
              "    }\n",
              "\n",
              "    .colab-df-convert {\n",
              "      background-color: #E8F0FE;\n",
              "      border: none;\n",
              "      border-radius: 50%;\n",
              "      cursor: pointer;\n",
              "      display: none;\n",
              "      fill: #1967D2;\n",
              "      height: 32px;\n",
              "      padding: 0 0 0 0;\n",
              "      width: 32px;\n",
              "    }\n",
              "\n",
              "    .colab-df-convert:hover {\n",
              "      background-color: #E2EBFA;\n",
              "      box-shadow: 0px 1px 2px rgba(60, 64, 67, 0.3), 0px 1px 3px 1px rgba(60, 64, 67, 0.15);\n",
              "      fill: #174EA6;\n",
              "    }\n",
              "\n",
              "    [theme=dark] .colab-df-convert {\n",
              "      background-color: #3B4455;\n",
              "      fill: #D2E3FC;\n",
              "    }\n",
              "\n",
              "    [theme=dark] .colab-df-convert:hover {\n",
              "      background-color: #434B5C;\n",
              "      box-shadow: 0px 1px 3px 1px rgba(0, 0, 0, 0.15);\n",
              "      filter: drop-shadow(0px 1px 2px rgba(0, 0, 0, 0.3));\n",
              "      fill: #FFFFFF;\n",
              "    }\n",
              "  </style>\n",
              "\n",
              "      <script>\n",
              "        const buttonEl =\n",
              "          document.querySelector('#df-da5ebf22-43be-4a04-ae66-76e383210b83 button.colab-df-convert');\n",
              "        buttonEl.style.display =\n",
              "          google.colab.kernel.accessAllowed ? 'block' : 'none';\n",
              "\n",
              "        async function convertToInteractive(key) {\n",
              "          const element = document.querySelector('#df-da5ebf22-43be-4a04-ae66-76e383210b83');\n",
              "          const dataTable =\n",
              "            await google.colab.kernel.invokeFunction('convertToInteractive',\n",
              "                                                     [key], {});\n",
              "          if (!dataTable) return;\n",
              "\n",
              "          const docLinkHtml = 'Like what you see? Visit the ' +\n",
              "            '<a target=\"_blank\" href=https://colab.research.google.com/notebooks/data_table.ipynb>data table notebook</a>'\n",
              "            + ' to learn more about interactive tables.';\n",
              "          element.innerHTML = '';\n",
              "          dataTable['output_type'] = 'display_data';\n",
              "          await google.colab.output.renderOutput(dataTable, element);\n",
              "          const docLink = document.createElement('div');\n",
              "          docLink.innerHTML = docLinkHtml;\n",
              "          element.appendChild(docLink);\n",
              "        }\n",
              "      </script>\n",
              "    </div>\n",
              "  </div>\n",
              "  "
            ],
            "text/plain": [
              "   id   timestamp  full_sq  ...  sport_count_5000  market_count_5000  price_doc\n",
              "0   1  2011-08-20       43  ...                52                  4    5850000\n",
              "1   2  2011-08-23       34  ...                66                 14    6000000\n",
              "2   3  2011-08-27       43  ...                67                 10    5700000\n",
              "3   4  2011-09-01       89  ...                26                  3   13100000\n",
              "4   5  2011-09-05       77  ...               195                 14   16331452\n",
              "\n",
              "[5 rows x 292 columns]"
            ]
          },
          "metadata": {},
          "execution_count": 1847
        }
      ]
    },
    {
      "cell_type": "code",
      "source": [
        "train.shape"
      ],
      "metadata": {
        "colab": {
          "base_uri": "https://localhost:8080/"
        },
        "id": "Pe9hTQMuVM4J",
        "outputId": "f801704e-6828-41fb-b4d3-b20fac0b1797"
      },
      "execution_count": 1848,
      "outputs": [
        {
          "output_type": "execute_result",
          "data": {
            "text/plain": [
              "(30471, 292)"
            ]
          },
          "metadata": {},
          "execution_count": 1848
        }
      ]
    },
    {
      "cell_type": "code",
      "source": [
        "for col in train.columns:\n",
        "  print('{}: {}%'.format(col, round(np.mean(train[col].isnull())*100)))"
      ],
      "metadata": {
        "colab": {
          "base_uri": "https://localhost:8080/"
        },
        "id": "BmD5BqCVgaOa",
        "outputId": "44ff4a83-3ccf-4d75-a5eb-e894a1d2d7cf"
      },
      "execution_count": 1849,
      "outputs": [
        {
          "output_type": "stream",
          "name": "stdout",
          "text": [
            "id: 0%\n",
            "timestamp: 0%\n",
            "full_sq: 0%\n",
            "life_sq: 21%\n",
            "floor: 1%\n",
            "max_floor: 31%\n",
            "material: 31%\n",
            "build_year: 45%\n",
            "num_room: 31%\n",
            "kitch_sq: 31%\n",
            "state: 44%\n",
            "product_type: 0%\n",
            "sub_area: 0%\n",
            "area_m: 0%\n",
            "raion_popul: 0%\n",
            "green_zone_part: 0%\n",
            "indust_part: 0%\n",
            "children_preschool: 0%\n",
            "preschool_quota: 22%\n",
            "preschool_education_centers_raion: 0%\n",
            "children_school: 0%\n",
            "school_quota: 22%\n",
            "school_education_centers_raion: 0%\n",
            "school_education_centers_top_20_raion: 0%\n",
            "hospital_beds_raion: 47%\n",
            "healthcare_centers_raion: 0%\n",
            "university_top_20_raion: 0%\n",
            "sport_objects_raion: 0%\n",
            "additional_education_raion: 0%\n",
            "culture_objects_top_25: 0%\n",
            "culture_objects_top_25_raion: 0%\n",
            "shopping_centers_raion: 0%\n",
            "office_raion: 0%\n",
            "thermal_power_plant_raion: 0%\n",
            "incineration_raion: 0%\n",
            "oil_chemistry_raion: 0%\n",
            "radiation_raion: 0%\n",
            "railroad_terminal_raion: 0%\n",
            "big_market_raion: 0%\n",
            "nuclear_reactor_raion: 0%\n",
            "detention_facility_raion: 0%\n",
            "full_all: 0%\n",
            "male_f: 0%\n",
            "female_f: 0%\n",
            "young_all: 0%\n",
            "young_male: 0%\n",
            "young_female: 0%\n",
            "work_all: 0%\n",
            "work_male: 0%\n",
            "work_female: 0%\n",
            "ekder_all: 0%\n",
            "ekder_male: 0%\n",
            "ekder_female: 0%\n",
            "0_6_all: 0%\n",
            "0_6_male: 0%\n",
            "0_6_female: 0%\n",
            "7_14_all: 0%\n",
            "7_14_male: 0%\n",
            "7_14_female: 0%\n",
            "0_17_all: 0%\n",
            "0_17_male: 0%\n",
            "0_17_female: 0%\n",
            "16_29_all: 0%\n",
            "16_29_male: 0%\n",
            "16_29_female: 0%\n",
            "0_13_all: 0%\n",
            "0_13_male: 0%\n",
            "0_13_female: 0%\n",
            "raion_build_count_with_material_info: 16%\n",
            "build_count_block: 16%\n",
            "build_count_wood: 16%\n",
            "build_count_frame: 16%\n",
            "build_count_brick: 16%\n",
            "build_count_monolith: 16%\n",
            "build_count_panel: 16%\n",
            "build_count_foam: 16%\n",
            "build_count_slag: 16%\n",
            "build_count_mix: 16%\n",
            "raion_build_count_with_builddate_info: 16%\n",
            "build_count_before_1920: 16%\n",
            "build_count_1921-1945: 16%\n",
            "build_count_1946-1970: 16%\n",
            "build_count_1971-1995: 16%\n",
            "build_count_after_1995: 16%\n",
            "ID_metro: 0%\n",
            "metro_min_avto: 0%\n",
            "metro_km_avto: 0%\n",
            "metro_min_walk: 0%\n",
            "metro_km_walk: 0%\n",
            "kindergarten_km: 0%\n",
            "school_km: 0%\n",
            "park_km: 0%\n",
            "green_zone_km: 0%\n",
            "industrial_km: 0%\n",
            "water_treatment_km: 0%\n",
            "cemetery_km: 0%\n",
            "incineration_km: 0%\n",
            "railroad_station_walk_km: 0%\n",
            "railroad_station_walk_min: 0%\n",
            "ID_railroad_station_walk: 0%\n",
            "railroad_station_avto_km: 0%\n",
            "railroad_station_avto_min: 0%\n",
            "ID_railroad_station_avto: 0%\n",
            "public_transport_station_km: 0%\n",
            "public_transport_station_min_walk: 0%\n",
            "water_km: 0%\n",
            "water_1line: 0%\n",
            "mkad_km: 0%\n",
            "ttk_km: 0%\n",
            "sadovoe_km: 0%\n",
            "bulvar_ring_km: 0%\n",
            "kremlin_km: 0%\n",
            "big_road1_km: 0%\n",
            "ID_big_road1: 0%\n",
            "big_road1_1line: 0%\n",
            "big_road2_km: 0%\n",
            "ID_big_road2: 0%\n",
            "railroad_km: 0%\n",
            "railroad_1line: 0%\n",
            "zd_vokzaly_avto_km: 0%\n",
            "ID_railroad_terminal: 0%\n",
            "bus_terminal_avto_km: 0%\n",
            "ID_bus_terminal: 0%\n",
            "oil_chemistry_km: 0%\n",
            "nuclear_reactor_km: 0%\n",
            "radiation_km: 0%\n",
            "power_transmission_line_km: 0%\n",
            "thermal_power_plant_km: 0%\n",
            "ts_km: 0%\n",
            "big_market_km: 0%\n",
            "market_shop_km: 0%\n",
            "fitness_km: 0%\n",
            "swim_pool_km: 0%\n",
            "ice_rink_km: 0%\n",
            "stadium_km: 0%\n",
            "basketball_km: 0%\n",
            "hospice_morgue_km: 0%\n",
            "detention_facility_km: 0%\n",
            "public_healthcare_km: 0%\n",
            "university_km: 0%\n",
            "workplaces_km: 0%\n",
            "shopping_centers_km: 0%\n",
            "office_km: 0%\n",
            "additional_education_km: 0%\n",
            "preschool_km: 0%\n",
            "big_church_km: 0%\n",
            "church_synagogue_km: 0%\n",
            "mosque_km: 0%\n",
            "theater_km: 0%\n",
            "museum_km: 0%\n",
            "exhibition_km: 0%\n",
            "catering_km: 0%\n",
            "ecology: 0%\n",
            "green_part_500: 0%\n",
            "prom_part_500: 0%\n",
            "office_count_500: 0%\n",
            "office_sqm_500: 0%\n",
            "trc_count_500: 0%\n",
            "trc_sqm_500: 0%\n",
            "cafe_count_500: 0%\n",
            "cafe_sum_500_min_price_avg: 44%\n",
            "cafe_sum_500_max_price_avg: 44%\n",
            "cafe_avg_price_500: 44%\n",
            "cafe_count_500_na_price: 0%\n",
            "cafe_count_500_price_500: 0%\n",
            "cafe_count_500_price_1000: 0%\n",
            "cafe_count_500_price_1500: 0%\n",
            "cafe_count_500_price_2500: 0%\n",
            "cafe_count_500_price_4000: 0%\n",
            "cafe_count_500_price_high: 0%\n",
            "big_church_count_500: 0%\n",
            "church_count_500: 0%\n",
            "mosque_count_500: 0%\n",
            "leisure_count_500: 0%\n",
            "sport_count_500: 0%\n",
            "market_count_500: 0%\n",
            "green_part_1000: 0%\n",
            "prom_part_1000: 0%\n",
            "office_count_1000: 0%\n",
            "office_sqm_1000: 0%\n",
            "trc_count_1000: 0%\n",
            "trc_sqm_1000: 0%\n",
            "cafe_count_1000: 0%\n",
            "cafe_sum_1000_min_price_avg: 21%\n",
            "cafe_sum_1000_max_price_avg: 21%\n",
            "cafe_avg_price_1000: 21%\n",
            "cafe_count_1000_na_price: 0%\n",
            "cafe_count_1000_price_500: 0%\n",
            "cafe_count_1000_price_1000: 0%\n",
            "cafe_count_1000_price_1500: 0%\n",
            "cafe_count_1000_price_2500: 0%\n",
            "cafe_count_1000_price_4000: 0%\n",
            "cafe_count_1000_price_high: 0%\n",
            "big_church_count_1000: 0%\n",
            "church_count_1000: 0%\n",
            "mosque_count_1000: 0%\n",
            "leisure_count_1000: 0%\n",
            "sport_count_1000: 0%\n",
            "market_count_1000: 0%\n",
            "green_part_1500: 0%\n",
            "prom_part_1500: 0%\n",
            "office_count_1500: 0%\n",
            "office_sqm_1500: 0%\n",
            "trc_count_1500: 0%\n",
            "trc_sqm_1500: 0%\n",
            "cafe_count_1500: 0%\n",
            "cafe_sum_1500_min_price_avg: 14%\n",
            "cafe_sum_1500_max_price_avg: 14%\n",
            "cafe_avg_price_1500: 14%\n",
            "cafe_count_1500_na_price: 0%\n",
            "cafe_count_1500_price_500: 0%\n",
            "cafe_count_1500_price_1000: 0%\n",
            "cafe_count_1500_price_1500: 0%\n",
            "cafe_count_1500_price_2500: 0%\n",
            "cafe_count_1500_price_4000: 0%\n",
            "cafe_count_1500_price_high: 0%\n",
            "big_church_count_1500: 0%\n",
            "church_count_1500: 0%\n",
            "mosque_count_1500: 0%\n",
            "leisure_count_1500: 0%\n",
            "sport_count_1500: 0%\n",
            "market_count_1500: 0%\n",
            "green_part_2000: 0%\n",
            "prom_part_2000: 0%\n",
            "office_count_2000: 0%\n",
            "office_sqm_2000: 0%\n",
            "trc_count_2000: 0%\n",
            "trc_sqm_2000: 0%\n",
            "cafe_count_2000: 0%\n",
            "cafe_sum_2000_min_price_avg: 6%\n",
            "cafe_sum_2000_max_price_avg: 6%\n",
            "cafe_avg_price_2000: 6%\n",
            "cafe_count_2000_na_price: 0%\n",
            "cafe_count_2000_price_500: 0%\n",
            "cafe_count_2000_price_1000: 0%\n",
            "cafe_count_2000_price_1500: 0%\n",
            "cafe_count_2000_price_2500: 0%\n",
            "cafe_count_2000_price_4000: 0%\n",
            "cafe_count_2000_price_high: 0%\n",
            "big_church_count_2000: 0%\n",
            "church_count_2000: 0%\n",
            "mosque_count_2000: 0%\n",
            "leisure_count_2000: 0%\n",
            "sport_count_2000: 0%\n",
            "market_count_2000: 0%\n",
            "green_part_3000: 0%\n",
            "prom_part_3000: 0%\n",
            "office_count_3000: 0%\n",
            "office_sqm_3000: 0%\n",
            "trc_count_3000: 0%\n",
            "trc_sqm_3000: 0%\n",
            "cafe_count_3000: 0%\n",
            "cafe_sum_3000_min_price_avg: 3%\n",
            "cafe_sum_3000_max_price_avg: 3%\n",
            "cafe_avg_price_3000: 3%\n",
            "cafe_count_3000_na_price: 0%\n",
            "cafe_count_3000_price_500: 0%\n",
            "cafe_count_3000_price_1000: 0%\n",
            "cafe_count_3000_price_1500: 0%\n",
            "cafe_count_3000_price_2500: 0%\n",
            "cafe_count_3000_price_4000: 0%\n",
            "cafe_count_3000_price_high: 0%\n",
            "big_church_count_3000: 0%\n",
            "church_count_3000: 0%\n",
            "mosque_count_3000: 0%\n",
            "leisure_count_3000: 0%\n",
            "sport_count_3000: 0%\n",
            "market_count_3000: 0%\n",
            "green_part_5000: 0%\n",
            "prom_part_5000: 1%\n",
            "office_count_5000: 0%\n",
            "office_sqm_5000: 0%\n",
            "trc_count_5000: 0%\n",
            "trc_sqm_5000: 0%\n",
            "cafe_count_5000: 0%\n",
            "cafe_sum_5000_min_price_avg: 1%\n",
            "cafe_sum_5000_max_price_avg: 1%\n",
            "cafe_avg_price_5000: 1%\n",
            "cafe_count_5000_na_price: 0%\n",
            "cafe_count_5000_price_500: 0%\n",
            "cafe_count_5000_price_1000: 0%\n",
            "cafe_count_5000_price_1500: 0%\n",
            "cafe_count_5000_price_2500: 0%\n",
            "cafe_count_5000_price_4000: 0%\n",
            "cafe_count_5000_price_high: 0%\n",
            "big_church_count_5000: 0%\n",
            "church_count_5000: 0%\n",
            "mosque_count_5000: 0%\n",
            "leisure_count_5000: 0%\n",
            "sport_count_5000: 0%\n",
            "market_count_5000: 0%\n",
            "price_doc: 0%\n"
          ]
        }
      ]
    },
    {
      "cell_type": "markdown",
      "source": [
        "cafe_sum_500_min_price_avg: 44%\n",
        "cafe_sum_500_max_price_avg: 44%\n",
        "cafe_avg_price_500: 44%\n",
        "hospital_beds_raion: 47%\n"
      ],
      "metadata": {
        "id": "zUC6A-hWuhqy"
      }
    },
    {
      "cell_type": "code",
      "source": [
        "train = train.drop(['cafe_sum_500_min_price_avg','cafe_sum_500_max_price_avg','cafe_avg_price_500','hospital_beds_raion'], axis = 1)"
      ],
      "metadata": {
        "id": "Gzqb2UiTv6GR"
      },
      "execution_count": 1850,
      "outputs": []
    },
    {
      "cell_type": "code",
      "source": [
        "train.shape"
      ],
      "metadata": {
        "colab": {
          "base_uri": "https://localhost:8080/"
        },
        "id": "SkZTZ041wOh7",
        "outputId": "314a2c41-7a20-40a0-e622-0d76d0d2dd5d"
      },
      "execution_count": 1851,
      "outputs": [
        {
          "output_type": "execute_result",
          "data": {
            "text/plain": [
              "(30471, 288)"
            ]
          },
          "metadata": {},
          "execution_count": 1851
        }
      ]
    },
    {
      "cell_type": "markdown",
      "source": [
        "# **Произведем объединение данных в один датафрейм.**\n",
        "\n",
        "---\n",
        "\n"
      ],
      "metadata": {
        "id": "yXPrWxQmWyrr"
      }
    },
    {
      "cell_type": "code",
      "source": [
        "macro['timestamp'] = pd.to_datetime(macro['timestamp'])\n",
        "train['timestamp'] = pd.to_datetime(train['timestamp'])\n",
        "df = train.merge(macro, on = 'timestamp', how = 'inner')"
      ],
      "metadata": {
        "id": "CG2fLBniWByn"
      },
      "execution_count": 1852,
      "outputs": []
    },
    {
      "cell_type": "markdown",
      "source": [
        "Производим чистку данных (пропуски данных, неинформативные признаки, \n",
        "аномалии, оцифровка текстовых столбцов и т.п.)\n",
        "\n",
        "\n",
        "---\n",
        "\n"
      ],
      "metadata": {
        "id": "UVKHTU72aMzF"
      }
    },
    {
      "cell_type": "code",
      "source": [
        "df.info(verbose = True)"
      ],
      "metadata": {
        "colab": {
          "base_uri": "https://localhost:8080/"
        },
        "id": "XRxe2CgnYej2",
        "outputId": "9ac9a321-23df-46bc-97da-f9e409c7f664"
      },
      "execution_count": 1853,
      "outputs": [
        {
          "output_type": "stream",
          "name": "stdout",
          "text": [
            "<class 'pandas.core.frame.DataFrame'>\n",
            "Int64Index: 30471 entries, 0 to 30470\n",
            "Data columns (total 375 columns):\n",
            " #   Column                                      Dtype         \n",
            "---  ------                                      -----         \n",
            " 0   id                                          int64         \n",
            " 1   timestamp                                   datetime64[ns]\n",
            " 2   full_sq                                     int64         \n",
            " 3   life_sq                                     float64       \n",
            " 4   floor                                       float64       \n",
            " 5   max_floor                                   float64       \n",
            " 6   material                                    float64       \n",
            " 7   build_year                                  float64       \n",
            " 8   num_room                                    float64       \n",
            " 9   kitch_sq                                    float64       \n",
            " 10  state                                       float64       \n",
            " 11  product_type                                object        \n",
            " 12  sub_area                                    object        \n",
            " 13  area_m                                      float64       \n",
            " 14  raion_popul                                 int64         \n",
            " 15  green_zone_part                             float64       \n",
            " 16  indust_part                                 float64       \n",
            " 17  children_preschool                          int64         \n",
            " 18  preschool_quota                             float64       \n",
            " 19  preschool_education_centers_raion           int64         \n",
            " 20  children_school                             int64         \n",
            " 21  school_quota                                float64       \n",
            " 22  school_education_centers_raion              int64         \n",
            " 23  school_education_centers_top_20_raion       int64         \n",
            " 24  healthcare_centers_raion                    int64         \n",
            " 25  university_top_20_raion                     int64         \n",
            " 26  sport_objects_raion                         int64         \n",
            " 27  additional_education_raion                  int64         \n",
            " 28  culture_objects_top_25                      object        \n",
            " 29  culture_objects_top_25_raion                int64         \n",
            " 30  shopping_centers_raion                      int64         \n",
            " 31  office_raion                                int64         \n",
            " 32  thermal_power_plant_raion                   object        \n",
            " 33  incineration_raion                          object        \n",
            " 34  oil_chemistry_raion                         object        \n",
            " 35  radiation_raion                             object        \n",
            " 36  railroad_terminal_raion                     object        \n",
            " 37  big_market_raion                            object        \n",
            " 38  nuclear_reactor_raion                       object        \n",
            " 39  detention_facility_raion                    object        \n",
            " 40  full_all                                    int64         \n",
            " 41  male_f                                      int64         \n",
            " 42  female_f                                    int64         \n",
            " 43  young_all                                   int64         \n",
            " 44  young_male                                  int64         \n",
            " 45  young_female                                int64         \n",
            " 46  work_all                                    int64         \n",
            " 47  work_male                                   int64         \n",
            " 48  work_female                                 int64         \n",
            " 49  ekder_all                                   int64         \n",
            " 50  ekder_male                                  int64         \n",
            " 51  ekder_female                                int64         \n",
            " 52  0_6_all                                     int64         \n",
            " 53  0_6_male                                    int64         \n",
            " 54  0_6_female                                  int64         \n",
            " 55  7_14_all                                    int64         \n",
            " 56  7_14_male                                   int64         \n",
            " 57  7_14_female                                 int64         \n",
            " 58  0_17_all                                    int64         \n",
            " 59  0_17_male                                   int64         \n",
            " 60  0_17_female                                 int64         \n",
            " 61  16_29_all                                   int64         \n",
            " 62  16_29_male                                  int64         \n",
            " 63  16_29_female                                int64         \n",
            " 64  0_13_all                                    int64         \n",
            " 65  0_13_male                                   int64         \n",
            " 66  0_13_female                                 int64         \n",
            " 67  raion_build_count_with_material_info        float64       \n",
            " 68  build_count_block                           float64       \n",
            " 69  build_count_wood                            float64       \n",
            " 70  build_count_frame                           float64       \n",
            " 71  build_count_brick                           float64       \n",
            " 72  build_count_monolith                        float64       \n",
            " 73  build_count_panel                           float64       \n",
            " 74  build_count_foam                            float64       \n",
            " 75  build_count_slag                            float64       \n",
            " 76  build_count_mix                             float64       \n",
            " 77  raion_build_count_with_builddate_info       float64       \n",
            " 78  build_count_before_1920                     float64       \n",
            " 79  build_count_1921-1945                       float64       \n",
            " 80  build_count_1946-1970                       float64       \n",
            " 81  build_count_1971-1995                       float64       \n",
            " 82  build_count_after_1995                      float64       \n",
            " 83  ID_metro                                    int64         \n",
            " 84  metro_min_avto                              float64       \n",
            " 85  metro_km_avto                               float64       \n",
            " 86  metro_min_walk                              float64       \n",
            " 87  metro_km_walk                               float64       \n",
            " 88  kindergarten_km                             float64       \n",
            " 89  school_km                                   float64       \n",
            " 90  park_km                                     float64       \n",
            " 91  green_zone_km                               float64       \n",
            " 92  industrial_km                               float64       \n",
            " 93  water_treatment_km                          float64       \n",
            " 94  cemetery_km                                 float64       \n",
            " 95  incineration_km                             float64       \n",
            " 96  railroad_station_walk_km                    float64       \n",
            " 97  railroad_station_walk_min                   float64       \n",
            " 98  ID_railroad_station_walk                    float64       \n",
            " 99  railroad_station_avto_km                    float64       \n",
            " 100 railroad_station_avto_min                   float64       \n",
            " 101 ID_railroad_station_avto                    int64         \n",
            " 102 public_transport_station_km                 float64       \n",
            " 103 public_transport_station_min_walk           float64       \n",
            " 104 water_km                                    float64       \n",
            " 105 water_1line                                 object        \n",
            " 106 mkad_km                                     float64       \n",
            " 107 ttk_km                                      float64       \n",
            " 108 sadovoe_km                                  float64       \n",
            " 109 bulvar_ring_km                              float64       \n",
            " 110 kremlin_km                                  float64       \n",
            " 111 big_road1_km                                float64       \n",
            " 112 ID_big_road1                                int64         \n",
            " 113 big_road1_1line                             object        \n",
            " 114 big_road2_km                                float64       \n",
            " 115 ID_big_road2                                int64         \n",
            " 116 railroad_km                                 float64       \n",
            " 117 railroad_1line                              object        \n",
            " 118 zd_vokzaly_avto_km                          float64       \n",
            " 119 ID_railroad_terminal                        int64         \n",
            " 120 bus_terminal_avto_km                        float64       \n",
            " 121 ID_bus_terminal                             int64         \n",
            " 122 oil_chemistry_km                            float64       \n",
            " 123 nuclear_reactor_km                          float64       \n",
            " 124 radiation_km                                float64       \n",
            " 125 power_transmission_line_km                  float64       \n",
            " 126 thermal_power_plant_km                      float64       \n",
            " 127 ts_km                                       float64       \n",
            " 128 big_market_km                               float64       \n",
            " 129 market_shop_km                              float64       \n",
            " 130 fitness_km                                  float64       \n",
            " 131 swim_pool_km                                float64       \n",
            " 132 ice_rink_km                                 float64       \n",
            " 133 stadium_km                                  float64       \n",
            " 134 basketball_km                               float64       \n",
            " 135 hospice_morgue_km                           float64       \n",
            " 136 detention_facility_km                       float64       \n",
            " 137 public_healthcare_km                        float64       \n",
            " 138 university_km                               float64       \n",
            " 139 workplaces_km                               float64       \n",
            " 140 shopping_centers_km                         float64       \n",
            " 141 office_km                                   float64       \n",
            " 142 additional_education_km                     float64       \n",
            " 143 preschool_km                                float64       \n",
            " 144 big_church_km                               float64       \n",
            " 145 church_synagogue_km                         float64       \n",
            " 146 mosque_km                                   float64       \n",
            " 147 theater_km                                  float64       \n",
            " 148 museum_km                                   float64       \n",
            " 149 exhibition_km                               float64       \n",
            " 150 catering_km                                 float64       \n",
            " 151 ecology                                     object        \n",
            " 152 green_part_500                              float64       \n",
            " 153 prom_part_500                               float64       \n",
            " 154 office_count_500                            int64         \n",
            " 155 office_sqm_500                              int64         \n",
            " 156 trc_count_500                               int64         \n",
            " 157 trc_sqm_500                                 int64         \n",
            " 158 cafe_count_500                              int64         \n",
            " 159 cafe_count_500_na_price                     int64         \n",
            " 160 cafe_count_500_price_500                    int64         \n",
            " 161 cafe_count_500_price_1000                   int64         \n",
            " 162 cafe_count_500_price_1500                   int64         \n",
            " 163 cafe_count_500_price_2500                   int64         \n",
            " 164 cafe_count_500_price_4000                   int64         \n",
            " 165 cafe_count_500_price_high                   int64         \n",
            " 166 big_church_count_500                        int64         \n",
            " 167 church_count_500                            int64         \n",
            " 168 mosque_count_500                            int64         \n",
            " 169 leisure_count_500                           int64         \n",
            " 170 sport_count_500                             int64         \n",
            " 171 market_count_500                            int64         \n",
            " 172 green_part_1000                             float64       \n",
            " 173 prom_part_1000                              float64       \n",
            " 174 office_count_1000                           int64         \n",
            " 175 office_sqm_1000                             int64         \n",
            " 176 trc_count_1000                              int64         \n",
            " 177 trc_sqm_1000                                int64         \n",
            " 178 cafe_count_1000                             int64         \n",
            " 179 cafe_sum_1000_min_price_avg                 float64       \n",
            " 180 cafe_sum_1000_max_price_avg                 float64       \n",
            " 181 cafe_avg_price_1000                         float64       \n",
            " 182 cafe_count_1000_na_price                    int64         \n",
            " 183 cafe_count_1000_price_500                   int64         \n",
            " 184 cafe_count_1000_price_1000                  int64         \n",
            " 185 cafe_count_1000_price_1500                  int64         \n",
            " 186 cafe_count_1000_price_2500                  int64         \n",
            " 187 cafe_count_1000_price_4000                  int64         \n",
            " 188 cafe_count_1000_price_high                  int64         \n",
            " 189 big_church_count_1000                       int64         \n",
            " 190 church_count_1000                           int64         \n",
            " 191 mosque_count_1000                           int64         \n",
            " 192 leisure_count_1000                          int64         \n",
            " 193 sport_count_1000                            int64         \n",
            " 194 market_count_1000                           int64         \n",
            " 195 green_part_1500                             float64       \n",
            " 196 prom_part_1500                              float64       \n",
            " 197 office_count_1500                           int64         \n",
            " 198 office_sqm_1500                             int64         \n",
            " 199 trc_count_1500                              int64         \n",
            " 200 trc_sqm_1500                                int64         \n",
            " 201 cafe_count_1500                             int64         \n",
            " 202 cafe_sum_1500_min_price_avg                 float64       \n",
            " 203 cafe_sum_1500_max_price_avg                 float64       \n",
            " 204 cafe_avg_price_1500                         float64       \n",
            " 205 cafe_count_1500_na_price                    int64         \n",
            " 206 cafe_count_1500_price_500                   int64         \n",
            " 207 cafe_count_1500_price_1000                  int64         \n",
            " 208 cafe_count_1500_price_1500                  int64         \n",
            " 209 cafe_count_1500_price_2500                  int64         \n",
            " 210 cafe_count_1500_price_4000                  int64         \n",
            " 211 cafe_count_1500_price_high                  int64         \n",
            " 212 big_church_count_1500                       int64         \n",
            " 213 church_count_1500                           int64         \n",
            " 214 mosque_count_1500                           int64         \n",
            " 215 leisure_count_1500                          int64         \n",
            " 216 sport_count_1500                            int64         \n",
            " 217 market_count_1500                           int64         \n",
            " 218 green_part_2000                             float64       \n",
            " 219 prom_part_2000                              float64       \n",
            " 220 office_count_2000                           int64         \n",
            " 221 office_sqm_2000                             int64         \n",
            " 222 trc_count_2000                              int64         \n",
            " 223 trc_sqm_2000                                int64         \n",
            " 224 cafe_count_2000                             int64         \n",
            " 225 cafe_sum_2000_min_price_avg                 float64       \n",
            " 226 cafe_sum_2000_max_price_avg                 float64       \n",
            " 227 cafe_avg_price_2000                         float64       \n",
            " 228 cafe_count_2000_na_price                    int64         \n",
            " 229 cafe_count_2000_price_500                   int64         \n",
            " 230 cafe_count_2000_price_1000                  int64         \n",
            " 231 cafe_count_2000_price_1500                  int64         \n",
            " 232 cafe_count_2000_price_2500                  int64         \n",
            " 233 cafe_count_2000_price_4000                  int64         \n",
            " 234 cafe_count_2000_price_high                  int64         \n",
            " 235 big_church_count_2000                       int64         \n",
            " 236 church_count_2000                           int64         \n",
            " 237 mosque_count_2000                           int64         \n",
            " 238 leisure_count_2000                          int64         \n",
            " 239 sport_count_2000                            int64         \n",
            " 240 market_count_2000                           int64         \n",
            " 241 green_part_3000                             float64       \n",
            " 242 prom_part_3000                              float64       \n",
            " 243 office_count_3000                           int64         \n",
            " 244 office_sqm_3000                             int64         \n",
            " 245 trc_count_3000                              int64         \n",
            " 246 trc_sqm_3000                                int64         \n",
            " 247 cafe_count_3000                             int64         \n",
            " 248 cafe_sum_3000_min_price_avg                 float64       \n",
            " 249 cafe_sum_3000_max_price_avg                 float64       \n",
            " 250 cafe_avg_price_3000                         float64       \n",
            " 251 cafe_count_3000_na_price                    int64         \n",
            " 252 cafe_count_3000_price_500                   int64         \n",
            " 253 cafe_count_3000_price_1000                  int64         \n",
            " 254 cafe_count_3000_price_1500                  int64         \n",
            " 255 cafe_count_3000_price_2500                  int64         \n",
            " 256 cafe_count_3000_price_4000                  int64         \n",
            " 257 cafe_count_3000_price_high                  int64         \n",
            " 258 big_church_count_3000                       int64         \n",
            " 259 church_count_3000                           int64         \n",
            " 260 mosque_count_3000                           int64         \n",
            " 261 leisure_count_3000                          int64         \n",
            " 262 sport_count_3000                            int64         \n",
            " 263 market_count_3000                           int64         \n",
            " 264 green_part_5000                             float64       \n",
            " 265 prom_part_5000                              float64       \n",
            " 266 office_count_5000                           int64         \n",
            " 267 office_sqm_5000                             int64         \n",
            " 268 trc_count_5000                              int64         \n",
            " 269 trc_sqm_5000                                int64         \n",
            " 270 cafe_count_5000                             int64         \n",
            " 271 cafe_sum_5000_min_price_avg                 float64       \n",
            " 272 cafe_sum_5000_max_price_avg                 float64       \n",
            " 273 cafe_avg_price_5000                         float64       \n",
            " 274 cafe_count_5000_na_price                    int64         \n",
            " 275 cafe_count_5000_price_500                   int64         \n",
            " 276 cafe_count_5000_price_1000                  int64         \n",
            " 277 cafe_count_5000_price_1500                  int64         \n",
            " 278 cafe_count_5000_price_2500                  int64         \n",
            " 279 cafe_count_5000_price_4000                  int64         \n",
            " 280 cafe_count_5000_price_high                  int64         \n",
            " 281 big_church_count_5000                       int64         \n",
            " 282 church_count_5000                           int64         \n",
            " 283 mosque_count_5000                           int64         \n",
            " 284 leisure_count_5000                          int64         \n",
            " 285 sport_count_5000                            int64         \n",
            " 286 market_count_5000                           int64         \n",
            " 287 price_doc                                   int64         \n",
            " 288 oil_urals                                   float64       \n",
            " 289 gdp_quart                                   float64       \n",
            " 290 gdp_quart_growth                            float64       \n",
            " 291 cpi                                         float64       \n",
            " 292 ppi                                         float64       \n",
            " 293 gdp_deflator                                float64       \n",
            " 294 balance_trade                               float64       \n",
            " 295 balance_trade_growth                        float64       \n",
            " 296 usdrub                                      float64       \n",
            " 297 eurrub                                      float64       \n",
            " 298 brent                                       float64       \n",
            " 299 net_capital_export                          float64       \n",
            " 300 gdp_annual                                  float64       \n",
            " 301 gdp_annual_growth                           float64       \n",
            " 302 average_provision_of_build_contract         float64       \n",
            " 303 average_provision_of_build_contract_moscow  float64       \n",
            " 304 rts                                         float64       \n",
            " 305 micex                                       float64       \n",
            " 306 micex_rgbi_tr                               float64       \n",
            " 307 micex_cbi_tr                                float64       \n",
            " 308 deposits_value                              int64         \n",
            " 309 deposits_growth                             float64       \n",
            " 310 deposits_rate                               float64       \n",
            " 311 mortgage_value                              int64         \n",
            " 312 mortgage_growth                             float64       \n",
            " 313 mortgage_rate                               float64       \n",
            " 314 grp                                         float64       \n",
            " 315 income_per_cap                              float64       \n",
            " 316 real_dispos_income_per_cap_growth           float64       \n",
            " 317 salary                                      float64       \n",
            " 318 salary_growth                               float64       \n",
            " 319 fixed_basket                                float64       \n",
            " 320 retail_trade_turnover                       float64       \n",
            " 321 retail_trade_turnover_per_cap               float64       \n",
            " 322 retail_trade_turnover_growth                float64       \n",
            " 323 labor_force                                 float64       \n",
            " 324 unemployment                                float64       \n",
            " 325 employment                                  float64       \n",
            " 326 invest_fixed_capital_per_cap                float64       \n",
            " 327 invest_fixed_assets                         float64       \n",
            " 328 profitable_enterpr_share                    float64       \n",
            " 329 unprofitable_enterpr_share                  float64       \n",
            " 330 share_own_revenues                          float64       \n",
            " 331 overdue_wages_per_cap                       float64       \n",
            " 332 fin_res_per_cap                             float64       \n",
            " 333 marriages_per_1000_cap                      float64       \n",
            " 334 divorce_rate                                float64       \n",
            " 335 construction_value                          float64       \n",
            " 336 invest_fixed_assets_phys                    float64       \n",
            " 337 pop_natural_increase                        float64       \n",
            " 338 pop_migration                               float64       \n",
            " 339 pop_total_inc                               float64       \n",
            " 340 childbirth                                  float64       \n",
            " 341 mortality                                   float64       \n",
            " 342 housing_fund_sqm                            float64       \n",
            " 343 lodging_sqm_per_cap                         float64       \n",
            " 344 water_pipes_share                           float64       \n",
            " 345 baths_share                                 float64       \n",
            " 346 sewerage_share                              float64       \n",
            " 347 gas_share                                   float64       \n",
            " 348 hot_water_share                             float64       \n",
            " 349 electric_stove_share                        float64       \n",
            " 350 heating_share                               float64       \n",
            " 351 old_house_share                             float64       \n",
            " 352 average_life_exp                            float64       \n",
            " 353 infant_mortarity_per_1000_cap               float64       \n",
            " 354 perinatal_mort_per_1000_cap                 float64       \n",
            " 355 incidence_population                        float64       \n",
            " 356 rent_price_4+room_bus                       float64       \n",
            " 357 rent_price_3room_bus                        float64       \n",
            " 358 rent_price_2room_bus                        float64       \n",
            " 359 rent_price_1room_bus                        float64       \n",
            " 360 rent_price_3room_eco                        float64       \n",
            " 361 rent_price_2room_eco                        float64       \n",
            " 362 rent_price_1room_eco                        float64       \n",
            " 363 child_on_acc_pre_school                     object        \n",
            " 364 load_of_teachers_school_per_teacher         float64       \n",
            " 365 students_state_oneshift                     float64       \n",
            " 366 provision_doctors                           float64       \n",
            " 367 provision_nurse                             float64       \n",
            " 368 load_on_doctors                             float64       \n",
            " 369 power_clinics                               float64       \n",
            " 370 turnover_catering_per_cap                   float64       \n",
            " 371 seats_theather_rfmin_per_100000_cap         float64       \n",
            " 372 bandwidth_sports                            float64       \n",
            " 373 apartment_build                             float64       \n",
            " 374 apartment_fund_sqm                          float64       \n",
            "dtypes: datetime64[ns](1), float64(199), int64(159), object(16)\n",
            "memory usage: 87.4+ MB\n"
          ]
        }
      ]
    },
    {
      "cell_type": "code",
      "source": [
        "pd.set_option('display.max_rows', 1000)\n",
        "df.isna().mean().sort_values(ascending = False)"
      ],
      "metadata": {
        "colab": {
          "base_uri": "https://localhost:8080/"
        },
        "id": "BMtiTUvcZfrI",
        "outputId": "788771c5-e258-403c-ebf5-6009948351a6"
      },
      "execution_count": 1854,
      "outputs": [
        {
          "output_type": "execute_result",
          "data": {
            "text/plain": [
              "build_year                                    0.446490\n",
              "state                                         0.444980\n",
              "material                                      0.314135\n",
              "max_floor                                     0.314135\n",
              "num_room                                      0.314135\n",
              "kitch_sq                                      0.314135\n",
              "preschool_quota                               0.219487\n",
              "school_quota                                  0.219389\n",
              "cafe_sum_1000_min_price_avg                   0.214105\n",
              "cafe_sum_1000_max_price_avg                   0.214105\n",
              "cafe_avg_price_1000                           0.214105\n",
              "life_sq                                       0.209478\n",
              "build_count_1971-1995                         0.163795\n",
              "build_count_1921-1945                         0.163795\n",
              "build_count_1946-1970                         0.163795\n",
              "build_count_monolith                          0.163795\n",
              "build_count_after_1995                        0.163795\n",
              "raion_build_count_with_builddate_info         0.163795\n",
              "build_count_before_1920                       0.163795\n",
              "build_count_mix                               0.163795\n",
              "build_count_brick                             0.163795\n",
              "build_count_foam                              0.163795\n",
              "build_count_panel                             0.163795\n",
              "raion_build_count_with_material_info          0.163795\n",
              "build_count_slag                              0.163795\n",
              "build_count_frame                             0.163795\n",
              "build_count_wood                              0.163795\n",
              "build_count_block                             0.163795\n",
              "cafe_sum_1500_min_price_avg                   0.137803\n",
              "cafe_sum_1500_max_price_avg                   0.137803\n",
              "cafe_avg_price_1500                           0.137803\n",
              "share_own_revenues                            0.106298\n",
              "fin_res_per_cap                               0.106298\n",
              "overdue_wages_per_cap                         0.106298\n",
              "divorce_rate                                  0.106298\n",
              "unprofitable_enterpr_share                    0.106298\n",
              "real_dispos_income_per_cap_growth             0.106298\n",
              "grp                                           0.106298\n",
              "apartment_build                               0.106298\n",
              "marriages_per_1000_cap                        0.106298\n",
              "profitable_enterpr_share                      0.106298\n",
              "construction_value                            0.106298\n",
              "baths_share                                   0.106298\n",
              "power_clinics                                 0.106298\n",
              "provision_doctors                             0.106298\n",
              "child_on_acc_pre_school                       0.106298\n",
              "incidence_population                          0.106298\n",
              "perinatal_mort_per_1000_cap                   0.106298\n",
              "infant_mortarity_per_1000_cap                 0.106298\n",
              "old_house_share                               0.106298\n",
              "heating_share                                 0.106298\n",
              "invest_fixed_assets_phys                      0.106298\n",
              "hot_water_share                               0.106298\n",
              "gas_share                                     0.106298\n",
              "sewerage_share                                0.106298\n",
              "electric_stove_share                          0.106298\n",
              "pop_total_inc                                 0.106298\n",
              "lodging_sqm_per_cap                           0.106298\n",
              "pop_migration                                 0.106298\n",
              "housing_fund_sqm                              0.106298\n",
              "water_pipes_share                             0.106298\n",
              "cafe_sum_2000_max_price_avg                   0.056611\n",
              "cafe_sum_2000_min_price_avg                   0.056611\n",
              "cafe_avg_price_2000                           0.056611\n",
              "cafe_avg_price_3000                           0.032523\n",
              "cafe_sum_3000_max_price_avg                   0.032523\n",
              "cafe_sum_3000_min_price_avg                   0.032523\n",
              "cafe_sum_5000_max_price_avg                   0.009747\n",
              "cafe_sum_5000_min_price_avg                   0.009747\n",
              "cafe_avg_price_5000                           0.009747\n",
              "prom_part_5000                                0.005842\n",
              "floor                                         0.005481\n",
              "railroad_station_walk_min                     0.000820\n",
              "railroad_station_walk_km                      0.000820\n",
              "ID_railroad_station_walk                      0.000820\n",
              "metro_km_walk                                 0.000820\n",
              "metro_min_walk                                0.000820\n",
              "ID_big_road2                                  0.000000\n",
              "public_transport_station_min_walk             0.000000\n",
              "big_road2_km                                  0.000000\n",
              "big_road1_1line                               0.000000\n",
              "water_1line                                   0.000000\n",
              "sadovoe_km                                    0.000000\n",
              "ID_big_road1                                  0.000000\n",
              "water_km                                      0.000000\n",
              "railroad_1line                                0.000000\n",
              "bulvar_ring_km                                0.000000\n",
              "mkad_km                                       0.000000\n",
              "ttk_km                                        0.000000\n",
              "big_road1_km                                  0.000000\n",
              "kremlin_km                                    0.000000\n",
              "railroad_km                                   0.000000\n",
              "public_healthcare_km                          0.000000\n",
              "zd_vokzaly_avto_km                            0.000000\n",
              "office_km                                     0.000000\n",
              "preschool_km                                  0.000000\n",
              "big_church_km                                 0.000000\n",
              "church_synagogue_km                           0.000000\n",
              "mosque_km                                     0.000000\n",
              "theater_km                                    0.000000\n",
              "museum_km                                     0.000000\n",
              "exhibition_km                                 0.000000\n",
              "catering_km                                   0.000000\n",
              "ecology                                       0.000000\n",
              "green_part_500                                0.000000\n",
              "prom_part_500                                 0.000000\n",
              "office_count_500                              0.000000\n",
              "office_sqm_500                                0.000000\n",
              "trc_count_500                                 0.000000\n",
              "trc_sqm_500                                   0.000000\n",
              "cafe_count_500                                0.000000\n",
              "cafe_count_500_na_price                       0.000000\n",
              "cafe_count_500_price_500                      0.000000\n",
              "cafe_count_500_price_1000                     0.000000\n",
              "additional_education_km                       0.000000\n",
              "shopping_centers_km                           0.000000\n",
              "ID_railroad_terminal                          0.000000\n",
              "workplaces_km                                 0.000000\n",
              "bus_terminal_avto_km                          0.000000\n",
              "ID_bus_terminal                               0.000000\n",
              "oil_chemistry_km                              0.000000\n",
              "nuclear_reactor_km                            0.000000\n",
              "radiation_km                                  0.000000\n",
              "power_transmission_line_km                    0.000000\n",
              "thermal_power_plant_km                        0.000000\n",
              "ts_km                                         0.000000\n",
              "big_market_km                                 0.000000\n",
              "market_shop_km                                0.000000\n",
              "fitness_km                                    0.000000\n",
              "swim_pool_km                                  0.000000\n",
              "ice_rink_km                                   0.000000\n",
              "stadium_km                                    0.000000\n",
              "basketball_km                                 0.000000\n",
              "hospice_morgue_km                             0.000000\n",
              "detention_facility_km                         0.000000\n",
              "ID_railroad_station_avto                      0.000000\n",
              "university_km                                 0.000000\n",
              "public_transport_station_km                   0.000000\n",
              "apartment_fund_sqm                            0.000000\n",
              "railroad_station_avto_min                     0.000000\n",
              "radiation_raion                               0.000000\n",
              "culture_objects_top_25_raion                  0.000000\n",
              "shopping_centers_raion                        0.000000\n",
              "office_raion                                  0.000000\n",
              "thermal_power_plant_raion                     0.000000\n",
              "incineration_raion                            0.000000\n",
              "oil_chemistry_raion                           0.000000\n",
              "railroad_terminal_raion                       0.000000\n",
              "additional_education_raion                    0.000000\n",
              "big_market_raion                              0.000000\n",
              "nuclear_reactor_raion                         0.000000\n",
              "detention_facility_raion                      0.000000\n",
              "full_all                                      0.000000\n",
              "male_f                                        0.000000\n",
              "female_f                                      0.000000\n",
              "culture_objects_top_25                        0.000000\n",
              "sport_objects_raion                           0.000000\n",
              "young_male                                    0.000000\n",
              "green_zone_part                               0.000000\n",
              "timestamp                                     0.000000\n",
              "full_sq                                       0.000000\n",
              "product_type                                  0.000000\n",
              "sub_area                                      0.000000\n",
              "area_m                                        0.000000\n",
              "raion_popul                                   0.000000\n",
              "indust_part                                   0.000000\n",
              "university_top_20_raion                       0.000000\n",
              "children_preschool                            0.000000\n",
              "preschool_education_centers_raion             0.000000\n",
              "children_school                               0.000000\n",
              "school_education_centers_raion                0.000000\n",
              "school_education_centers_top_20_raion         0.000000\n",
              "healthcare_centers_raion                      0.000000\n",
              "young_all                                     0.000000\n",
              "young_female                                  0.000000\n",
              "railroad_station_avto_km                      0.000000\n",
              "kindergarten_km                               0.000000\n",
              "0_13_male                                     0.000000\n",
              "0_13_female                                   0.000000\n",
              "cafe_count_500_price_2500                     0.000000\n",
              "ID_metro                                      0.000000\n",
              "metro_min_avto                                0.000000\n",
              "metro_km_avto                                 0.000000\n",
              "school_km                                     0.000000\n",
              "16_29_female                                  0.000000\n",
              "park_km                                       0.000000\n",
              "green_zone_km                                 0.000000\n",
              "industrial_km                                 0.000000\n",
              "water_treatment_km                            0.000000\n",
              "cemetery_km                                   0.000000\n",
              "incineration_km                               0.000000\n",
              "0_13_all                                      0.000000\n",
              "16_29_male                                    0.000000\n",
              "work_all                                      0.000000\n",
              "0_6_male                                      0.000000\n",
              "work_male                                     0.000000\n",
              "work_female                                   0.000000\n",
              "ekder_all                                     0.000000\n",
              "ekder_male                                    0.000000\n",
              "ekder_female                                  0.000000\n",
              "0_6_all                                       0.000000\n",
              "0_6_female                                    0.000000\n",
              "16_29_all                                     0.000000\n",
              "7_14_all                                      0.000000\n",
              "7_14_male                                     0.000000\n",
              "7_14_female                                   0.000000\n",
              "0_17_all                                      0.000000\n",
              "0_17_male                                     0.000000\n",
              "0_17_female                                   0.000000\n",
              "cafe_count_500_price_1500                     0.000000\n",
              "cafe_count_1000_price_4000                    0.000000\n",
              "cafe_count_500_price_4000                     0.000000\n",
              "leisure_count_5000                            0.000000\n",
              "market_count_5000                             0.000000\n",
              "price_doc                                     0.000000\n",
              "oil_urals                                     0.000000\n",
              "gdp_quart                                     0.000000\n",
              "gdp_quart_growth                              0.000000\n",
              "cpi                                           0.000000\n",
              "ppi                                           0.000000\n",
              "gdp_deflator                                  0.000000\n",
              "balance_trade                                 0.000000\n",
              "balance_trade_growth                          0.000000\n",
              "usdrub                                        0.000000\n",
              "eurrub                                        0.000000\n",
              "brent                                         0.000000\n",
              "net_capital_export                            0.000000\n",
              "gdp_annual                                    0.000000\n",
              "gdp_annual_growth                             0.000000\n",
              "average_provision_of_build_contract           0.000000\n",
              "sport_count_5000                              0.000000\n",
              "mosque_count_5000                             0.000000\n",
              "cafe_count_500_price_high                     0.000000\n",
              "church_count_5000                             0.000000\n",
              "leisure_count_3000                            0.000000\n",
              "sport_count_3000                              0.000000\n",
              "market_count_3000                             0.000000\n",
              "green_part_5000                               0.000000\n",
              "office_count_5000                             0.000000\n",
              "office_sqm_5000                               0.000000\n",
              "trc_count_5000                                0.000000\n",
              "trc_sqm_5000                                  0.000000\n",
              "cafe_count_5000                               0.000000\n",
              "cafe_count_5000_na_price                      0.000000\n",
              "cafe_count_5000_price_500                     0.000000\n",
              "cafe_count_5000_price_1000                    0.000000\n",
              "cafe_count_5000_price_1500                    0.000000\n",
              "cafe_count_5000_price_2500                    0.000000\n",
              "cafe_count_5000_price_4000                    0.000000\n",
              "cafe_count_5000_price_high                    0.000000\n",
              "big_church_count_5000                         0.000000\n",
              "average_provision_of_build_contract_moscow    0.000000\n",
              "rts                                           0.000000\n",
              "micex                                         0.000000\n",
              "micex_rgbi_tr                                 0.000000\n",
              "childbirth                                    0.000000\n",
              "mortality                                     0.000000\n",
              "average_life_exp                              0.000000\n",
              "rent_price_4+room_bus                         0.000000\n",
              "rent_price_3room_bus                          0.000000\n",
              "rent_price_2room_bus                          0.000000\n",
              "rent_price_1room_bus                          0.000000\n",
              "rent_price_3room_eco                          0.000000\n",
              "rent_price_2room_eco                          0.000000\n",
              "rent_price_1room_eco                          0.000000\n",
              "load_of_teachers_school_per_teacher           0.000000\n",
              "students_state_oneshift                       0.000000\n",
              "provision_nurse                               0.000000\n",
              "load_on_doctors                               0.000000\n",
              "turnover_catering_per_cap                     0.000000\n",
              "seats_theather_rfmin_per_100000_cap           0.000000\n",
              "bandwidth_sports                              0.000000\n",
              "pop_natural_increase                          0.000000\n",
              "invest_fixed_assets                           0.000000\n",
              "invest_fixed_capital_per_cap                  0.000000\n",
              "income_per_cap                                0.000000\n",
              "micex_cbi_tr                                  0.000000\n",
              "deposits_value                                0.000000\n",
              "deposits_growth                               0.000000\n",
              "deposits_rate                                 0.000000\n",
              "mortgage_value                                0.000000\n",
              "mortgage_growth                               0.000000\n",
              "mortgage_rate                                 0.000000\n",
              "salary                                        0.000000\n",
              "employment                                    0.000000\n",
              "salary_growth                                 0.000000\n",
              "fixed_basket                                  0.000000\n",
              "retail_trade_turnover                         0.000000\n",
              "retail_trade_turnover_per_cap                 0.000000\n",
              "retail_trade_turnover_growth                  0.000000\n",
              "labor_force                                   0.000000\n",
              "unemployment                                  0.000000\n",
              "mosque_count_3000                             0.000000\n",
              "church_count_3000                             0.000000\n",
              "big_church_count_3000                         0.000000\n",
              "cafe_count_1500_price_high                    0.000000\n",
              "church_count_1000                             0.000000\n",
              "mosque_count_1000                             0.000000\n",
              "leisure_count_1000                            0.000000\n",
              "sport_count_1000                              0.000000\n",
              "market_count_1000                             0.000000\n",
              "green_part_1500                               0.000000\n",
              "prom_part_1500                                0.000000\n",
              "office_count_1500                             0.000000\n",
              "office_sqm_1500                               0.000000\n",
              "trc_count_1500                                0.000000\n",
              "trc_sqm_1500                                  0.000000\n",
              "cafe_count_1500                               0.000000\n",
              "cafe_count_1500_na_price                      0.000000\n",
              "cafe_count_1500_price_500                     0.000000\n",
              "cafe_count_1500_price_1000                    0.000000\n",
              "cafe_count_1500_price_1500                    0.000000\n",
              "cafe_count_1500_price_2500                    0.000000\n",
              "big_church_count_1000                         0.000000\n",
              "cafe_count_1000_price_high                    0.000000\n",
              "cafe_count_1000_price_2500                    0.000000\n",
              "prom_part_1000                                0.000000\n",
              "big_church_count_500                          0.000000\n",
              "church_count_500                              0.000000\n",
              "mosque_count_500                              0.000000\n",
              "leisure_count_500                             0.000000\n",
              "sport_count_500                               0.000000\n",
              "market_count_500                              0.000000\n",
              "green_part_1000                               0.000000\n",
              "office_count_1000                             0.000000\n",
              "cafe_count_1000_price_1500                    0.000000\n",
              "office_sqm_1000                               0.000000\n",
              "trc_count_1000                                0.000000\n",
              "trc_sqm_1000                                  0.000000\n",
              "cafe_count_1000                               0.000000\n",
              "cafe_count_1000_na_price                      0.000000\n",
              "cafe_count_1000_price_500                     0.000000\n",
              "cafe_count_1000_price_1000                    0.000000\n",
              "cafe_count_1500_price_4000                    0.000000\n",
              "big_church_count_1500                         0.000000\n",
              "cafe_count_3000_price_high                    0.000000\n",
              "church_count_1500                             0.000000\n",
              "mosque_count_2000                             0.000000\n",
              "leisure_count_2000                            0.000000\n",
              "sport_count_2000                              0.000000\n",
              "market_count_2000                             0.000000\n",
              "green_part_3000                               0.000000\n",
              "prom_part_3000                                0.000000\n",
              "office_count_3000                             0.000000\n",
              "office_sqm_3000                               0.000000\n",
              "trc_count_3000                                0.000000\n",
              "trc_sqm_3000                                  0.000000\n",
              "cafe_count_3000                               0.000000\n",
              "cafe_count_3000_na_price                      0.000000\n",
              "cafe_count_3000_price_500                     0.000000\n",
              "cafe_count_3000_price_1000                    0.000000\n",
              "cafe_count_3000_price_1500                    0.000000\n",
              "cafe_count_3000_price_2500                    0.000000\n",
              "cafe_count_3000_price_4000                    0.000000\n",
              "church_count_2000                             0.000000\n",
              "big_church_count_2000                         0.000000\n",
              "cafe_count_2000_price_high                    0.000000\n",
              "office_sqm_2000                               0.000000\n",
              "mosque_count_1500                             0.000000\n",
              "leisure_count_1500                            0.000000\n",
              "sport_count_1500                              0.000000\n",
              "market_count_1500                             0.000000\n",
              "green_part_2000                               0.000000\n",
              "prom_part_2000                                0.000000\n",
              "office_count_2000                             0.000000\n",
              "trc_count_2000                                0.000000\n",
              "cafe_count_2000_price_4000                    0.000000\n",
              "trc_sqm_2000                                  0.000000\n",
              "cafe_count_2000                               0.000000\n",
              "cafe_count_2000_na_price                      0.000000\n",
              "cafe_count_2000_price_500                     0.000000\n",
              "cafe_count_2000_price_1000                    0.000000\n",
              "cafe_count_2000_price_1500                    0.000000\n",
              "cafe_count_2000_price_2500                    0.000000\n",
              "id                                            0.000000\n",
              "dtype: float64"
            ]
          },
          "metadata": {},
          "execution_count": 1854
        }
      ]
    },
    {
      "cell_type": "markdown",
      "source": [
        "Создадим массив данных из колонок, содержащих в названии ID элементы и удалим их из нашего датафрейма."
      ],
      "metadata": {
        "id": "cwNO2WDpfbAQ"
      }
    },
    {
      "cell_type": "code",
      "source": [
        "id_mas = ['id']\n",
        "for i in df.columns:\n",
        "  if i[:2] == 'ID':\n",
        "    id_mas.append(i)"
      ],
      "metadata": {
        "id": "KgJYrb6veTur"
      },
      "execution_count": 1855,
      "outputs": []
    },
    {
      "cell_type": "code",
      "source": [
        "df = df.drop(id_mas, axis=1)"
      ],
      "metadata": {
        "id": "g9dsmidv_7vl"
      },
      "execution_count": 1856,
      "outputs": []
    },
    {
      "cell_type": "markdown",
      "source": [
        "Удалим дубликаты строк."
      ],
      "metadata": {
        "id": "pCQOyDq7gScw"
      }
    },
    {
      "cell_type": "code",
      "source": [
        "df.duplicated().sum()"
      ],
      "metadata": {
        "colab": {
          "base_uri": "https://localhost:8080/"
        },
        "id": "__gh0MMzgaJC",
        "outputId": "3c30a01c-00bc-4781-8a1c-b1bb4adfac18"
      },
      "execution_count": 1857,
      "outputs": [
        {
          "output_type": "execute_result",
          "data": {
            "text/plain": [
              "10"
            ]
          },
          "metadata": {},
          "execution_count": 1857
        }
      ]
    },
    {
      "cell_type": "code",
      "source": [
        "df = df.drop_duplicates()"
      ],
      "metadata": {
        "id": "9Tq8843pgoFn"
      },
      "execution_count": 1858,
      "outputs": []
    },
    {
      "cell_type": "markdown",
      "source": [
        "Проверим пропуски в target."
      ],
      "metadata": {
        "id": "VrKYlGpygwb6"
      }
    },
    {
      "cell_type": "code",
      "source": [
        "df['price_doc'].isna().sum()"
      ],
      "metadata": {
        "colab": {
          "base_uri": "https://localhost:8080/"
        },
        "id": "qPPUKo_yg2sy",
        "outputId": "fb256748-8f58-4c3d-8165-1fe846e8391e"
      },
      "execution_count": 1859,
      "outputs": [
        {
          "output_type": "execute_result",
          "data": {
            "text/plain": [
              "0"
            ]
          },
          "metadata": {},
          "execution_count": 1859
        }
      ]
    },
    {
      "cell_type": "markdown",
      "source": [
        "Оценим данные по показателям площади, которые влияют на нашу целевую переменную.\n",
        "\n",
        "full_sq: общая площадь в квадратных метрах, включая лоджии, балконы и другие нежилые помещения\n",
        "\n",
        "life_sq: жилая площадь в квадратных метрах, без учета лоджий, балконов и других нежилых помещений\n",
        "\n",
        "kitch_sq: кухонная зона\n",
        "\n",
        "\n",
        "---\n",
        "\n"
      ],
      "metadata": {
        "id": "KVwKiQu6i9xc"
      }
    },
    {
      "cell_type": "code",
      "source": [
        "df[['full_sq', 'life_sq', 'kitch_sq']].isnull().sum()"
      ],
      "metadata": {
        "colab": {
          "base_uri": "https://localhost:8080/"
        },
        "id": "04aZxcqyxmpz",
        "outputId": "81943542-2eef-423d-c9fc-9cad2536a1a1"
      },
      "execution_count": 1860,
      "outputs": [
        {
          "output_type": "execute_result",
          "data": {
            "text/plain": [
              "full_sq        0\n",
              "life_sq     6376\n",
              "kitch_sq    9567\n",
              "dtype: int64"
            ]
          },
          "metadata": {},
          "execution_count": 1860
        }
      ]
    },
    {
      "cell_type": "code",
      "source": [
        "df[['full_sq', 'life_sq', 'kitch_sq']].describe()"
      ],
      "metadata": {
        "colab": {
          "base_uri": "https://localhost:8080/",
          "height": 300
        },
        "id": "-uci0DlFjk58",
        "outputId": "0aa1e06b-4291-427b-dbfa-9870534399dc"
      },
      "execution_count": 1861,
      "outputs": [
        {
          "output_type": "execute_result",
          "data": {
            "text/html": [
              "\n",
              "  <div id=\"df-d1ea15c5-0795-4dac-b1bc-067d28df48ce\">\n",
              "    <div class=\"colab-df-container\">\n",
              "      <div>\n",
              "<style scoped>\n",
              "    .dataframe tbody tr th:only-of-type {\n",
              "        vertical-align: middle;\n",
              "    }\n",
              "\n",
              "    .dataframe tbody tr th {\n",
              "        vertical-align: top;\n",
              "    }\n",
              "\n",
              "    .dataframe thead th {\n",
              "        text-align: right;\n",
              "    }\n",
              "</style>\n",
              "<table border=\"1\" class=\"dataframe\">\n",
              "  <thead>\n",
              "    <tr style=\"text-align: right;\">\n",
              "      <th></th>\n",
              "      <th>full_sq</th>\n",
              "      <th>life_sq</th>\n",
              "      <th>kitch_sq</th>\n",
              "    </tr>\n",
              "  </thead>\n",
              "  <tbody>\n",
              "    <tr>\n",
              "      <th>count</th>\n",
              "      <td>30461.000000</td>\n",
              "      <td>24085.000000</td>\n",
              "      <td>20894.000000</td>\n",
              "    </tr>\n",
              "    <tr>\n",
              "      <th>mean</th>\n",
              "      <td>54.211877</td>\n",
              "      <td>34.399128</td>\n",
              "      <td>6.398535</td>\n",
              "    </tr>\n",
              "    <tr>\n",
              "      <th>std</th>\n",
              "      <td>38.034562</td>\n",
              "      <td>52.285018</td>\n",
              "      <td>28.268262</td>\n",
              "    </tr>\n",
              "    <tr>\n",
              "      <th>min</th>\n",
              "      <td>0.000000</td>\n",
              "      <td>0.000000</td>\n",
              "      <td>0.000000</td>\n",
              "    </tr>\n",
              "    <tr>\n",
              "      <th>25%</th>\n",
              "      <td>38.000000</td>\n",
              "      <td>20.000000</td>\n",
              "      <td>1.000000</td>\n",
              "    </tr>\n",
              "    <tr>\n",
              "      <th>50%</th>\n",
              "      <td>49.000000</td>\n",
              "      <td>30.000000</td>\n",
              "      <td>6.000000</td>\n",
              "    </tr>\n",
              "    <tr>\n",
              "      <th>75%</th>\n",
              "      <td>63.000000</td>\n",
              "      <td>43.000000</td>\n",
              "      <td>9.000000</td>\n",
              "    </tr>\n",
              "    <tr>\n",
              "      <th>max</th>\n",
              "      <td>5326.000000</td>\n",
              "      <td>7478.000000</td>\n",
              "      <td>2014.000000</td>\n",
              "    </tr>\n",
              "  </tbody>\n",
              "</table>\n",
              "</div>\n",
              "      <button class=\"colab-df-convert\" onclick=\"convertToInteractive('df-d1ea15c5-0795-4dac-b1bc-067d28df48ce')\"\n",
              "              title=\"Convert this dataframe to an interactive table.\"\n",
              "              style=\"display:none;\">\n",
              "        \n",
              "  <svg xmlns=\"http://www.w3.org/2000/svg\" height=\"24px\"viewBox=\"0 0 24 24\"\n",
              "       width=\"24px\">\n",
              "    <path d=\"M0 0h24v24H0V0z\" fill=\"none\"/>\n",
              "    <path d=\"M18.56 5.44l.94 2.06.94-2.06 2.06-.94-2.06-.94-.94-2.06-.94 2.06-2.06.94zm-11 1L8.5 8.5l.94-2.06 2.06-.94-2.06-.94L8.5 2.5l-.94 2.06-2.06.94zm10 10l.94 2.06.94-2.06 2.06-.94-2.06-.94-.94-2.06-.94 2.06-2.06.94z\"/><path d=\"M17.41 7.96l-1.37-1.37c-.4-.4-.92-.59-1.43-.59-.52 0-1.04.2-1.43.59L10.3 9.45l-7.72 7.72c-.78.78-.78 2.05 0 2.83L4 21.41c.39.39.9.59 1.41.59.51 0 1.02-.2 1.41-.59l7.78-7.78 2.81-2.81c.8-.78.8-2.07 0-2.86zM5.41 20L4 18.59l7.72-7.72 1.47 1.35L5.41 20z\"/>\n",
              "  </svg>\n",
              "      </button>\n",
              "      \n",
              "  <style>\n",
              "    .colab-df-container {\n",
              "      display:flex;\n",
              "      flex-wrap:wrap;\n",
              "      gap: 12px;\n",
              "    }\n",
              "\n",
              "    .colab-df-convert {\n",
              "      background-color: #E8F0FE;\n",
              "      border: none;\n",
              "      border-radius: 50%;\n",
              "      cursor: pointer;\n",
              "      display: none;\n",
              "      fill: #1967D2;\n",
              "      height: 32px;\n",
              "      padding: 0 0 0 0;\n",
              "      width: 32px;\n",
              "    }\n",
              "\n",
              "    .colab-df-convert:hover {\n",
              "      background-color: #E2EBFA;\n",
              "      box-shadow: 0px 1px 2px rgba(60, 64, 67, 0.3), 0px 1px 3px 1px rgba(60, 64, 67, 0.15);\n",
              "      fill: #174EA6;\n",
              "    }\n",
              "\n",
              "    [theme=dark] .colab-df-convert {\n",
              "      background-color: #3B4455;\n",
              "      fill: #D2E3FC;\n",
              "    }\n",
              "\n",
              "    [theme=dark] .colab-df-convert:hover {\n",
              "      background-color: #434B5C;\n",
              "      box-shadow: 0px 1px 3px 1px rgba(0, 0, 0, 0.15);\n",
              "      filter: drop-shadow(0px 1px 2px rgba(0, 0, 0, 0.3));\n",
              "      fill: #FFFFFF;\n",
              "    }\n",
              "  </style>\n",
              "\n",
              "      <script>\n",
              "        const buttonEl =\n",
              "          document.querySelector('#df-d1ea15c5-0795-4dac-b1bc-067d28df48ce button.colab-df-convert');\n",
              "        buttonEl.style.display =\n",
              "          google.colab.kernel.accessAllowed ? 'block' : 'none';\n",
              "\n",
              "        async function convertToInteractive(key) {\n",
              "          const element = document.querySelector('#df-d1ea15c5-0795-4dac-b1bc-067d28df48ce');\n",
              "          const dataTable =\n",
              "            await google.colab.kernel.invokeFunction('convertToInteractive',\n",
              "                                                     [key], {});\n",
              "          if (!dataTable) return;\n",
              "\n",
              "          const docLinkHtml = 'Like what you see? Visit the ' +\n",
              "            '<a target=\"_blank\" href=https://colab.research.google.com/notebooks/data_table.ipynb>data table notebook</a>'\n",
              "            + ' to learn more about interactive tables.';\n",
              "          element.innerHTML = '';\n",
              "          dataTable['output_type'] = 'display_data';\n",
              "          await google.colab.output.renderOutput(dataTable, element);\n",
              "          const docLink = document.createElement('div');\n",
              "          docLink.innerHTML = docLinkHtml;\n",
              "          element.appendChild(docLink);\n",
              "        }\n",
              "      </script>\n",
              "    </div>\n",
              "  </div>\n",
              "  "
            ],
            "text/plain": [
              "            full_sq       life_sq      kitch_sq\n",
              "count  30461.000000  24085.000000  20894.000000\n",
              "mean      54.211877     34.399128      6.398535\n",
              "std       38.034562     52.285018     28.268262\n",
              "min        0.000000      0.000000      0.000000\n",
              "25%       38.000000     20.000000      1.000000\n",
              "50%       49.000000     30.000000      6.000000\n",
              "75%       63.000000     43.000000      9.000000\n",
              "max     5326.000000   7478.000000   2014.000000"
            ]
          },
          "metadata": {},
          "execution_count": 1861
        }
      ]
    },
    {
      "cell_type": "code",
      "source": [
        "df.head()"
      ],
      "metadata": {
        "colab": {
          "base_uri": "https://localhost:8080/",
          "height": 386
        },
        "id": "m0tyKJm9GOND",
        "outputId": "9e34f6c4-2eca-41b8-e5d6-61076e9102ba"
      },
      "execution_count": 1862,
      "outputs": [
        {
          "output_type": "execute_result",
          "data": {
            "text/html": [
              "\n",
              "  <div id=\"df-4f7bcdcf-e676-4fcd-ab4f-5d30a47f7a0d\">\n",
              "    <div class=\"colab-df-container\">\n",
              "      <div>\n",
              "<style scoped>\n",
              "    .dataframe tbody tr th:only-of-type {\n",
              "        vertical-align: middle;\n",
              "    }\n",
              "\n",
              "    .dataframe tbody tr th {\n",
              "        vertical-align: top;\n",
              "    }\n",
              "\n",
              "    .dataframe thead th {\n",
              "        text-align: right;\n",
              "    }\n",
              "</style>\n",
              "<table border=\"1\" class=\"dataframe\">\n",
              "  <thead>\n",
              "    <tr style=\"text-align: right;\">\n",
              "      <th></th>\n",
              "      <th>timestamp</th>\n",
              "      <th>full_sq</th>\n",
              "      <th>life_sq</th>\n",
              "      <th>floor</th>\n",
              "      <th>max_floor</th>\n",
              "      <th>material</th>\n",
              "      <th>build_year</th>\n",
              "      <th>num_room</th>\n",
              "      <th>kitch_sq</th>\n",
              "      <th>state</th>\n",
              "      <th>product_type</th>\n",
              "      <th>sub_area</th>\n",
              "      <th>area_m</th>\n",
              "      <th>raion_popul</th>\n",
              "      <th>green_zone_part</th>\n",
              "      <th>indust_part</th>\n",
              "      <th>children_preschool</th>\n",
              "      <th>preschool_quota</th>\n",
              "      <th>preschool_education_centers_raion</th>\n",
              "      <th>children_school</th>\n",
              "      <th>school_quota</th>\n",
              "      <th>school_education_centers_raion</th>\n",
              "      <th>school_education_centers_top_20_raion</th>\n",
              "      <th>healthcare_centers_raion</th>\n",
              "      <th>university_top_20_raion</th>\n",
              "      <th>sport_objects_raion</th>\n",
              "      <th>additional_education_raion</th>\n",
              "      <th>culture_objects_top_25</th>\n",
              "      <th>culture_objects_top_25_raion</th>\n",
              "      <th>shopping_centers_raion</th>\n",
              "      <th>office_raion</th>\n",
              "      <th>thermal_power_plant_raion</th>\n",
              "      <th>incineration_raion</th>\n",
              "      <th>oil_chemistry_raion</th>\n",
              "      <th>radiation_raion</th>\n",
              "      <th>railroad_terminal_raion</th>\n",
              "      <th>big_market_raion</th>\n",
              "      <th>nuclear_reactor_raion</th>\n",
              "      <th>detention_facility_raion</th>\n",
              "      <th>full_all</th>\n",
              "      <th>...</th>\n",
              "      <th>construction_value</th>\n",
              "      <th>invest_fixed_assets_phys</th>\n",
              "      <th>pop_natural_increase</th>\n",
              "      <th>pop_migration</th>\n",
              "      <th>pop_total_inc</th>\n",
              "      <th>childbirth</th>\n",
              "      <th>mortality</th>\n",
              "      <th>housing_fund_sqm</th>\n",
              "      <th>lodging_sqm_per_cap</th>\n",
              "      <th>water_pipes_share</th>\n",
              "      <th>baths_share</th>\n",
              "      <th>sewerage_share</th>\n",
              "      <th>gas_share</th>\n",
              "      <th>hot_water_share</th>\n",
              "      <th>electric_stove_share</th>\n",
              "      <th>heating_share</th>\n",
              "      <th>old_house_share</th>\n",
              "      <th>average_life_exp</th>\n",
              "      <th>infant_mortarity_per_1000_cap</th>\n",
              "      <th>perinatal_mort_per_1000_cap</th>\n",
              "      <th>incidence_population</th>\n",
              "      <th>rent_price_4+room_bus</th>\n",
              "      <th>rent_price_3room_bus</th>\n",
              "      <th>rent_price_2room_bus</th>\n",
              "      <th>rent_price_1room_bus</th>\n",
              "      <th>rent_price_3room_eco</th>\n",
              "      <th>rent_price_2room_eco</th>\n",
              "      <th>rent_price_1room_eco</th>\n",
              "      <th>child_on_acc_pre_school</th>\n",
              "      <th>load_of_teachers_school_per_teacher</th>\n",
              "      <th>students_state_oneshift</th>\n",
              "      <th>provision_doctors</th>\n",
              "      <th>provision_nurse</th>\n",
              "      <th>load_on_doctors</th>\n",
              "      <th>power_clinics</th>\n",
              "      <th>turnover_catering_per_cap</th>\n",
              "      <th>seats_theather_rfmin_per_100000_cap</th>\n",
              "      <th>bandwidth_sports</th>\n",
              "      <th>apartment_build</th>\n",
              "      <th>apartment_fund_sqm</th>\n",
              "    </tr>\n",
              "  </thead>\n",
              "  <tbody>\n",
              "    <tr>\n",
              "      <th>0</th>\n",
              "      <td>2011-08-20</td>\n",
              "      <td>43</td>\n",
              "      <td>27.0</td>\n",
              "      <td>4.0</td>\n",
              "      <td>NaN</td>\n",
              "      <td>NaN</td>\n",
              "      <td>NaN</td>\n",
              "      <td>NaN</td>\n",
              "      <td>NaN</td>\n",
              "      <td>NaN</td>\n",
              "      <td>Investment</td>\n",
              "      <td>Bibirevo</td>\n",
              "      <td>6.407578e+06</td>\n",
              "      <td>155572</td>\n",
              "      <td>0.189727</td>\n",
              "      <td>0.000070</td>\n",
              "      <td>9576</td>\n",
              "      <td>5001.0</td>\n",
              "      <td>5</td>\n",
              "      <td>10309</td>\n",
              "      <td>11065.0</td>\n",
              "      <td>5</td>\n",
              "      <td>0</td>\n",
              "      <td>1</td>\n",
              "      <td>0</td>\n",
              "      <td>7</td>\n",
              "      <td>3</td>\n",
              "      <td>no</td>\n",
              "      <td>0</td>\n",
              "      <td>16</td>\n",
              "      <td>1</td>\n",
              "      <td>no</td>\n",
              "      <td>no</td>\n",
              "      <td>no</td>\n",
              "      <td>no</td>\n",
              "      <td>no</td>\n",
              "      <td>no</td>\n",
              "      <td>no</td>\n",
              "      <td>no</td>\n",
              "      <td>86206</td>\n",
              "      <td>...</td>\n",
              "      <td>549075.8</td>\n",
              "      <td>106.6</td>\n",
              "      <td>1.1</td>\n",
              "      <td>5.1</td>\n",
              "      <td>6.2</td>\n",
              "      <td>10.8</td>\n",
              "      <td>9.7</td>\n",
              "      <td>218.0</td>\n",
              "      <td>18.772066</td>\n",
              "      <td>99.9</td>\n",
              "      <td>99.8</td>\n",
              "      <td>99.5</td>\n",
              "      <td>43.9</td>\n",
              "      <td>95.7</td>\n",
              "      <td>55.3</td>\n",
              "      <td>99.9</td>\n",
              "      <td>0.3</td>\n",
              "      <td>75.79</td>\n",
              "      <td>6.2</td>\n",
              "      <td>5.53</td>\n",
              "      <td>715.1</td>\n",
              "      <td>136.11</td>\n",
              "      <td>77.93</td>\n",
              "      <td>62.89</td>\n",
              "      <td>47.85</td>\n",
              "      <td>41.80</td>\n",
              "      <td>36.77</td>\n",
              "      <td>29.07</td>\n",
              "      <td>#!</td>\n",
              "      <td>1391.710938</td>\n",
              "      <td>89.0495</td>\n",
              "      <td>65.9</td>\n",
              "      <td>99.6</td>\n",
              "      <td>8180.755454</td>\n",
              "      <td>375.8</td>\n",
              "      <td>6943.0</td>\n",
              "      <td>0.45356</td>\n",
              "      <td>269768.0</td>\n",
              "      <td>23587.0</td>\n",
              "      <td>230310.0</td>\n",
              "    </tr>\n",
              "    <tr>\n",
              "      <th>1</th>\n",
              "      <td>2011-08-23</td>\n",
              "      <td>34</td>\n",
              "      <td>19.0</td>\n",
              "      <td>3.0</td>\n",
              "      <td>NaN</td>\n",
              "      <td>NaN</td>\n",
              "      <td>NaN</td>\n",
              "      <td>NaN</td>\n",
              "      <td>NaN</td>\n",
              "      <td>NaN</td>\n",
              "      <td>Investment</td>\n",
              "      <td>Nagatinskij Zaton</td>\n",
              "      <td>9.589337e+06</td>\n",
              "      <td>115352</td>\n",
              "      <td>0.372602</td>\n",
              "      <td>0.049637</td>\n",
              "      <td>6880</td>\n",
              "      <td>3119.0</td>\n",
              "      <td>5</td>\n",
              "      <td>7759</td>\n",
              "      <td>6237.0</td>\n",
              "      <td>8</td>\n",
              "      <td>0</td>\n",
              "      <td>1</td>\n",
              "      <td>0</td>\n",
              "      <td>6</td>\n",
              "      <td>1</td>\n",
              "      <td>yes</td>\n",
              "      <td>1</td>\n",
              "      <td>3</td>\n",
              "      <td>0</td>\n",
              "      <td>no</td>\n",
              "      <td>no</td>\n",
              "      <td>no</td>\n",
              "      <td>no</td>\n",
              "      <td>no</td>\n",
              "      <td>no</td>\n",
              "      <td>no</td>\n",
              "      <td>no</td>\n",
              "      <td>76284</td>\n",
              "      <td>...</td>\n",
              "      <td>549075.8</td>\n",
              "      <td>106.6</td>\n",
              "      <td>1.1</td>\n",
              "      <td>5.1</td>\n",
              "      <td>6.2</td>\n",
              "      <td>10.8</td>\n",
              "      <td>9.7</td>\n",
              "      <td>218.0</td>\n",
              "      <td>18.772066</td>\n",
              "      <td>99.9</td>\n",
              "      <td>99.8</td>\n",
              "      <td>99.5</td>\n",
              "      <td>43.9</td>\n",
              "      <td>95.7</td>\n",
              "      <td>55.3</td>\n",
              "      <td>99.9</td>\n",
              "      <td>0.3</td>\n",
              "      <td>75.79</td>\n",
              "      <td>6.2</td>\n",
              "      <td>5.53</td>\n",
              "      <td>715.1</td>\n",
              "      <td>136.11</td>\n",
              "      <td>77.93</td>\n",
              "      <td>62.89</td>\n",
              "      <td>47.85</td>\n",
              "      <td>41.80</td>\n",
              "      <td>36.77</td>\n",
              "      <td>29.07</td>\n",
              "      <td>#!</td>\n",
              "      <td>1391.710938</td>\n",
              "      <td>89.0495</td>\n",
              "      <td>65.9</td>\n",
              "      <td>99.6</td>\n",
              "      <td>8180.755454</td>\n",
              "      <td>375.8</td>\n",
              "      <td>6943.0</td>\n",
              "      <td>0.45356</td>\n",
              "      <td>269768.0</td>\n",
              "      <td>23587.0</td>\n",
              "      <td>230310.0</td>\n",
              "    </tr>\n",
              "    <tr>\n",
              "      <th>2</th>\n",
              "      <td>2011-08-27</td>\n",
              "      <td>43</td>\n",
              "      <td>29.0</td>\n",
              "      <td>2.0</td>\n",
              "      <td>NaN</td>\n",
              "      <td>NaN</td>\n",
              "      <td>NaN</td>\n",
              "      <td>NaN</td>\n",
              "      <td>NaN</td>\n",
              "      <td>NaN</td>\n",
              "      <td>Investment</td>\n",
              "      <td>Tekstil'shhiki</td>\n",
              "      <td>4.808270e+06</td>\n",
              "      <td>101708</td>\n",
              "      <td>0.112560</td>\n",
              "      <td>0.118537</td>\n",
              "      <td>5879</td>\n",
              "      <td>1463.0</td>\n",
              "      <td>4</td>\n",
              "      <td>6207</td>\n",
              "      <td>5580.0</td>\n",
              "      <td>7</td>\n",
              "      <td>0</td>\n",
              "      <td>1</td>\n",
              "      <td>0</td>\n",
              "      <td>5</td>\n",
              "      <td>1</td>\n",
              "      <td>no</td>\n",
              "      <td>0</td>\n",
              "      <td>0</td>\n",
              "      <td>1</td>\n",
              "      <td>no</td>\n",
              "      <td>no</td>\n",
              "      <td>no</td>\n",
              "      <td>yes</td>\n",
              "      <td>no</td>\n",
              "      <td>no</td>\n",
              "      <td>no</td>\n",
              "      <td>no</td>\n",
              "      <td>101982</td>\n",
              "      <td>...</td>\n",
              "      <td>549075.8</td>\n",
              "      <td>106.6</td>\n",
              "      <td>1.1</td>\n",
              "      <td>5.1</td>\n",
              "      <td>6.2</td>\n",
              "      <td>10.8</td>\n",
              "      <td>9.7</td>\n",
              "      <td>218.0</td>\n",
              "      <td>18.772066</td>\n",
              "      <td>99.9</td>\n",
              "      <td>99.8</td>\n",
              "      <td>99.5</td>\n",
              "      <td>43.9</td>\n",
              "      <td>95.7</td>\n",
              "      <td>55.3</td>\n",
              "      <td>99.9</td>\n",
              "      <td>0.3</td>\n",
              "      <td>75.79</td>\n",
              "      <td>6.2</td>\n",
              "      <td>5.53</td>\n",
              "      <td>715.1</td>\n",
              "      <td>136.11</td>\n",
              "      <td>77.93</td>\n",
              "      <td>62.89</td>\n",
              "      <td>47.85</td>\n",
              "      <td>41.80</td>\n",
              "      <td>36.77</td>\n",
              "      <td>29.07</td>\n",
              "      <td>#!</td>\n",
              "      <td>1391.710938</td>\n",
              "      <td>89.0495</td>\n",
              "      <td>65.9</td>\n",
              "      <td>99.6</td>\n",
              "      <td>8180.755454</td>\n",
              "      <td>375.8</td>\n",
              "      <td>6943.0</td>\n",
              "      <td>0.45356</td>\n",
              "      <td>269768.0</td>\n",
              "      <td>23587.0</td>\n",
              "      <td>230310.0</td>\n",
              "    </tr>\n",
              "    <tr>\n",
              "      <th>3</th>\n",
              "      <td>2011-09-01</td>\n",
              "      <td>89</td>\n",
              "      <td>50.0</td>\n",
              "      <td>9.0</td>\n",
              "      <td>NaN</td>\n",
              "      <td>NaN</td>\n",
              "      <td>NaN</td>\n",
              "      <td>NaN</td>\n",
              "      <td>NaN</td>\n",
              "      <td>NaN</td>\n",
              "      <td>Investment</td>\n",
              "      <td>Mitino</td>\n",
              "      <td>1.258354e+07</td>\n",
              "      <td>178473</td>\n",
              "      <td>0.194703</td>\n",
              "      <td>0.069753</td>\n",
              "      <td>13087</td>\n",
              "      <td>6839.0</td>\n",
              "      <td>9</td>\n",
              "      <td>13670</td>\n",
              "      <td>17063.0</td>\n",
              "      <td>10</td>\n",
              "      <td>0</td>\n",
              "      <td>1</td>\n",
              "      <td>0</td>\n",
              "      <td>17</td>\n",
              "      <td>6</td>\n",
              "      <td>no</td>\n",
              "      <td>0</td>\n",
              "      <td>11</td>\n",
              "      <td>4</td>\n",
              "      <td>no</td>\n",
              "      <td>no</td>\n",
              "      <td>no</td>\n",
              "      <td>no</td>\n",
              "      <td>no</td>\n",
              "      <td>no</td>\n",
              "      <td>no</td>\n",
              "      <td>no</td>\n",
              "      <td>21155</td>\n",
              "      <td>...</td>\n",
              "      <td>549075.8</td>\n",
              "      <td>106.6</td>\n",
              "      <td>1.1</td>\n",
              "      <td>5.1</td>\n",
              "      <td>6.2</td>\n",
              "      <td>10.8</td>\n",
              "      <td>9.7</td>\n",
              "      <td>218.0</td>\n",
              "      <td>18.772066</td>\n",
              "      <td>99.9</td>\n",
              "      <td>99.8</td>\n",
              "      <td>99.5</td>\n",
              "      <td>43.9</td>\n",
              "      <td>95.7</td>\n",
              "      <td>55.3</td>\n",
              "      <td>99.9</td>\n",
              "      <td>0.3</td>\n",
              "      <td>75.79</td>\n",
              "      <td>6.2</td>\n",
              "      <td>5.53</td>\n",
              "      <td>715.1</td>\n",
              "      <td>155.22</td>\n",
              "      <td>94.02</td>\n",
              "      <td>66.28</td>\n",
              "      <td>51.15</td>\n",
              "      <td>44.25</td>\n",
              "      <td>37.73</td>\n",
              "      <td>30.63</td>\n",
              "      <td>#!</td>\n",
              "      <td>1391.710938</td>\n",
              "      <td>89.0495</td>\n",
              "      <td>65.9</td>\n",
              "      <td>99.6</td>\n",
              "      <td>8180.755454</td>\n",
              "      <td>375.8</td>\n",
              "      <td>6943.0</td>\n",
              "      <td>0.45356</td>\n",
              "      <td>269768.0</td>\n",
              "      <td>23587.0</td>\n",
              "      <td>230310.0</td>\n",
              "    </tr>\n",
              "    <tr>\n",
              "      <th>4</th>\n",
              "      <td>2011-09-05</td>\n",
              "      <td>77</td>\n",
              "      <td>77.0</td>\n",
              "      <td>4.0</td>\n",
              "      <td>NaN</td>\n",
              "      <td>NaN</td>\n",
              "      <td>NaN</td>\n",
              "      <td>NaN</td>\n",
              "      <td>NaN</td>\n",
              "      <td>NaN</td>\n",
              "      <td>Investment</td>\n",
              "      <td>Basmannoe</td>\n",
              "      <td>8.398461e+06</td>\n",
              "      <td>108171</td>\n",
              "      <td>0.015234</td>\n",
              "      <td>0.037316</td>\n",
              "      <td>5706</td>\n",
              "      <td>3240.0</td>\n",
              "      <td>7</td>\n",
              "      <td>6748</td>\n",
              "      <td>7770.0</td>\n",
              "      <td>9</td>\n",
              "      <td>0</td>\n",
              "      <td>4</td>\n",
              "      <td>2</td>\n",
              "      <td>25</td>\n",
              "      <td>2</td>\n",
              "      <td>no</td>\n",
              "      <td>0</td>\n",
              "      <td>10</td>\n",
              "      <td>93</td>\n",
              "      <td>no</td>\n",
              "      <td>no</td>\n",
              "      <td>no</td>\n",
              "      <td>yes</td>\n",
              "      <td>yes</td>\n",
              "      <td>no</td>\n",
              "      <td>no</td>\n",
              "      <td>no</td>\n",
              "      <td>28179</td>\n",
              "      <td>...</td>\n",
              "      <td>549075.8</td>\n",
              "      <td>106.6</td>\n",
              "      <td>1.1</td>\n",
              "      <td>5.1</td>\n",
              "      <td>6.2</td>\n",
              "      <td>10.8</td>\n",
              "      <td>9.7</td>\n",
              "      <td>218.0</td>\n",
              "      <td>18.772066</td>\n",
              "      <td>99.9</td>\n",
              "      <td>99.8</td>\n",
              "      <td>99.5</td>\n",
              "      <td>43.9</td>\n",
              "      <td>95.7</td>\n",
              "      <td>55.3</td>\n",
              "      <td>99.9</td>\n",
              "      <td>0.3</td>\n",
              "      <td>75.79</td>\n",
              "      <td>6.2</td>\n",
              "      <td>5.53</td>\n",
              "      <td>715.1</td>\n",
              "      <td>155.22</td>\n",
              "      <td>94.02</td>\n",
              "      <td>66.28</td>\n",
              "      <td>51.15</td>\n",
              "      <td>44.25</td>\n",
              "      <td>37.73</td>\n",
              "      <td>30.63</td>\n",
              "      <td>#!</td>\n",
              "      <td>1391.710938</td>\n",
              "      <td>89.0495</td>\n",
              "      <td>65.9</td>\n",
              "      <td>99.6</td>\n",
              "      <td>8180.755454</td>\n",
              "      <td>375.8</td>\n",
              "      <td>6943.0</td>\n",
              "      <td>0.45356</td>\n",
              "      <td>269768.0</td>\n",
              "      <td>23587.0</td>\n",
              "      <td>230310.0</td>\n",
              "    </tr>\n",
              "  </tbody>\n",
              "</table>\n",
              "<p>5 rows × 367 columns</p>\n",
              "</div>\n",
              "      <button class=\"colab-df-convert\" onclick=\"convertToInteractive('df-4f7bcdcf-e676-4fcd-ab4f-5d30a47f7a0d')\"\n",
              "              title=\"Convert this dataframe to an interactive table.\"\n",
              "              style=\"display:none;\">\n",
              "        \n",
              "  <svg xmlns=\"http://www.w3.org/2000/svg\" height=\"24px\"viewBox=\"0 0 24 24\"\n",
              "       width=\"24px\">\n",
              "    <path d=\"M0 0h24v24H0V0z\" fill=\"none\"/>\n",
              "    <path d=\"M18.56 5.44l.94 2.06.94-2.06 2.06-.94-2.06-.94-.94-2.06-.94 2.06-2.06.94zm-11 1L8.5 8.5l.94-2.06 2.06-.94-2.06-.94L8.5 2.5l-.94 2.06-2.06.94zm10 10l.94 2.06.94-2.06 2.06-.94-2.06-.94-.94-2.06-.94 2.06-2.06.94z\"/><path d=\"M17.41 7.96l-1.37-1.37c-.4-.4-.92-.59-1.43-.59-.52 0-1.04.2-1.43.59L10.3 9.45l-7.72 7.72c-.78.78-.78 2.05 0 2.83L4 21.41c.39.39.9.59 1.41.59.51 0 1.02-.2 1.41-.59l7.78-7.78 2.81-2.81c.8-.78.8-2.07 0-2.86zM5.41 20L4 18.59l7.72-7.72 1.47 1.35L5.41 20z\"/>\n",
              "  </svg>\n",
              "      </button>\n",
              "      \n",
              "  <style>\n",
              "    .colab-df-container {\n",
              "      display:flex;\n",
              "      flex-wrap:wrap;\n",
              "      gap: 12px;\n",
              "    }\n",
              "\n",
              "    .colab-df-convert {\n",
              "      background-color: #E8F0FE;\n",
              "      border: none;\n",
              "      border-radius: 50%;\n",
              "      cursor: pointer;\n",
              "      display: none;\n",
              "      fill: #1967D2;\n",
              "      height: 32px;\n",
              "      padding: 0 0 0 0;\n",
              "      width: 32px;\n",
              "    }\n",
              "\n",
              "    .colab-df-convert:hover {\n",
              "      background-color: #E2EBFA;\n",
              "      box-shadow: 0px 1px 2px rgba(60, 64, 67, 0.3), 0px 1px 3px 1px rgba(60, 64, 67, 0.15);\n",
              "      fill: #174EA6;\n",
              "    }\n",
              "\n",
              "    [theme=dark] .colab-df-convert {\n",
              "      background-color: #3B4455;\n",
              "      fill: #D2E3FC;\n",
              "    }\n",
              "\n",
              "    [theme=dark] .colab-df-convert:hover {\n",
              "      background-color: #434B5C;\n",
              "      box-shadow: 0px 1px 3px 1px rgba(0, 0, 0, 0.15);\n",
              "      filter: drop-shadow(0px 1px 2px rgba(0, 0, 0, 0.3));\n",
              "      fill: #FFFFFF;\n",
              "    }\n",
              "  </style>\n",
              "\n",
              "      <script>\n",
              "        const buttonEl =\n",
              "          document.querySelector('#df-4f7bcdcf-e676-4fcd-ab4f-5d30a47f7a0d button.colab-df-convert');\n",
              "        buttonEl.style.display =\n",
              "          google.colab.kernel.accessAllowed ? 'block' : 'none';\n",
              "\n",
              "        async function convertToInteractive(key) {\n",
              "          const element = document.querySelector('#df-4f7bcdcf-e676-4fcd-ab4f-5d30a47f7a0d');\n",
              "          const dataTable =\n",
              "            await google.colab.kernel.invokeFunction('convertToInteractive',\n",
              "                                                     [key], {});\n",
              "          if (!dataTable) return;\n",
              "\n",
              "          const docLinkHtml = 'Like what you see? Visit the ' +\n",
              "            '<a target=\"_blank\" href=https://colab.research.google.com/notebooks/data_table.ipynb>data table notebook</a>'\n",
              "            + ' to learn more about interactive tables.';\n",
              "          element.innerHTML = '';\n",
              "          dataTable['output_type'] = 'display_data';\n",
              "          await google.colab.output.renderOutput(dataTable, element);\n",
              "          const docLink = document.createElement('div');\n",
              "          docLink.innerHTML = docLinkHtml;\n",
              "          element.appendChild(docLink);\n",
              "        }\n",
              "      </script>\n",
              "    </div>\n",
              "  </div>\n",
              "  "
            ],
            "text/plain": [
              "   timestamp  full_sq  ...  apartment_build  apartment_fund_sqm\n",
              "0 2011-08-20       43  ...          23587.0            230310.0\n",
              "1 2011-08-23       34  ...          23587.0            230310.0\n",
              "2 2011-08-27       43  ...          23587.0            230310.0\n",
              "3 2011-09-01       89  ...          23587.0            230310.0\n",
              "4 2011-09-05       77  ...          23587.0            230310.0\n",
              "\n",
              "[5 rows x 367 columns]"
            ]
          },
          "metadata": {},
          "execution_count": 1862
        }
      ]
    },
    {
      "cell_type": "markdown",
      "source": [
        "# Заполним значения Нан."
      ],
      "metadata": {
        "id": "EboSUpeDC6w3"
      }
    },
    {
      "cell_type": "markdown",
      "source": [
        "Предположим, \n",
        "\n",
        "0 < кухня < жилой\n",
        "\n",
        "кухня < жилая < общей\n",
        "\n",
        "a < общая <= P"
      ],
      "metadata": {
        "id": "kltkXMJjQXBp"
      }
    },
    {
      "cell_type": "markdown",
      "source": [
        "Площадь не может быть 0, заменим на Нан, чтобы исключить отрицательную корреляцию."
      ],
      "metadata": {
        "id": "0zVioxTE7BUi"
      }
    },
    {
      "cell_type": "code",
      "source": [
        "df[['life_sq','full_sq', 'kitch_sq']]=df[['life_sq','full_sq','kitch_sq']].replace(0, np.nan)"
      ],
      "metadata": {
        "id": "KbsItOXa7Af0"
      },
      "execution_count": 1863,
      "outputs": []
    },
    {
      "cell_type": "code",
      "source": [
        "df[['full_sq', 'life_sq', 'kitch_sq']].isnull().sum()"
      ],
      "metadata": {
        "colab": {
          "base_uri": "https://localhost:8080/"
        },
        "id": "VEkU5MHg8ZJ7",
        "outputId": "b7f1d6d5-6aab-4332-8d4f-193fe94b7789"
      },
      "execution_count": 1864,
      "outputs": [
        {
          "output_type": "execute_result",
          "data": {
            "text/plain": [
              "full_sq         2\n",
              "life_sq      6421\n",
              "kitch_sq    10947\n",
              "dtype: int64"
            ]
          },
          "metadata": {},
          "execution_count": 1864
        }
      ]
    },
    {
      "cell_type": "markdown",
      "source": [
        "Выявим сколько значений full было меньше life,kitch и заменим их на нан для дальнейшей корректировки."
      ],
      "metadata": {
        "id": "6pTPU3XG7LLc"
      }
    },
    {
      "cell_type": "code",
      "source": [
        "df['full_sq'] = np.where(df['life_sq'] > df['full_sq'], np.nan, df['full_sq'])\n",
        "df['full_sq'] = np.where(df['kitch_sq'] > df['full_sq'], np.nan, df['full_sq'])"
      ],
      "metadata": {
        "id": "BR9CPt4A6312"
      },
      "execution_count": 1865,
      "outputs": []
    },
    {
      "cell_type": "code",
      "source": [
        "df[['full_sq', 'life_sq', 'kitch_sq']].isnull().sum()"
      ],
      "metadata": {
        "colab": {
          "base_uri": "https://localhost:8080/"
        },
        "id": "151E6Xpp7IYN",
        "outputId": "78f23aa7-3acf-49a4-878a-91761035bbda"
      },
      "execution_count": 1866,
      "outputs": [
        {
          "output_type": "execute_result",
          "data": {
            "text/plain": [
              "full_sq        50\n",
              "life_sq      6421\n",
              "kitch_sq    10947\n",
              "dtype: int64"
            ]
          },
          "metadata": {},
          "execution_count": 1866
        }
      ]
    },
    {
      "cell_type": "code",
      "source": [
        "df['full_sq'] = np.where(df['full_sq'].isna(), (df['life_sq'] + df['kitch_sq'] + (df['kitch_sq']*1/2)), df['full_sq'])"
      ],
      "metadata": {
        "id": "LRlBfZft7iZf"
      },
      "execution_count": 1867,
      "outputs": []
    },
    {
      "cell_type": "markdown",
      "source": [
        "Предположим, что (df['kitch_sq']*1/2) - это половина от площади кухни на балкон и ванную(примерно)."
      ],
      "metadata": {
        "id": "rxFqsnfW7yE2"
      }
    },
    {
      "cell_type": "markdown",
      "source": [
        "Если кухня = Нан, значит приравняем full и life."
      ],
      "metadata": {
        "id": "eUqTzROEHEhD"
      }
    },
    {
      "cell_type": "code",
      "source": [
        "df['full_sq'] = np.where(df['full_sq'].isna(), df['life_sq'], df['full_sq'])"
      ],
      "metadata": {
        "id": "bC7-DBxOGiws"
      },
      "execution_count": 1868,
      "outputs": []
    },
    {
      "cell_type": "code",
      "source": [
        "df[['full_sq', 'life_sq', 'kitch_sq']].isnull().sum()"
      ],
      "metadata": {
        "colab": {
          "base_uri": "https://localhost:8080/"
        },
        "id": "GjQ12fxZAkoO",
        "outputId": "3e1522bb-cdf0-4961-af15-0593cb1d7827"
      },
      "execution_count": 1869,
      "outputs": [
        {
          "output_type": "execute_result",
          "data": {
            "text/plain": [
              "full_sq         1\n",
              "life_sq      6421\n",
              "kitch_sq    10947\n",
              "dtype: int64"
            ]
          },
          "metadata": {},
          "execution_count": 1869
        }
      ]
    },
    {
      "cell_type": "markdown",
      "source": [
        "Оставшуюся  строку, я удалю, т.к. если она не расчиталась, значит данных по др. площадям в этих строках нет.(неинформативно)"
      ],
      "metadata": {
        "id": "XO7PkWZuAumn"
      }
    },
    {
      "cell_type": "code",
      "source": [
        "df = df.dropna(axis = 'index', how = 'any', subset = ['full_sq'])"
      ],
      "metadata": {
        "id": "BZaU5CD4BatR"
      },
      "execution_count": 1870,
      "outputs": []
    },
    {
      "cell_type": "code",
      "source": [
        "df[['full_sq', 'life_sq', 'kitch_sq']].isnull().sum()"
      ],
      "metadata": {
        "colab": {
          "base_uri": "https://localhost:8080/"
        },
        "id": "8OuifESTE7kH",
        "outputId": "dcf3b0b1-4f4c-4f52-dc8c-e5816b19775c"
      },
      "execution_count": 1871,
      "outputs": [
        {
          "output_type": "execute_result",
          "data": {
            "text/plain": [
              "full_sq         0\n",
              "life_sq      6420\n",
              "kitch_sq    10946\n",
              "dtype: int64"
            ]
          },
          "metadata": {},
          "execution_count": 1871
        }
      ]
    },
    {
      "cell_type": "markdown",
      "source": [
        "Заполним данные в life_sq."
      ],
      "metadata": {
        "id": "zD7-1A3b-id2"
      }
    },
    {
      "cell_type": "markdown",
      "source": [
        "Также, заменим значения в life, если они больше full и меньше kitchen."
      ],
      "metadata": {
        "id": "MtrWxO6e84Sh"
      }
    },
    {
      "cell_type": "code",
      "source": [
        "df['life_sq'] = np.where(df['life_sq'] > df['full_sq'], np.nan, df['life_sq'])\n",
        "df['life_sq'] = np.where(df['life_sq'] < df['kitch_sq'], np.nan, df['life_sq'])"
      ],
      "metadata": {
        "id": "Qu1gt0-9V5i_",
        "colab": {
          "base_uri": "https://localhost:8080/"
        },
        "outputId": "ae1cb705-1ec1-47ac-fbb0-81cbab6a5e4c"
      },
      "execution_count": 1872,
      "outputs": [
        {
          "output_type": "stream",
          "name": "stderr",
          "text": [
            "/usr/local/lib/python3.7/dist-packages/ipykernel_launcher.py:1: SettingWithCopyWarning: \n",
            "A value is trying to be set on a copy of a slice from a DataFrame.\n",
            "Try using .loc[row_indexer,col_indexer] = value instead\n",
            "\n",
            "See the caveats in the documentation: https://pandas.pydata.org/pandas-docs/stable/user_guide/indexing.html#returning-a-view-versus-a-copy\n",
            "  \"\"\"Entry point for launching an IPython kernel.\n",
            "/usr/local/lib/python3.7/dist-packages/ipykernel_launcher.py:2: SettingWithCopyWarning: \n",
            "A value is trying to be set on a copy of a slice from a DataFrame.\n",
            "Try using .loc[row_indexer,col_indexer] = value instead\n",
            "\n",
            "See the caveats in the documentation: https://pandas.pydata.org/pandas-docs/stable/user_guide/indexing.html#returning-a-view-versus-a-copy\n",
            "  \n"
          ]
        }
      ]
    },
    {
      "cell_type": "code",
      "source": [
        "df[['full_sq', 'life_sq', 'kitch_sq']].isnull().sum()"
      ],
      "metadata": {
        "colab": {
          "base_uri": "https://localhost:8080/"
        },
        "id": "OIhzqSt080eO",
        "outputId": "e57a3e62-2610-43ed-cf1a-d560ffb0a80c"
      },
      "execution_count": 1873,
      "outputs": [
        {
          "output_type": "execute_result",
          "data": {
            "text/plain": [
              "full_sq         0\n",
              "life_sq      6469\n",
              "kitch_sq    10946\n",
              "dtype: int64"
            ]
          },
          "metadata": {},
          "execution_count": 1873
        }
      ]
    },
    {
      "cell_type": "markdown",
      "source": [
        "Вычтем из общей - кухню и часть на \"другое\"(ванна/балкон)"
      ],
      "metadata": {
        "id": "2eZy4nq79Ok7"
      }
    },
    {
      "cell_type": "code",
      "source": [
        "df['life_sq'] = np.where(df['life_sq'].isna(), (df['full_sq'] -df['kitch_sq'] - (df['full_sq']*0.7)), df['life_sq'])"
      ],
      "metadata": {
        "id": "3-jMaFKoPzub",
        "colab": {
          "base_uri": "https://localhost:8080/"
        },
        "outputId": "d00c6bd6-b0d2-4038-b661-bd6ff86317e1"
      },
      "execution_count": 1874,
      "outputs": [
        {
          "output_type": "stream",
          "name": "stderr",
          "text": [
            "/usr/local/lib/python3.7/dist-packages/ipykernel_launcher.py:1: SettingWithCopyWarning: \n",
            "A value is trying to be set on a copy of a slice from a DataFrame.\n",
            "Try using .loc[row_indexer,col_indexer] = value instead\n",
            "\n",
            "See the caveats in the documentation: https://pandas.pydata.org/pandas-docs/stable/user_guide/indexing.html#returning-a-view-versus-a-copy\n",
            "  \"\"\"Entry point for launching an IPython kernel.\n"
          ]
        }
      ]
    },
    {
      "cell_type": "markdown",
      "source": [
        "Если кухня Нан, посчитаем площадь от жилой, учтем ванную и балкон(сделаем долю жилой 0,7 от общей)."
      ],
      "metadata": {
        "id": "ipPPr8DKHc-E"
      }
    },
    {
      "cell_type": "code",
      "source": [
        "df['life_sq'] = np.where(df['life_sq'].isna(), (df['full_sq']*0.7), df['life_sq'])"
      ],
      "metadata": {
        "colab": {
          "base_uri": "https://localhost:8080/"
        },
        "id": "zj92R0f_HYSK",
        "outputId": "63f24f46-37d0-4a41-96bf-083bcb989e5c"
      },
      "execution_count": 1875,
      "outputs": [
        {
          "output_type": "stream",
          "name": "stderr",
          "text": [
            "/usr/local/lib/python3.7/dist-packages/ipykernel_launcher.py:1: SettingWithCopyWarning: \n",
            "A value is trying to be set on a copy of a slice from a DataFrame.\n",
            "Try using .loc[row_indexer,col_indexer] = value instead\n",
            "\n",
            "See the caveats in the documentation: https://pandas.pydata.org/pandas-docs/stable/user_guide/indexing.html#returning-a-view-versus-a-copy\n",
            "  \"\"\"Entry point for launching an IPython kernel.\n"
          ]
        }
      ]
    },
    {
      "cell_type": "code",
      "source": [
        "df[['full_sq', 'life_sq', 'kitch_sq']].isnull().sum()"
      ],
      "metadata": {
        "colab": {
          "base_uri": "https://localhost:8080/"
        },
        "id": "be964b7N9qHs",
        "outputId": "b7706465-b543-44d0-996b-2738e72b96fd"
      },
      "execution_count": 1876,
      "outputs": [
        {
          "output_type": "execute_result",
          "data": {
            "text/plain": [
              "full_sq         0\n",
              "life_sq         0\n",
              "kitch_sq    10946\n",
              "dtype: int64"
            ]
          },
          "metadata": {},
          "execution_count": 1876
        }
      ]
    },
    {
      "cell_type": "markdown",
      "source": [
        "Проработаем значения kitch."
      ],
      "metadata": {
        "id": "3J1uD_JgKam_"
      }
    },
    {
      "cell_type": "code",
      "source": [
        "df['kitch_sq'] = np.where(df['kitch_sq'] > df['full_sq'], np.nan, df['kitch_sq'])\n",
        "df['kitch_sq'] = np.where(df['kitch_sq'] > df['life_sq'], np.nan, df['kitch_sq'])"
      ],
      "metadata": {
        "id": "As7yXsC-WS-W",
        "colab": {
          "base_uri": "https://localhost:8080/"
        },
        "outputId": "3b9bbd34-d0c9-4260-8c92-bfc75364feeb"
      },
      "execution_count": 1877,
      "outputs": [
        {
          "output_type": "stream",
          "name": "stderr",
          "text": [
            "/usr/local/lib/python3.7/dist-packages/ipykernel_launcher.py:1: SettingWithCopyWarning: \n",
            "A value is trying to be set on a copy of a slice from a DataFrame.\n",
            "Try using .loc[row_indexer,col_indexer] = value instead\n",
            "\n",
            "See the caveats in the documentation: https://pandas.pydata.org/pandas-docs/stable/user_guide/indexing.html#returning-a-view-versus-a-copy\n",
            "  \"\"\"Entry point for launching an IPython kernel.\n",
            "/usr/local/lib/python3.7/dist-packages/ipykernel_launcher.py:2: SettingWithCopyWarning: \n",
            "A value is trying to be set on a copy of a slice from a DataFrame.\n",
            "Try using .loc[row_indexer,col_indexer] = value instead\n",
            "\n",
            "See the caveats in the documentation: https://pandas.pydata.org/pandas-docs/stable/user_guide/indexing.html#returning-a-view-versus-a-copy\n",
            "  \n"
          ]
        }
      ]
    },
    {
      "cell_type": "markdown",
      "source": [
        "У нас есть значения, где общая = жилой, поэтому кухню будем искать из жилой."
      ],
      "metadata": {
        "id": "E5ZIFQFvNeIO"
      }
    },
    {
      "cell_type": "markdown",
      "source": [
        "Предположим,что кухня занимает долю от общей(0,2), тк жилая у нас 0,7, а на другое оставим 0,1 и вычтем это."
      ],
      "metadata": {
        "id": "YPiQ6zaIScbz"
      }
    },
    {
      "cell_type": "code",
      "source": [
        "df['kitch_sq'] = np.where(df['kitch_sq'].isna(), (df['life_sq'] - ((df['full_sq']*0.1))), df['kitch_sq'])"
      ],
      "metadata": {
        "id": "kxTDZYDLRC5Q",
        "colab": {
          "base_uri": "https://localhost:8080/"
        },
        "outputId": "997dcf40-d9f1-416b-cfb0-5762bd503d94"
      },
      "execution_count": 1878,
      "outputs": [
        {
          "output_type": "stream",
          "name": "stderr",
          "text": [
            "/usr/local/lib/python3.7/dist-packages/ipykernel_launcher.py:1: SettingWithCopyWarning: \n",
            "A value is trying to be set on a copy of a slice from a DataFrame.\n",
            "Try using .loc[row_indexer,col_indexer] = value instead\n",
            "\n",
            "See the caveats in the documentation: https://pandas.pydata.org/pandas-docs/stable/user_guide/indexing.html#returning-a-view-versus-a-copy\n",
            "  \"\"\"Entry point for launching an IPython kernel.\n"
          ]
        }
      ]
    },
    {
      "cell_type": "code",
      "source": [
        "df[['full_sq', 'life_sq', 'kitch_sq']].isnull().sum()"
      ],
      "metadata": {
        "colab": {
          "base_uri": "https://localhost:8080/"
        },
        "id": "SVUhfHIQ-D7O",
        "outputId": "57628ef4-0dc4-4e4d-e55c-a03956dbe77c"
      },
      "execution_count": 1879,
      "outputs": [
        {
          "output_type": "execute_result",
          "data": {
            "text/plain": [
              "full_sq     0\n",
              "life_sq     0\n",
              "kitch_sq    0\n",
              "dtype: int64"
            ]
          },
          "metadata": {},
          "execution_count": 1879
        }
      ]
    },
    {
      "cell_type": "markdown",
      "source": [
        "# Начнем работать над выбросами.\n",
        "\n",
        "---\n",
        "\n"
      ],
      "metadata": {
        "id": "7ONwh6Cteask"
      }
    },
    {
      "cell_type": "markdown",
      "source": [
        "Остановимся на значениях, которые напрямую влияют на нашу целевую переменную - площадь квартиры.\n",
        "Приведем данные по площади в информативный вид.\n",
        "\n",
        "---\n",
        "\n"
      ],
      "metadata": {
        "id": "zgqQCM4xMN-d"
      }
    },
    {
      "cell_type": "code",
      "source": [
        "df[['full_sq', 'life_sq', 'kitch_sq']].describe()"
      ],
      "metadata": {
        "colab": {
          "base_uri": "https://localhost:8080/",
          "height": 300
        },
        "id": "QKHUiN7WNeNk",
        "outputId": "2b222914-f0f4-4ee7-cd69-bc5b8ce7567b"
      },
      "execution_count": 1880,
      "outputs": [
        {
          "output_type": "execute_result",
          "data": {
            "text/html": [
              "\n",
              "  <div id=\"df-9712261c-9464-4ab2-882b-f112bd00b9ec\">\n",
              "    <div class=\"colab-df-container\">\n",
              "      <div>\n",
              "<style scoped>\n",
              "    .dataframe tbody tr th:only-of-type {\n",
              "        vertical-align: middle;\n",
              "    }\n",
              "\n",
              "    .dataframe tbody tr th {\n",
              "        vertical-align: top;\n",
              "    }\n",
              "\n",
              "    .dataframe thead th {\n",
              "        text-align: right;\n",
              "    }\n",
              "</style>\n",
              "<table border=\"1\" class=\"dataframe\">\n",
              "  <thead>\n",
              "    <tr style=\"text-align: right;\">\n",
              "      <th></th>\n",
              "      <th>full_sq</th>\n",
              "      <th>life_sq</th>\n",
              "      <th>kitch_sq</th>\n",
              "    </tr>\n",
              "  </thead>\n",
              "  <tbody>\n",
              "    <tr>\n",
              "      <th>count</th>\n",
              "      <td>30460.000000</td>\n",
              "      <td>30460.000000</td>\n",
              "      <td>30460.000000</td>\n",
              "    </tr>\n",
              "    <tr>\n",
              "      <th>mean</th>\n",
              "      <td>55.027101</td>\n",
              "      <td>32.984580</td>\n",
              "      <td>15.110909</td>\n",
              "    </tr>\n",
              "    <tr>\n",
              "      <th>std</th>\n",
              "      <td>66.946324</td>\n",
              "      <td>49.126343</td>\n",
              "      <td>24.094786</td>\n",
              "    </tr>\n",
              "    <tr>\n",
              "      <th>min</th>\n",
              "      <td>1.000000</td>\n",
              "      <td>-1094.850000</td>\n",
              "      <td>-1401.200000</td>\n",
              "    </tr>\n",
              "    <tr>\n",
              "      <th>25%</th>\n",
              "      <td>38.000000</td>\n",
              "      <td>19.000000</td>\n",
              "      <td>5.000000</td>\n",
              "    </tr>\n",
              "    <tr>\n",
              "      <th>50%</th>\n",
              "      <td>50.000000</td>\n",
              "      <td>29.000000</td>\n",
              "      <td>9.000000</td>\n",
              "    </tr>\n",
              "    <tr>\n",
              "      <th>75%</th>\n",
              "      <td>63.000000</td>\n",
              "      <td>42.000000</td>\n",
              "      <td>22.700000</td>\n",
              "    </tr>\n",
              "    <tr>\n",
              "      <th>max</th>\n",
              "      <td>7479.500000</td>\n",
              "      <td>7478.000000</td>\n",
              "      <td>721.800000</td>\n",
              "    </tr>\n",
              "  </tbody>\n",
              "</table>\n",
              "</div>\n",
              "      <button class=\"colab-df-convert\" onclick=\"convertToInteractive('df-9712261c-9464-4ab2-882b-f112bd00b9ec')\"\n",
              "              title=\"Convert this dataframe to an interactive table.\"\n",
              "              style=\"display:none;\">\n",
              "        \n",
              "  <svg xmlns=\"http://www.w3.org/2000/svg\" height=\"24px\"viewBox=\"0 0 24 24\"\n",
              "       width=\"24px\">\n",
              "    <path d=\"M0 0h24v24H0V0z\" fill=\"none\"/>\n",
              "    <path d=\"M18.56 5.44l.94 2.06.94-2.06 2.06-.94-2.06-.94-.94-2.06-.94 2.06-2.06.94zm-11 1L8.5 8.5l.94-2.06 2.06-.94-2.06-.94L8.5 2.5l-.94 2.06-2.06.94zm10 10l.94 2.06.94-2.06 2.06-.94-2.06-.94-.94-2.06-.94 2.06-2.06.94z\"/><path d=\"M17.41 7.96l-1.37-1.37c-.4-.4-.92-.59-1.43-.59-.52 0-1.04.2-1.43.59L10.3 9.45l-7.72 7.72c-.78.78-.78 2.05 0 2.83L4 21.41c.39.39.9.59 1.41.59.51 0 1.02-.2 1.41-.59l7.78-7.78 2.81-2.81c.8-.78.8-2.07 0-2.86zM5.41 20L4 18.59l7.72-7.72 1.47 1.35L5.41 20z\"/>\n",
              "  </svg>\n",
              "      </button>\n",
              "      \n",
              "  <style>\n",
              "    .colab-df-container {\n",
              "      display:flex;\n",
              "      flex-wrap:wrap;\n",
              "      gap: 12px;\n",
              "    }\n",
              "\n",
              "    .colab-df-convert {\n",
              "      background-color: #E8F0FE;\n",
              "      border: none;\n",
              "      border-radius: 50%;\n",
              "      cursor: pointer;\n",
              "      display: none;\n",
              "      fill: #1967D2;\n",
              "      height: 32px;\n",
              "      padding: 0 0 0 0;\n",
              "      width: 32px;\n",
              "    }\n",
              "\n",
              "    .colab-df-convert:hover {\n",
              "      background-color: #E2EBFA;\n",
              "      box-shadow: 0px 1px 2px rgba(60, 64, 67, 0.3), 0px 1px 3px 1px rgba(60, 64, 67, 0.15);\n",
              "      fill: #174EA6;\n",
              "    }\n",
              "\n",
              "    [theme=dark] .colab-df-convert {\n",
              "      background-color: #3B4455;\n",
              "      fill: #D2E3FC;\n",
              "    }\n",
              "\n",
              "    [theme=dark] .colab-df-convert:hover {\n",
              "      background-color: #434B5C;\n",
              "      box-shadow: 0px 1px 3px 1px rgba(0, 0, 0, 0.15);\n",
              "      filter: drop-shadow(0px 1px 2px rgba(0, 0, 0, 0.3));\n",
              "      fill: #FFFFFF;\n",
              "    }\n",
              "  </style>\n",
              "\n",
              "      <script>\n",
              "        const buttonEl =\n",
              "          document.querySelector('#df-9712261c-9464-4ab2-882b-f112bd00b9ec button.colab-df-convert');\n",
              "        buttonEl.style.display =\n",
              "          google.colab.kernel.accessAllowed ? 'block' : 'none';\n",
              "\n",
              "        async function convertToInteractive(key) {\n",
              "          const element = document.querySelector('#df-9712261c-9464-4ab2-882b-f112bd00b9ec');\n",
              "          const dataTable =\n",
              "            await google.colab.kernel.invokeFunction('convertToInteractive',\n",
              "                                                     [key], {});\n",
              "          if (!dataTable) return;\n",
              "\n",
              "          const docLinkHtml = 'Like what you see? Visit the ' +\n",
              "            '<a target=\"_blank\" href=https://colab.research.google.com/notebooks/data_table.ipynb>data table notebook</a>'\n",
              "            + ' to learn more about interactive tables.';\n",
              "          element.innerHTML = '';\n",
              "          dataTable['output_type'] = 'display_data';\n",
              "          await google.colab.output.renderOutput(dataTable, element);\n",
              "          const docLink = document.createElement('div');\n",
              "          docLink.innerHTML = docLinkHtml;\n",
              "          element.appendChild(docLink);\n",
              "        }\n",
              "      </script>\n",
              "    </div>\n",
              "  </div>\n",
              "  "
            ],
            "text/plain": [
              "            full_sq       life_sq      kitch_sq\n",
              "count  30460.000000  30460.000000  30460.000000\n",
              "mean      55.027101     32.984580     15.110909\n",
              "std       66.946324     49.126343     24.094786\n",
              "min        1.000000  -1094.850000  -1401.200000\n",
              "25%       38.000000     19.000000      5.000000\n",
              "50%       50.000000     29.000000      9.000000\n",
              "75%       63.000000     42.000000     22.700000\n",
              "max     7479.500000   7478.000000    721.800000"
            ]
          },
          "metadata": {},
          "execution_count": 1880
        }
      ]
    },
    {
      "cell_type": "markdown",
      "source": [
        "Ищем квартили и удаляем значения, невходящие в нижний и верхний диапозон."
      ],
      "metadata": {
        "id": "LQENrVApJjBf"
      }
    },
    {
      "cell_type": "code",
      "source": [
        "min = df['full_sq'].quantile(0.02)\n",
        "max = df['full_sq'].quantile(0.98)\n",
        "df = df[df['full_sq'].between(min, max)] "
      ],
      "metadata": {
        "id": "LqmkVwEnKEXE"
      },
      "execution_count": 1881,
      "outputs": []
    },
    {
      "cell_type": "code",
      "source": [
        "min = df['kitch_sq'].quantile(0.02)\n",
        "max = df['kitch_sq'].quantile(0.98)\n",
        "print(min,max)\n",
        "df = df[df['kitch_sq'].between(min, max)] "
      ],
      "metadata": {
        "colab": {
          "base_uri": "https://localhost:8080/"
        },
        "id": "b8PzN_hVINLl",
        "outputId": "7b62dcf3-1153-4967-cb7a-24aa980df4ca"
      },
      "execution_count": 1882,
      "outputs": [
        {
          "output_type": "stream",
          "name": "stdout",
          "text": [
            "1.0 55.8\n"
          ]
        }
      ]
    },
    {
      "cell_type": "code",
      "source": [
        "min = df['life_sq'].quantile(0.02)\n",
        "max = df['life_sq'].quantile(0.98)\n",
        "df = df[df['life_sq'].between(min, max)] "
      ],
      "metadata": {
        "id": "CEAjs3PWIN8z"
      },
      "execution_count": 1883,
      "outputs": []
    },
    {
      "cell_type": "code",
      "source": [
        "df[['full_sq', 'life_sq', 'kitch_sq']].describe()"
      ],
      "metadata": {
        "colab": {
          "base_uri": "https://localhost:8080/",
          "height": 300
        },
        "id": "yT5rlfDJIZQp",
        "outputId": "61c2b19d-dede-4a83-89dd-fe46560aaef0"
      },
      "execution_count": 1884,
      "outputs": [
        {
          "output_type": "execute_result",
          "data": {
            "text/html": [
              "\n",
              "  <div id=\"df-182f5664-d7b2-463e-a090-798b7eebbc0d\">\n",
              "    <div class=\"colab-df-container\">\n",
              "      <div>\n",
              "<style scoped>\n",
              "    .dataframe tbody tr th:only-of-type {\n",
              "        vertical-align: middle;\n",
              "    }\n",
              "\n",
              "    .dataframe tbody tr th {\n",
              "        vertical-align: top;\n",
              "    }\n",
              "\n",
              "    .dataframe thead th {\n",
              "        text-align: right;\n",
              "    }\n",
              "</style>\n",
              "<table border=\"1\" class=\"dataframe\">\n",
              "  <thead>\n",
              "    <tr style=\"text-align: right;\">\n",
              "      <th></th>\n",
              "      <th>full_sq</th>\n",
              "      <th>life_sq</th>\n",
              "      <th>kitch_sq</th>\n",
              "    </tr>\n",
              "  </thead>\n",
              "  <tbody>\n",
              "    <tr>\n",
              "      <th>count</th>\n",
              "      <td>27502.000000</td>\n",
              "      <td>27502.000000</td>\n",
              "      <td>27502.000000</td>\n",
              "    </tr>\n",
              "    <tr>\n",
              "      <th>mean</th>\n",
              "      <td>51.395262</td>\n",
              "      <td>30.723158</td>\n",
              "      <td>14.257330</td>\n",
              "    </tr>\n",
              "    <tr>\n",
              "      <th>std</th>\n",
              "      <td>15.790484</td>\n",
              "      <td>12.531801</td>\n",
              "      <td>12.769044</td>\n",
              "    </tr>\n",
              "    <tr>\n",
              "      <th>min</th>\n",
              "      <td>29.000000</td>\n",
              "      <td>10.100000</td>\n",
              "      <td>1.000000</td>\n",
              "    </tr>\n",
              "    <tr>\n",
              "      <th>25%</th>\n",
              "      <td>38.000000</td>\n",
              "      <td>19.000000</td>\n",
              "      <td>6.000000</td>\n",
              "    </tr>\n",
              "    <tr>\n",
              "      <th>50%</th>\n",
              "      <td>47.000000</td>\n",
              "      <td>29.000000</td>\n",
              "      <td>9.000000</td>\n",
              "    </tr>\n",
              "    <tr>\n",
              "      <th>75%</th>\n",
              "      <td>61.000000</td>\n",
              "      <td>40.000000</td>\n",
              "      <td>22.400000</td>\n",
              "    </tr>\n",
              "    <tr>\n",
              "      <th>max</th>\n",
              "      <td>113.000000</td>\n",
              "      <td>65.100000</td>\n",
              "      <td>55.800000</td>\n",
              "    </tr>\n",
              "  </tbody>\n",
              "</table>\n",
              "</div>\n",
              "      <button class=\"colab-df-convert\" onclick=\"convertToInteractive('df-182f5664-d7b2-463e-a090-798b7eebbc0d')\"\n",
              "              title=\"Convert this dataframe to an interactive table.\"\n",
              "              style=\"display:none;\">\n",
              "        \n",
              "  <svg xmlns=\"http://www.w3.org/2000/svg\" height=\"24px\"viewBox=\"0 0 24 24\"\n",
              "       width=\"24px\">\n",
              "    <path d=\"M0 0h24v24H0V0z\" fill=\"none\"/>\n",
              "    <path d=\"M18.56 5.44l.94 2.06.94-2.06 2.06-.94-2.06-.94-.94-2.06-.94 2.06-2.06.94zm-11 1L8.5 8.5l.94-2.06 2.06-.94-2.06-.94L8.5 2.5l-.94 2.06-2.06.94zm10 10l.94 2.06.94-2.06 2.06-.94-2.06-.94-.94-2.06-.94 2.06-2.06.94z\"/><path d=\"M17.41 7.96l-1.37-1.37c-.4-.4-.92-.59-1.43-.59-.52 0-1.04.2-1.43.59L10.3 9.45l-7.72 7.72c-.78.78-.78 2.05 0 2.83L4 21.41c.39.39.9.59 1.41.59.51 0 1.02-.2 1.41-.59l7.78-7.78 2.81-2.81c.8-.78.8-2.07 0-2.86zM5.41 20L4 18.59l7.72-7.72 1.47 1.35L5.41 20z\"/>\n",
              "  </svg>\n",
              "      </button>\n",
              "      \n",
              "  <style>\n",
              "    .colab-df-container {\n",
              "      display:flex;\n",
              "      flex-wrap:wrap;\n",
              "      gap: 12px;\n",
              "    }\n",
              "\n",
              "    .colab-df-convert {\n",
              "      background-color: #E8F0FE;\n",
              "      border: none;\n",
              "      border-radius: 50%;\n",
              "      cursor: pointer;\n",
              "      display: none;\n",
              "      fill: #1967D2;\n",
              "      height: 32px;\n",
              "      padding: 0 0 0 0;\n",
              "      width: 32px;\n",
              "    }\n",
              "\n",
              "    .colab-df-convert:hover {\n",
              "      background-color: #E2EBFA;\n",
              "      box-shadow: 0px 1px 2px rgba(60, 64, 67, 0.3), 0px 1px 3px 1px rgba(60, 64, 67, 0.15);\n",
              "      fill: #174EA6;\n",
              "    }\n",
              "\n",
              "    [theme=dark] .colab-df-convert {\n",
              "      background-color: #3B4455;\n",
              "      fill: #D2E3FC;\n",
              "    }\n",
              "\n",
              "    [theme=dark] .colab-df-convert:hover {\n",
              "      background-color: #434B5C;\n",
              "      box-shadow: 0px 1px 3px 1px rgba(0, 0, 0, 0.15);\n",
              "      filter: drop-shadow(0px 1px 2px rgba(0, 0, 0, 0.3));\n",
              "      fill: #FFFFFF;\n",
              "    }\n",
              "  </style>\n",
              "\n",
              "      <script>\n",
              "        const buttonEl =\n",
              "          document.querySelector('#df-182f5664-d7b2-463e-a090-798b7eebbc0d button.colab-df-convert');\n",
              "        buttonEl.style.display =\n",
              "          google.colab.kernel.accessAllowed ? 'block' : 'none';\n",
              "\n",
              "        async function convertToInteractive(key) {\n",
              "          const element = document.querySelector('#df-182f5664-d7b2-463e-a090-798b7eebbc0d');\n",
              "          const dataTable =\n",
              "            await google.colab.kernel.invokeFunction('convertToInteractive',\n",
              "                                                     [key], {});\n",
              "          if (!dataTable) return;\n",
              "\n",
              "          const docLinkHtml = 'Like what you see? Visit the ' +\n",
              "            '<a target=\"_blank\" href=https://colab.research.google.com/notebooks/data_table.ipynb>data table notebook</a>'\n",
              "            + ' to learn more about interactive tables.';\n",
              "          element.innerHTML = '';\n",
              "          dataTable['output_type'] = 'display_data';\n",
              "          await google.colab.output.renderOutput(dataTable, element);\n",
              "          const docLink = document.createElement('div');\n",
              "          docLink.innerHTML = docLinkHtml;\n",
              "          element.appendChild(docLink);\n",
              "        }\n",
              "      </script>\n",
              "    </div>\n",
              "  </div>\n",
              "  "
            ],
            "text/plain": [
              "            full_sq       life_sq      kitch_sq\n",
              "count  27502.000000  27502.000000  27502.000000\n",
              "mean      51.395262     30.723158     14.257330\n",
              "std       15.790484     12.531801     12.769044\n",
              "min       29.000000     10.100000      1.000000\n",
              "25%       38.000000     19.000000      6.000000\n",
              "50%       47.000000     29.000000      9.000000\n",
              "75%       61.000000     40.000000     22.400000\n",
              "max      113.000000     65.100000     55.800000"
            ]
          },
          "metadata": {},
          "execution_count": 1884
        }
      ]
    },
    {
      "cell_type": "markdown",
      "source": [
        "# Поработаем над типами данных в других колонках, выявим неинформативные(пропуски более 40%) и удалим их, заполним Нан медианной в оставшихся данных, подготовим категориальные данные."
      ],
      "metadata": {
        "id": "wfxzSLHtOnQm"
      }
    },
    {
      "cell_type": "code",
      "source": [
        "col_list = []\n",
        "for col in df.columns:\n",
        "  if df[col].isna().mean() >= 0.4:\n",
        "    col_list.append(col)\n",
        "\n",
        "col_list     "
      ],
      "metadata": {
        "colab": {
          "base_uri": "https://localhost:8080/"
        },
        "id": "49neJeCzWIbs",
        "outputId": "12f8ae38-cf9f-4887-8271-84b5c8c0040d"
      },
      "execution_count": 1885,
      "outputs": [
        {
          "output_type": "execute_result",
          "data": {
            "text/plain": [
              "['build_year', 'state']"
            ]
          },
          "metadata": {},
          "execution_count": 1885
        }
      ]
    },
    {
      "cell_type": "code",
      "source": [
        "df = df.drop(columns = col_list, axis = 1)"
      ],
      "metadata": {
        "id": "PfxEfb-fXvNz"
      },
      "execution_count": 1886,
      "outputs": []
    },
    {
      "cell_type": "markdown",
      "source": [
        "Просмотрим колонки с пропусками 0.3, есть ли смысл по информативности, заполнять их медианной."
      ],
      "metadata": {
        "id": "6z_DmDPgY28K"
      }
    },
    {
      "cell_type": "code",
      "source": [
        "col_list_2 = []\n",
        "for col in df.columns:\n",
        "  if df[col].isna().mean() >= 0.3:\n",
        "    col_list_2.append(col)\n",
        "\n",
        "col_list_2"
      ],
      "metadata": {
        "colab": {
          "base_uri": "https://localhost:8080/"
        },
        "id": "96e0talEY2Mq",
        "outputId": "5f75e97a-15bc-4adc-e235-e1dffcec0f7e"
      },
      "execution_count": 1887,
      "outputs": [
        {
          "output_type": "execute_result",
          "data": {
            "text/plain": [
              "['max_floor', 'material', 'num_room']"
            ]
          },
          "metadata": {},
          "execution_count": 1887
        }
      ]
    },
    {
      "cell_type": "markdown",
      "source": [
        "Вывод такой, что заполнив медианной макс этажность, материал и количество жилых комнат - данные не будут соответствовать действительности.Плюс,количество жилых комнат на цену не влияет, нам нужна общая квадратура квартиры(есть двушки больше трешки и по цене, и по квадратуре).Удалим данные столбцы."
      ],
      "metadata": {
        "id": "lDPJFoDmZLEG"
      }
    },
    {
      "cell_type": "code",
      "source": [
        "df = df.drop(columns = col_list_2, axis = 1)"
      ],
      "metadata": {
        "id": "Cg0u8JP0aO00"
      },
      "execution_count": 1888,
      "outputs": []
    },
    {
      "cell_type": "markdown",
      "source": [
        "Просмотрев данные по head, многие данные в колонках однотипные.\n",
        "Составим список признаков, у которых более 95% строк содержат одно и то же значение и определим, несут ли они полезную информацию."
      ],
      "metadata": {
        "id": "bDBg_M2nYa_N"
      }
    },
    {
      "cell_type": "code",
      "source": [
        "num_rows = len(df.index)\n",
        "low_information_cols = [] \n",
        "for col in df.columns:\n",
        "    cnts = df[col].value_counts(dropna=False)\n",
        "    top_pct = (cnts/num_rows).iloc[0]\n",
        "    \n",
        "    if top_pct > 0.95:\n",
        "        low_information_cols.append(col)\n",
        "        print('{0}: {1:.5f}%'.format(col, top_pct*100))\n",
        "        print(cnts)\n",
        "        print()"
      ],
      "metadata": {
        "colab": {
          "base_uri": "https://localhost:8080/"
        },
        "id": "FkctwG9Capg5",
        "outputId": "7d442ee3-e8c7-40b0-eab7-b02d140d8783"
      },
      "execution_count": 1889,
      "outputs": [
        {
          "output_type": "stream",
          "name": "stdout",
          "text": [
            "oil_chemistry_raion: 98.99644%\n",
            "no     27226\n",
            "yes      276\n",
            "Name: oil_chemistry_raion, dtype: int64\n",
            "\n",
            "railroad_terminal_raion: 96.40753%\n",
            "no     26514\n",
            "yes      988\n",
            "Name: railroad_terminal_raion, dtype: int64\n",
            "\n",
            "nuclear_reactor_raion: 97.01113%\n",
            "no     26680\n",
            "yes      822\n",
            "Name: nuclear_reactor_raion, dtype: int64\n",
            "\n",
            "big_road1_1line: 97.65108%\n",
            "no     26856\n",
            "yes      646\n",
            "Name: big_road1_1line, dtype: int64\n",
            "\n",
            "railroad_1line: 97.06930%\n",
            "no     26696\n",
            "yes      806\n",
            "Name: railroad_1line, dtype: int64\n",
            "\n",
            "cafe_count_500_price_high: 97.44746%\n",
            "0    26800\n",
            "1      657\n",
            "2       36\n",
            "3        9\n",
            "Name: cafe_count_500_price_high, dtype: int64\n",
            "\n",
            "mosque_count_500: 99.46549%\n",
            "0    27355\n",
            "1      147\n",
            "Name: mosque_count_500, dtype: int64\n",
            "\n",
            "cafe_count_1000_price_high: 95.77485%\n",
            "0    26340\n",
            "1      941\n",
            "2      127\n",
            "3       42\n",
            "4       34\n",
            "5       12\n",
            "6        5\n",
            "7        1\n",
            "Name: cafe_count_1000_price_high, dtype: int64\n",
            "\n",
            "mosque_count_1000: 98.13832%\n",
            "0    26990\n",
            "1      512\n",
            "Name: mosque_count_1000, dtype: int64\n",
            "\n",
            "mosque_count_1500: 96.22209%\n",
            "0    26463\n",
            "1     1039\n",
            "Name: mosque_count_1500, dtype: int64\n",
            "\n"
          ]
        }
      ]
    },
    {
      "cell_type": "markdown",
      "source": [
        "Просмотрев данный список, я приняла решение об удалении данных колонок, информативность по отношению к нашей переменной слабая."
      ],
      "metadata": {
        "id": "Ir_uunOjhRsO"
      }
    },
    {
      "cell_type": "code",
      "source": [
        "df = df.drop(columns = low_information_cols, axis = 1)"
      ],
      "metadata": {
        "id": "e0j1nsd8Yfn5"
      },
      "execution_count": 1890,
      "outputs": []
    },
    {
      "cell_type": "markdown",
      "source": [
        "Обработаем категориальные переменные."
      ],
      "metadata": {
        "id": "QvhUTEDZhz2v"
      }
    },
    {
      "cell_type": "markdown",
      "source": [
        "child_on_acc_pre_school: Количество детей, ожидающих определения в дошкольные образовательные учреждения, при вместимости 100 \n",
        "Я считаю, для данной колонки мало информации, всего лишь 4 уникальных - неинформативна, удаляю"
      ],
      "metadata": {
        "id": "jN_x1FOvlDDQ"
      }
    },
    {
      "cell_type": "code",
      "source": [
        "df=df.drop(columns = 'child_on_acc_pre_school', axis = 1)"
      ],
      "metadata": {
        "id": "ndZtnSIElUtV"
      },
      "execution_count": 1891,
      "outputs": []
    },
    {
      "cell_type": "code",
      "source": [
        "for columm in df.select_dtypes(include = 'object'):\n",
        "        print(columm)\n",
        "        print('n values', df[columm].nunique())\n",
        "        print('----------------------------')\n",
        "        print(df[columm].unique())\n",
        "        print('----------------------------')"
      ],
      "metadata": {
        "colab": {
          "base_uri": "https://localhost:8080/"
        },
        "id": "qHB9SpZYlp_2",
        "outputId": "45150455-537e-47d0-f6ab-d21a810bdecb"
      },
      "execution_count": 1892,
      "outputs": [
        {
          "output_type": "stream",
          "name": "stdout",
          "text": [
            "product_type\n",
            "n values 2\n",
            "----------------------------\n",
            "['Investment' 'OwnerOccupier']\n",
            "----------------------------\n",
            "sub_area\n",
            "n values 146\n",
            "----------------------------\n",
            "['Bibirevo' 'Nagatinskij Zaton' \"Tekstil'shhiki\" 'Mitino' 'Nizhegorodskoe'\n",
            " 'Koptevo' 'Kuncevo' 'Kosino-Uhtomskoe' 'Zapadnoe Degunino' 'Presnenskoe'\n",
            " 'Lefortovo' \"Mar'ino\" \"Kuz'minki\" 'Nagornoe' \"Gol'janovo\" 'Vnukovo'\n",
            " 'Juzhnoe Tushino' 'Severnoe Tushino' \"Chertanovo Central'noe\"\n",
            " 'Fili Davydkovo' 'Otradnoe' 'Novo-Peredelkino' 'Bogorodskoe'\n",
            " 'Jaroslavskoe' 'Strogino' 'Hovrino' \"Moskvorech'e-Saburovo\"\n",
            " 'Staroe Krjukovo' 'Ljublino' 'Veshnjaki' 'Danilovskoe' 'Caricyno'\n",
            " 'Preobrazhenskoe' \"Kon'kovo\" 'Brateevo' 'Vostochnoe Izmajlovo'\n",
            " 'Vyhino-Zhulebino' 'Donskoe' 'Novogireevo' 'Juzhnoe Butovo' 'Sokol'\n",
            " 'Kurkino' 'Izmajlovo' 'Severnoe Medvedkovo' 'Rostokino'\n",
            " 'Orehovo-Borisovo Severnoe' 'Ochakovo-Matveevskoe' 'Taganskoe'\n",
            " 'Dmitrovskoe' 'Orehovo-Borisovo Juzhnoe' 'Teplyj Stan' 'Basmannoe'\n",
            " 'Babushkinskoe' 'Pokrovskoe Streshnevo' 'Obruchevskoe' 'Filevskij Park'\n",
            " 'Troparevo-Nikulino' 'Severnoe Butovo' 'Hamovniki' 'Solncevo'\n",
            " 'Dorogomilovo' 'Lianozovo' 'Pechatniki' 'Jasenevo' 'Chertanovo Severnoe'\n",
            " 'Rjazanskij' 'Silino' 'Golovinskoe' 'Ivanovskoe' 'Novokosino'\n",
            " 'Nagatino-Sadovniki' 'Birjulevo Vostochnoe' 'Severnoe Izmajlovo'\n",
            " 'Sokolinaja Gora' 'Vostochnoe Degunino' 'Prospekt Vernadskogo' 'Savelki'\n",
            " 'Ajeroport' 'Vojkovskoe' 'Beskudnikovskoe' 'Juzhnoportovoe' 'Perovo'\n",
            " 'Akademicheskoe' 'Horoshevo-Mnevniki' 'Shhukino' 'Kapotnja'\n",
            " 'Horoshevskoe' 'Marfino' 'Krylatskoe' 'Chertanovo Juzhnoe' 'Savelovskoe'\n",
            " 'Birjulevo Zapadnoe' 'Nekrasovka' 'Krjukovo' 'Cheremushki' 'Sviblovo'\n",
            " 'Alekseevskoe' \"Krasnosel'skoe\" 'Kotlovka' 'Zjuzino' 'Ostankinskoe'\n",
            " 'Tverskoe' 'Losinoostrovskoe' 'Butyrskoe' 'Matushkino' 'Metrogorodok'\n",
            " 'Juzhnoe Medvedkovo' 'Jakimanka' 'Mozhajskoe' 'Levoberezhnoe'\n",
            " \"Mar'ina Roshha\" 'Timirjazevskoe' 'Gagarinskoe' \"Sokol'niki\"\n",
            " \"Altuf'evskoe\" 'Ramenki' 'Zjablikovo' 'Severnoe' 'Lomonosovskoe'\n",
            " 'Meshhanskoe' 'Begovoe' 'Arbat' \"Zamoskvorech'e\" 'Poselenie Sosenskoe'\n",
            " 'Poselenie Moskovskij' 'Poselenie Pervomajskoe' 'Poselenie Desjonovskoe'\n",
            " 'Poselenie Voskresenskoe' 'Poselenie Mosrentgen' 'Troickij okrug'\n",
            " 'Poselenie Shherbinka' 'Poselenie Filimonkovskoe' 'Poselenie Vnukovskoe'\n",
            " 'Poselenie Marushkinskoe' 'Poselenie Shhapovskoe'\n",
            " 'Poselenie Rjazanovskoe' 'Poselenie Kokoshkino' 'Vostochnoe'\n",
            " 'Poselenie Novofedorovskoe' 'Poselenie Krasnopahorskoe'\n",
            " 'Poselenie Voronovskoe' 'Poselenie Klenovskoe' 'Poselenie Kievskij'\n",
            " 'Molzhaninovskoe' 'Poselenie Mihajlovo-Jarcevskoe' 'Poselenie Rogovskoe']\n",
            "----------------------------\n",
            "culture_objects_top_25\n",
            "n values 2\n",
            "----------------------------\n",
            "['no' 'yes']\n",
            "----------------------------\n",
            "thermal_power_plant_raion\n",
            "n values 2\n",
            "----------------------------\n",
            "['no' 'yes']\n",
            "----------------------------\n",
            "incineration_raion\n",
            "n values 2\n",
            "----------------------------\n",
            "['no' 'yes']\n",
            "----------------------------\n",
            "radiation_raion\n",
            "n values 2\n",
            "----------------------------\n",
            "['no' 'yes']\n",
            "----------------------------\n",
            "big_market_raion\n",
            "n values 2\n",
            "----------------------------\n",
            "['no' 'yes']\n",
            "----------------------------\n",
            "detention_facility_raion\n",
            "n values 2\n",
            "----------------------------\n",
            "['no' 'yes']\n",
            "----------------------------\n",
            "water_1line\n",
            "n values 2\n",
            "----------------------------\n",
            "['no' 'yes']\n",
            "----------------------------\n",
            "ecology\n",
            "n values 5\n",
            "----------------------------\n",
            "['good' 'excellent' 'poor' 'satisfactory' 'no data']\n",
            "----------------------------\n"
          ]
        }
      ]
    },
    {
      "cell_type": "markdown",
      "source": [
        "Заполним все колонки медианным значением,те значение, предугать которые сложно - после того, как заполнили пропуски в основных показателях(по площади)."
      ],
      "metadata": {
        "id": "4d_27azPLE2m"
      }
    },
    {
      "cell_type": "code",
      "source": [
        "df_numeric = df.select_dtypes(include=[np.number])\n",
        "numeric_cols = df_numeric.columns.values\n",
        "for col in numeric_cols:\n",
        "    missing = df[col].isna()\n",
        "    num_missing = np.sum(missing)\n",
        "    \n",
        "    if num_missing > 0:  \n",
        "        print('imputing missing values for: {}'.format(col))\n",
        "        df['{}_ismissing'.format(col)] = missing\n",
        "        med = df[col].median()\n",
        "        df[col] = df[col].fillna(med)"
      ],
      "metadata": {
        "colab": {
          "base_uri": "https://localhost:8080/"
        },
        "id": "trZUvXyQKzPf",
        "outputId": "c8d62b7d-3e23-4c89-f935-007321b677de"
      },
      "execution_count": 1893,
      "outputs": [
        {
          "output_type": "stream",
          "name": "stdout",
          "text": [
            "imputing missing values for: floor\n",
            "imputing missing values for: preschool_quota\n",
            "imputing missing values for: school_quota\n",
            "imputing missing values for: raion_build_count_with_material_info\n",
            "imputing missing values for: build_count_block\n",
            "imputing missing values for: build_count_wood\n",
            "imputing missing values for: build_count_frame\n",
            "imputing missing values for: build_count_brick\n",
            "imputing missing values for: build_count_monolith\n",
            "imputing missing values for: build_count_panel\n",
            "imputing missing values for: build_count_foam\n",
            "imputing missing values for: build_count_slag\n",
            "imputing missing values for: build_count_mix\n",
            "imputing missing values for: raion_build_count_with_builddate_info\n",
            "imputing missing values for: build_count_before_1920\n",
            "imputing missing values for: build_count_1921-1945\n",
            "imputing missing values for: build_count_1946-1970\n",
            "imputing missing values for: build_count_1971-1995\n",
            "imputing missing values for: build_count_after_1995\n",
            "imputing missing values for: metro_min_walk\n",
            "imputing missing values for: metro_km_walk\n",
            "imputing missing values for: railroad_station_walk_km\n",
            "imputing missing values for: railroad_station_walk_min\n",
            "imputing missing values for: cafe_sum_1000_min_price_avg\n",
            "imputing missing values for: cafe_sum_1000_max_price_avg\n",
            "imputing missing values for: cafe_avg_price_1000\n",
            "imputing missing values for: cafe_sum_1500_min_price_avg\n",
            "imputing missing values for: cafe_sum_1500_max_price_avg\n",
            "imputing missing values for: cafe_avg_price_1500\n",
            "imputing missing values for: cafe_sum_2000_min_price_avg\n",
            "imputing missing values for: cafe_sum_2000_max_price_avg\n",
            "imputing missing values for: cafe_avg_price_2000\n",
            "imputing missing values for: cafe_sum_3000_min_price_avg\n",
            "imputing missing values for: cafe_sum_3000_max_price_avg\n",
            "imputing missing values for: cafe_avg_price_3000\n",
            "imputing missing values for: prom_part_5000\n",
            "imputing missing values for: cafe_sum_5000_min_price_avg\n",
            "imputing missing values for: cafe_sum_5000_max_price_avg\n",
            "imputing missing values for: cafe_avg_price_5000\n",
            "imputing missing values for: grp\n",
            "imputing missing values for: real_dispos_income_per_cap_growth\n",
            "imputing missing values for: profitable_enterpr_share\n",
            "imputing missing values for: unprofitable_enterpr_share\n",
            "imputing missing values for: share_own_revenues\n",
            "imputing missing values for: overdue_wages_per_cap\n",
            "imputing missing values for: fin_res_per_cap\n",
            "imputing missing values for: marriages_per_1000_cap\n",
            "imputing missing values for: divorce_rate\n",
            "imputing missing values for: construction_value\n",
            "imputing missing values for: invest_fixed_assets_phys\n",
            "imputing missing values for: pop_migration\n",
            "imputing missing values for: pop_total_inc\n",
            "imputing missing values for: housing_fund_sqm\n",
            "imputing missing values for: lodging_sqm_per_cap\n",
            "imputing missing values for: water_pipes_share\n",
            "imputing missing values for: baths_share\n",
            "imputing missing values for: sewerage_share\n",
            "imputing missing values for: gas_share\n",
            "imputing missing values for: hot_water_share\n",
            "imputing missing values for: electric_stove_share\n",
            "imputing missing values for: heating_share\n",
            "imputing missing values for: old_house_share\n",
            "imputing missing values for: infant_mortarity_per_1000_cap\n",
            "imputing missing values for: perinatal_mort_per_1000_cap\n",
            "imputing missing values for: incidence_population\n",
            "imputing missing values for: provision_doctors\n",
            "imputing missing values for: power_clinics\n",
            "imputing missing values for: apartment_build\n"
          ]
        }
      ]
    },
    {
      "cell_type": "markdown",
      "source": [
        "Для категриальных значений."
      ],
      "metadata": {
        "id": "CMwc0dG20N2H"
      }
    },
    {
      "cell_type": "code",
      "source": [
        "df_non_numeric = df.select_dtypes(exclude=[np.number])\n",
        "non_numeric_cols = df_non_numeric.columns.values\n",
        "for col in non_numeric_cols:\n",
        "    missing = df[col].isna()\n",
        "    num_missing = np.sum(missing)\n",
        "    \n",
        "    if num_missing > 0:  \n",
        "        print('imputing missing values for: {}'.format(col))\n",
        "        df['{}_ismissing'.format(col)] = missing\n",
        "        \n",
        "        top = df[col].describe()['top'] \n",
        "        df[col] = df[col].fillna(top)"
      ],
      "metadata": {
        "id": "7-_YKN600Au1"
      },
      "execution_count": 1894,
      "outputs": []
    },
    {
      "cell_type": "markdown",
      "source": [
        "# Произведем замену значений на бинарные:\n",
        "\n",
        "culture_objects_top_25\n",
        "\n",
        "thermal_power_plant_raion\n",
        "\n",
        "incineration_raion\n",
        "\n",
        "radiation_raion\n",
        "\n",
        "\n",
        "big_market_raion\n",
        "\n",
        "\n",
        "detention_facility_raion\n",
        "\n",
        "\n",
        "water_1line"
      ],
      "metadata": {
        "id": "S_tuNg4nmYGK"
      }
    },
    {
      "cell_type": "code",
      "source": [
        "bins = ['culture_objects_top_25', 'thermal_power_plant_raion', 'incineration_raion', 'radiation_raion', 'big_market_raion', 'detention_facility_raion', 'water_1line']\n",
        "df[bins] = df[bins].applymap(lambda x : 1 if x == 'yes' else 0)"
      ],
      "metadata": {
        "id": "eC2maaEgmUNx"
      },
      "execution_count": 1895,
      "outputs": []
    },
    {
      "cell_type": "markdown",
      "source": [
        "Заменим значения на числовые."
      ],
      "metadata": {
        "id": "FxBJoA_ln_mZ"
      }
    },
    {
      "cell_type": "markdown",
      "source": [
        "product_type\n",
        "\n",
        "----------------------------\n",
        "['Investment' 'OwnerOccupier']\n",
        "\n",
        "ecology\n",
        "\n",
        "----------------------------\n",
        "['good' 'excellent' 'poor' 'satisfactory' 'no data']"
      ],
      "metadata": {
        "id": "bIb8-IIRnuOq"
      }
    },
    {
      "cell_type": "code",
      "source": [
        "dic = {'Investment': 1, 'OwnerOccupier': 0}\n",
        "df['product_type'] = df['product_type'].map(dic)\n",
        "\n",
        "dic_2 = {'good': 4, 'excellent': 5, 'poor': 2, 'satisfactory': 3, 'no data': 0}\n",
        "df['ecology'] = df['ecology'].map(dic_2)"
      ],
      "metadata": {
        "id": "5peu-uwSmLBE"
      },
      "execution_count": 1896,
      "outputs": []
    },
    {
      "cell_type": "code",
      "source": [
        "df['sub_area'].value_counts()"
      ],
      "metadata": {
        "colab": {
          "base_uri": "https://localhost:8080/"
        },
        "id": "pE3Uzg4zroht",
        "outputId": "2acf52e4-741a-4cbf-cdfc-3e0478273539"
      },
      "execution_count": 1897,
      "outputs": [
        {
          "output_type": "execute_result",
          "data": {
            "text/plain": [
              "Poselenie Sosenskoe               1464\n",
              "Nekrasovka                        1411\n",
              "Poselenie Vnukovskoe              1207\n",
              "Poselenie Moskovskij               810\n",
              "Poselenie Voskresenskoe            669\n",
              "Tverskoe                           560\n",
              "Mitino                             552\n",
              "Mar'ino                            498\n",
              "Krjukovo                           453\n",
              "Juzhnoe Butovo                     438\n",
              "Poselenie Shherbinka               376\n",
              "Zapadnoe Degunino                  364\n",
              "Otradnoe                           347\n",
              "Solncevo                           346\n",
              "Poselenie Filimonkovskoe           346\n",
              "Poselenie Desjonovskoe             319\n",
              "Nagatinskij Zaton                  310\n",
              "Ljublino                           293\n",
              "Gol'janovo                         287\n",
              "Bogorodskoe                        286\n",
              "Tekstil'shhiki                     285\n",
              "Severnoe Tushino                   262\n",
              "Birjulevo Vostochnoe               262\n",
              "Nagornoe                           262\n",
              "Chertanovo Juzhnoe                 259\n",
              "Vyhino-Zhulebino                   259\n",
              "Strogino                           252\n",
              "Ochakovo-Matveevskoe               239\n",
              "Zjuzino                            237\n",
              "Horoshevo-Mnevniki                 236\n",
              "Izmajlovo                          235\n",
              "Kosino-Uhtomskoe                   234\n",
              "Perovo                             229\n",
              "Bibirevo                           228\n",
              "Jasenevo                           224\n",
              "Kuz'minki                          219\n",
              "Golovinskoe                        217\n",
              "Veshnjaki                          209\n",
              "Orehovo-Borisovo Juzhnoe           207\n",
              "Kon'kovo                           202\n",
              "Caricyno                           202\n",
              "Koptevo                            201\n",
              "Akademicheskoe                     197\n",
              "Ramenki                            197\n",
              "Novogireevo                        195\n",
              "Chertanovo Severnoe                194\n",
              "Ivanovskoe                         192\n",
              "Orehovo-Borisovo Severnoe          192\n",
              "Pechatniki                         189\n",
              "Chertanovo Central'noe             188\n",
              "Mozhajskoe                         187\n",
              "Severnoe Butovo                    182\n",
              "Brateevo                           181\n",
              "Danilovskoe                        180\n",
              "Rjazanskij                         176\n",
              "Sokolinaja Gora                    173\n",
              "Dmitrovskoe                        169\n",
              "Taganskoe                          168\n",
              "Kuncevo                            167\n",
              "Losinoostrovskoe                   167\n",
              "Severnoe Medvedkovo                164\n",
              "Teplyj Stan                        160\n",
              "Juzhnoe Tushino                    160\n",
              "Beskudnikovskoe                    159\n",
              "Severnoe Izmajlovo                 159\n",
              "Cheremushki                        154\n",
              "Hovrino                            152\n",
              "Nagatino-Sadovniki                 149\n",
              "Pokrovskoe Streshnevo              149\n",
              "Timirjazevskoe                     148\n",
              "Presnenskoe                        146\n",
              "Novo-Peredelkino                   146\n",
              "Preobrazhenskoe                    145\n",
              "Kotlovka                           141\n",
              "Shhukino                           141\n",
              "Juzhnoe Medvedkovo                 140\n",
              "Novokosino                         139\n",
              "Filevskij Park                     135\n",
              "Lomonosovskoe                      131\n",
              "Vostochnoe Izmajlovo               129\n",
              "Horoshevskoe                       127\n",
              "Zjablikovo                         127\n",
              "Fili Davydkovo                     126\n",
              "Lianozovo                          123\n",
              "Obruchevskoe                       121\n",
              "Sviblovo                           120\n",
              "Levoberezhnoe                      119\n",
              "Vojkovskoe                         119\n",
              "Donskoe                            119\n",
              "Jaroslavskoe                       119\n",
              "Juzhnoportovoe                     116\n",
              "Vostochnoe Degunino                115\n",
              "Troickij okrug                     113\n",
              "Birjulevo Zapadnoe                 113\n",
              "Lefortovo                          112\n",
              "Troparevo-Nikulino                 112\n",
              "Ajeroport                          112\n",
              "Mar'ina Roshha                     111\n",
              "Poselenie Novofedorovskoe          111\n",
              "Matushkino                         109\n",
              "Babushkinskoe                      108\n",
              "Butyrskoe                          100\n",
              "Savelki                             99\n",
              "Moskvorech'e-Saburovo               98\n",
              "Silino                              98\n",
              "Alekseevskoe                        94\n",
              "Krylatskoe                          93\n",
              "Staroe Krjukovo                     92\n",
              "Basmannoe                           88\n",
              "Marfino                             84\n",
              "Poselenie Pervomajskoe              84\n",
              "Prospekt Vernadskogo                83\n",
              "Meshhanskoe                         82\n",
              "Ostankinskoe                        79\n",
              "Savelovskoe                         78\n",
              "Nizhegorodskoe                      76\n",
              "Hamovniki                           73\n",
              "Gagarinskoe                         68\n",
              "Sokol                               66\n",
              "Jakimanka                           62\n",
              "Altuf'evskoe                        62\n",
              "Rostokino                           60\n",
              "Sokol'niki                          57\n",
              "Metrogorodok                        57\n",
              "Dorogomilovo                        54\n",
              "Begovoe                             53\n",
              "Kapotnja                            47\n",
              "Vnukovo                             44\n",
              "Zamoskvorech'e                      43\n",
              "Kurkino                             40\n",
              "Severnoe                            35\n",
              "Krasnosel'skoe                      32\n",
              "Poselenie Rjazanovskoe              30\n",
              "Poselenie Krasnopahorskoe           23\n",
              "Poselenie Mosrentgen                18\n",
              "Poselenie Kokoshkino                17\n",
              "Arbat                               14\n",
              "Vostochnoe                           7\n",
              "Poselenie Marushkinskoe              6\n",
              "Poselenie Voronovskoe                6\n",
              "Molzhaninovskoe                      3\n",
              "Poselenie Shhapovskoe                2\n",
              "Poselenie Kievskij                   2\n",
              "Poselenie Rogovskoe                  2\n",
              "Poselenie Mihajlovo-Jarcevskoe       1\n",
              "Poselenie Klenovskoe                 1\n",
              "Name: sub_area, dtype: int64"
            ]
          },
          "metadata": {},
          "execution_count": 1897
        }
      ]
    },
    {
      "cell_type": "markdown",
      "source": [
        "Создала списки с городами по округам, внесла их в числовом виде в наш датафрейм в качестве нового столбца.\n",
        "Будем оценивать стоимость квартир по данному признаку.\n",
        "Столбец с городами удаляю."
      ],
      "metadata": {
        "id": "FWphmp5cdJVM"
      }
    },
    {
      "cell_type": "code",
      "source": [
        "novomosk_list = ['Poselenie Sosenskoe', 'Poselenie Vnukovskoe', 'Poselenie Moskovskij', 'Poselenie Voskresenskoe', 'Poselenie Shherbinka', 'Poselenie Filimonkovskoe','Poselenie Desjonovskoe', 'Poselenie Rjazanovskoe','Poselenie Mosrentgen', 'Poselenie Kokoshkino', 'Poselenie Marushkinskoe']"
      ],
      "metadata": {
        "id": "LTflE31ZY6Wg"
      },
      "execution_count": 1898,
      "outputs": []
    },
    {
      "cell_type": "code",
      "source": [
        "yug_vos_list = ['Nekrasovka','Mar.ino','Ljublino','Ljublino','Tekstil.shhiki','Pechatniki','Rjazanskij','Lefortovo','Juzhnoportovoe','Kapotnja','Nizhegorodskoe']"
      ],
      "metadata": {
        "id": "VVgPU9v1jOK6"
      },
      "execution_count": 1899,
      "outputs": []
    },
    {
      "cell_type": "code",
      "source": [
        "yug_zap_list = ['Juzhnoe Butovo','Zjuzino','Jasenevo','Kon.kovo','Gagarinskoe','Lomonovskoe', 'Akademicheskoe','Severnoe Butovo','Teplyj Stan','Cheremushki','Kotlovka']"
      ],
      "metadata": {
        "id": "xUblDaVpkRvw"
      },
      "execution_count": 1900,
      "outputs": []
    },
    {
      "cell_type": "code",
      "source": [
        "sever_list = ['Vojkovskoe', 'Levoberezhnoe','Vostochnoe Degunino','Savelovskoe','Sokol','Begovoe','Molzhaninovskoe','Zapadnoe Degunino','Golovinskoe','Koptevo','Beskudnikovskoe Hovrino Timirjazevskoe']"
      ],
      "metadata": {
        "id": "Tpe4ARdiJJEU"
      },
      "execution_count": 1901,
      "outputs": []
    },
    {
      "cell_type": "code",
      "source": [
        "zapad_list = ['Troparevo-Nikulino','Krylatskoe','Prospekt Vernadskogo','Dorogomilovo Vnukovo','Solncevo','Ochakovo-Matveevskoe','Ramenki','Mozhajskoe','Kuncevo','Novo-Peredelkino','Filevskij Park','Fili Davydkovo']"
      ],
      "metadata": {
        "id": "rkGnht-GJkNb"
      },
      "execution_count": 1902,
      "outputs": []
    },
    {
      "cell_type": "code",
      "source": [
        "yug_list = ['Nagatinskij Zaton', 'Birjulevo Vostochnoe',\n",
        "'Chertanovo Juzhnoe',\n",
        "'Orehovo-Borisovo Juzhnoe',\n",
        "'Caricyno',\n",
        "'Chertanovo Severnoe',\n",
        "'Orehovo-Borisovo Severnoe',\n",
        "'Chertanovo Central.noe',\n",
        "'Brateevo',\n",
        "'Danilovskoe',\n",
        "'Nagatino-Sadovniki',\n",
        "'Zjablikovo',\n",
        "'Birjulevo Zapadnoe',\n",
        "'Moskvorech.e-Saburovo']"
      ],
      "metadata": {
        "id": "jOX_gIPvJ-Ju"
      },
      "execution_count": 1903,
      "outputs": []
    },
    {
      "cell_type": "code",
      "source": [
        "sev_zap_list = ['Severnoe Tushino', \n",
        "'Strogino',   \n",
        "'Mitino',    \n",
        "'Horoshevo-Mnevniki',  \n",
        "'Juzhnoe Tushino',  \n",
        "'Pokrovskoe Streshnevo',\n",
        "'Shhukino',  \n",
        "'Kurkino']"
      ],
      "metadata": {
        "id": "k7aqR6g-Kbw4"
      },
      "execution_count": 1904,
      "outputs": []
    },
    {
      "cell_type": "code",
      "source": [
        "vostok_list = ['Gol.janovo',  \n",
        "'Bogorodskoe', \n",
        "'Izmajlovo',\n",
        "'Kosino-Uhtomskoe',  \n",
        "'Perovo',    \n",
        "'Kuz.minki', \n",
        "'Veshnjaki', \n",
        "'Novogireevo', \n",
        "'Ivanovskoe',\n",
        "'Sokolinaja Gora', \n",
        "'Severnoe Izmajlovo',\n",
        "'Preobrazhenskoe', \n",
        "'Novokosino',   \n",
        "'Vostochnoe Izmajlovo',  \n",
        "'Sokol.niki',  \n",
        "'Metrogorodok', \n",
        "'Vostochnoe']"
      ],
      "metadata": {
        "id": "By62p_SJK-c0"
      },
      "execution_count": 1905,
      "outputs": []
    },
    {
      "cell_type": "code",
      "source": [
        "sev_vos_list = ['Losinoostrovskoe',\n",
        "'Severnoe Medvedkovo', \n",
        "'Juzhnoe Medvedkovo',\n",
        "'Lianozovo',\n",
        "'Sviblovo',\n",
        "'Jaroslavskoe', \n",
        "'Mar.ina Roshha', \n",
        "'Babushkinskoe', \n",
        "'Butyrskoe',  \n",
        "'Alekseevskoe', \n",
        "'Marfino', \n",
        "'Ostankinskoe', \n",
        "'Altuf.evskoe', \n",
        "'Rostokino', \n",
        "'Severnoe', \n",
        "'Otradnoe', \n",
        "'Bibirevo']"
      ],
      "metadata": {
        "id": "zyHtUwWXLrYp"
      },
      "execution_count": 1906,
      "outputs": []
    },
    {
      "cell_type": "code",
      "source": [
        "zel_grad_list = ['Krjukovo',  \n",
        "'Matushkino',  \n",
        "'Savelki',  \n",
        "'Silino',   \n",
        "'Staroe Krjukovo']"
      ],
      "metadata": {
        "id": "Iy8emK7AL3M4"
      },
      "execution_count": 1907,
      "outputs": []
    },
    {
      "cell_type": "code",
      "source": [
        "centr_list = ['Basmannoe',   \n",
        "'Meshhanskoe',  \n",
        "'Hamovniki',    \n",
        "'Jakimanka',    \n",
        "'Zamoskvorech.e',  \n",
        "'Krasnosel.skoe',\n",
        "'Arbat',   \n",
        "'Tverskoe', \n",
        "'Taganskoe', \n",
        "'Presnenskoe'] "
      ],
      "metadata": {
        "id": "AtRpHELCMGyP"
      },
      "execution_count": 1908,
      "outputs": []
    },
    {
      "cell_type": "code",
      "source": [
        "troisck_list = ['Poselenie Novofedorovskoe',  \n",
        "'Poselenie Pervomajskoe',  \n",
        "'Poselenie Krasnopahorskoe', \n",
        "'Poselenie Voronovskoe', \n",
        "'Poselenie Shhapovskoe', \n",
        "'Poselenie Rogovskoe', \n",
        "'Poselenie Kievskij', \n",
        "'Poselenie Klenovskoe',  \n",
        "'Poselenie Mihajlovo-Jarcevskoe']"
      ],
      "metadata": {
        "id": "rIuRYEKMMTNc"
      },
      "execution_count": 1909,
      "outputs": []
    },
    {
      "cell_type": "markdown",
      "source": [
        "Остальные:\n",
        "\n",
        "Dmitrovskoe                        \n",
        "Ajeroport  \n",
        "Troickij okrug   \n",
        "Horoshevskoe    \n",
        "Donskoe\n",
        "Nagornoe                           \n",
        "Vyhino-Zhulebino                  "
      ],
      "metadata": {
        "id": "Im6ejKR8AcO1"
      }
    },
    {
      "cell_type": "code",
      "source": [
        "df['sub_area'] = df['sub_area'].str.replace(\"'\", \".\")"
      ],
      "metadata": {
        "id": "quQV5mXJR4Qo"
      },
      "execution_count": 1910,
      "outputs": []
    },
    {
      "cell_type": "code",
      "source": [
        "def func_okrug(x):\n",
        "  if x in troisck_list:\n",
        "    return 'Troitckii' \n",
        "  elif x in centr_list:\n",
        "    return 'Central.nui'   \n",
        "  elif x in zel_grad_list:\n",
        "    return 'Zelenogradskii'   \n",
        "  elif x in sev_vos_list:\n",
        "    return 'Severo-Vostochnyi'   \n",
        "  elif x in vostok_list:\n",
        "    return  'Vostochnyi' \n",
        "  elif x in sev_zap_list:\n",
        "    return 'Severo-Zapadnyi'    \n",
        "  elif x in yug_list:\n",
        "    return 'Yuzhnyi'   \n",
        "  elif x in zapad_list:\n",
        "    return 'Zapadnyi'  \n",
        "  elif x in sever_list:\n",
        "    return 'Severnyi'  \n",
        "  elif x in yug_zap_list:\n",
        "    return 'Yugo-Zapadnyi'   \n",
        "  elif x in yug_vos_list:\n",
        "    return 'Yugo-Vostochnyi'   \n",
        "  elif x in novomosk_list:\n",
        "    return 'Novomoskovskii'   \n",
        "  else: return 'Other'"
      ],
      "metadata": {
        "id": "fp0xbbUmZjGM"
      },
      "execution_count": 1911,
      "outputs": []
    },
    {
      "cell_type": "markdown",
      "source": [
        "где 14 - это другие(остальные)"
      ],
      "metadata": {
        "id": "8ZK1iuMpc59_"
      }
    },
    {
      "cell_type": "code",
      "source": [
        "df['sub_area_okrug'] = df['sub_area'].apply(func_okrug)"
      ],
      "metadata": {
        "id": "9XXr3igOTMax"
      },
      "execution_count": 1912,
      "outputs": []
    },
    {
      "cell_type": "code",
      "source": [
        "df['sub_area_okrug'].value_counts()"
      ],
      "metadata": {
        "colab": {
          "base_uri": "https://localhost:8080/"
        },
        "id": "AbyoaalrbqmE",
        "outputId": "36b5d638-8813-43fe-dcb5-8100c2737f97"
      },
      "execution_count": 1913,
      "outputs": [
        {
          "output_type": "execute_result",
          "data": {
            "text/plain": [
              "Novomoskovskii       5262\n",
              "Yugo-Vostochnyi      3203\n",
              "Vostochnyi           2952\n",
              "Yuzhnyi              2662\n",
              "Severo-Vostochnyi    2141\n",
              "Yugo-Zapadnyi        2003\n",
              "Other                1970\n",
              "Zapadnyi             1831\n",
              "Severo-Zapadnyi      1792\n",
              "Severnyi             1335\n",
              "Central.nui          1268\n",
              "Zelenogradskii        851\n",
              "Troitckii             232\n",
              "Name: sub_area_okrug, dtype: int64"
            ]
          },
          "metadata": {},
          "execution_count": 1913
        }
      ]
    },
    {
      "cell_type": "code",
      "source": [
        "df = df.drop(columns = 'sub_area', axis = 1)"
      ],
      "metadata": {
        "id": "aeMGA-uGele4"
      },
      "execution_count": 1914,
      "outputs": []
    },
    {
      "cell_type": "markdown",
      "source": [
        "# Перейдем к наблюдениям, используя Exploratory Data Analysis."
      ],
      "metadata": {
        "id": "vc1VMDMK_gWc"
      }
    },
    {
      "cell_type": "markdown",
      "source": [
        "Т.к. мы выстроили новые значения по full sq- найдем цену по квадратуре."
      ],
      "metadata": {
        "id": "F9IJ1mZA_BcC"
      }
    },
    {
      "cell_type": "code",
      "source": [
        "df['price_per_sq'] = df['price_doc']/df['full_sq']"
      ],
      "metadata": {
        "id": "ApaalF6g_La9"
      },
      "execution_count": 1915,
      "outputs": []
    },
    {
      "cell_type": "code",
      "source": [
        "df['month'] = df['timestamp'].dt.to_period('M')\n",
        "agg = df.groupby('month')['price_per_sq'].mean()\n",
        "agg.plot();"
      ],
      "metadata": {
        "colab": {
          "base_uri": "https://localhost:8080/",
          "height": 293
        },
        "id": "yM4I27PI_rCU",
        "outputId": "54459a23-3247-47a7-ed8f-2b44790de8bb"
      },
      "execution_count": 1916,
      "outputs": [
        {
          "output_type": "display_data",
          "data": {
            "image/png": "[encoded data removed]",
            "text/plain": [
              "<Figure size 432x288 with 1 Axes>"
            ]
          },
          "metadata": {
            "needs_background": "light"
          }
        }
      ]
    },
    {
      "cell_type": "markdown",
      "source": [
        "На графике мы неравномерное распределение, поэтому выведем переменную, чтобы нормировать нашу переменную."
      ],
      "metadata": {
        "id": "ddKlS9gCAhp_"
      }
    },
    {
      "cell_type": "code",
      "source": [
        "price_index = agg/agg[-1]"
      ],
      "metadata": {
        "id": "OAiCaYN3BgYi"
      },
      "execution_count": 1917,
      "outputs": []
    },
    {
      "cell_type": "code",
      "source": [
        "dic = price_index.to_dict()\n",
        "df['price_index'] = df['month'].map(dic)"
      ],
      "metadata": {
        "id": "xd_ZxwaECAj6"
      },
      "execution_count": 1918,
      "outputs": []
    },
    {
      "cell_type": "code",
      "source": [
        "df['new_price_per'] = df['price_per_sq']/df['price_index']"
      ],
      "metadata": {
        "id": "aAuxaS6qCqc8"
      },
      "execution_count": 1919,
      "outputs": []
    },
    {
      "cell_type": "code",
      "source": [
        "df['month'] = df['timestamp'].dt.to_period('M')\n",
        "agg = df.groupby('month')['new_price_per'].mean()\n",
        "agg.plot();"
      ],
      "metadata": {
        "colab": {
          "base_uri": "https://localhost:8080/",
          "height": 302
        },
        "id": "_fEC8azNC8dH",
        "outputId": "b45ab5b2-b690-4fd2-e3e5-65fd128bde45"
      },
      "execution_count": 1920,
      "outputs": [
        {
          "output_type": "display_data",
          "data": {
            "image/png": "[encoded data removed]",
            "text/plain": [
              "<Figure size 432x288 with 1 Axes>"
            ]
          },
          "metadata": {
            "needs_background": "light"
          }
        }
      ]
    },
    {
      "cell_type": "code",
      "source": [
        "np.log1p(df['new_price_per']).hist(bins = 100)"
      ],
      "metadata": {
        "colab": {
          "base_uri": "https://localhost:8080/",
          "height": 282
        },
        "id": "t7NSkWr4LfwF",
        "outputId": "29560b1f-44bf-4303-8c4d-027b894f742d"
      },
      "execution_count": 1921,
      "outputs": [
        {
          "output_type": "execute_result",
          "data": {
            "text/plain": [
              "<matplotlib.axes._subplots.AxesSubplot at 0x7f3f55e83a50>"
            ]
          },
          "metadata": {},
          "execution_count": 1921
        },
        {
          "output_type": "display_data",
          "data": {
            "image/png": "[encoded data removed]",
            "text/plain": [
              "<Figure size 432x288 with 1 Axes>"
            ]
          },
          "metadata": {
            "needs_background": "light"
          }
        }
      ]
    },
    {
      "cell_type": "code",
      "source": [
        "df['target'] = np.log1p(df['new_price_per'])"
      ],
      "metadata": {
        "id": "QBvNQNIYMGK8"
      },
      "execution_count": 1922,
      "outputs": []
    },
    {
      "cell_type": "code",
      "source": [
        "df = df.drop(columns=['month','price_doc','price_index','price_per_sq'],axis = 1)"
      ],
      "metadata": {
        "id": "y0I0XnWtMNOd"
      },
      "execution_count": 1923,
      "outputs": []
    },
    {
      "cell_type": "markdown",
      "source": [
        "Рассмотрим взаимосвязи нашей переменной с категориальными признаками(в нашем случае, это df['sub_area_okrug'] )"
      ],
      "metadata": {
        "id": "idG3Tg5rEBiB"
      }
    },
    {
      "cell_type": "code",
      "source": [
        "import matplotlib as mpl\n",
        "import matplotlib.pyplot as plt\n",
        "import seaborn as sns\n",
        "import warnings; warnings.filterwarnings(action='once')"
      ],
      "metadata": {
        "id": "plXB2hHTGUwr"
      },
      "execution_count": 1924,
      "outputs": []
    },
    {
      "cell_type": "code",
      "source": [
        "plt.figure(figsize=(12,10), dpi= 60)\n",
        "\n",
        "types = df.dropna(subset=['new_price_per'])\n",
        "types = df['sub_area_okrug'].value_counts()\n",
        "types = list(types[types.values > 100].index)\n",
        "\n",
        "# Plot of distribution of scores for building categories\n",
        "\n",
        "\n",
        "# Plot each building\n",
        "for b_type in types:\n",
        "    # Select the building type\n",
        "    subset = df[df['sub_area_okrug'] == b_type]\n",
        "    \n",
        "    # Density plot of Energy Star scores\n",
        "    sns.kdeplot(subset['new_price_per'].dropna(),\n",
        "               label = b_type, shade = False, alpha = 0.8);\n",
        "    \n",
        "# label the plot\n",
        "plt.xlabel('Цена'); plt.ylabel('По округу'); \n",
        "\n",
        "\n",
        "# Decoration\n",
        "plt.title('Ценовая политика, взависимости от округа', fontsize=22)\n",
        "plt.legend()\n",
        "plt.show()\n"
      ],
      "metadata": {
        "colab": {
          "base_uri": "https://localhost:8080/",
          "height": 528
        },
        "id": "5M3K0cArEDIk",
        "outputId": "35ddaba6-79c5-4ad3-b0b5-938384d57c9b"
      },
      "execution_count": 1925,
      "outputs": [
        {
          "output_type": "display_data",
          "data": {
            "image/png": "[encoded data removed]",
            "text/plain": [
              "<Figure size 720x600 with 1 Axes>"
            ]
          },
          "metadata": {
            "needs_background": "light"
          }
        }
      ]
    },
    {
      "cell_type": "markdown",
      "source": [
        "По графику видно,что наша цена напрямую зависит от категориальной данной."
      ],
      "metadata": {
        "id": "S_N-5VbLJAUX"
      }
    },
    {
      "cell_type": "markdown",
      "source": [
        "# Бинаризация."
      ],
      "metadata": {
        "id": "pYrA36Ru_pgk"
      }
    },
    {
      "cell_type": "markdown",
      "source": [
        "Удалю колонки по населению по полу-тк признак постоянно меняющийся."
      ],
      "metadata": {
        "id": "bSzDql9bcqxz"
      }
    },
    {
      "cell_type": "code",
      "source": [
        "df = df.drop(columns=['male_f', 'female_f','young_male', 'young_female', 'work_male', 'work_female'], axis = 1)"
      ],
      "metadata": {
        "id": "t4--ZpaPcqDA"
      },
      "execution_count": 1926,
      "outputs": []
    },
    {
      "cell_type": "markdown",
      "source": [
        "Проверим корреляцию признаков по населению."
      ],
      "metadata": {
        "id": "A5a5_22YdkWt"
      }
    },
    {
      "cell_type": "code",
      "source": [
        "df_num = df[['raion_popul', 'full_all',\t'young_all',\t'work_all', 'ekder_all']]\t"
      ],
      "metadata": {
        "id": "mLhbccLedrN2"
      },
      "execution_count": 1927,
      "outputs": []
    },
    {
      "cell_type": "code",
      "source": [
        "corr = df_num.drop('raion_popul', axis=1).corr() \n",
        "plt.figure(figsize=(8, 6))\n",
        "\n",
        "sns.heatmap(corr[(corr >= 0.5) | (corr <= -0.4)], \n",
        "            cmap='viridis', vmax=1.0, vmin=-1.0, linewidths=0.1,\n",
        "            annot=True, annot_kws={\"size\": 8}, square=True);"
      ],
      "metadata": {
        "colab": {
          "base_uri": "https://localhost:8080/",
          "height": 379
        },
        "id": "z9i32dz4djqq",
        "outputId": "dd97bbe1-e923-486f-ef53-77be0f0273a4"
      },
      "execution_count": 1928,
      "outputs": [
        {
          "output_type": "display_data",
          "data": {
            "image/png": "[encoded data removed]",
            "text/plain": [
              "<Figure size 576x432 with 2 Axes>"
            ]
          },
          "metadata": {
            "needs_background": "light"
          }
        }
      ]
    },
    {
      "cell_type": "markdown",
      "source": [
        "Мы видим,что все признаки сильно коррелируют друг с другом - оставим один, остальные удалим."
      ],
      "metadata": {
        "id": "KXBdgJH9etu8"
      }
    },
    {
      "cell_type": "code",
      "source": [
        "df = df.drop(columns=['raion_popul', 'full_all',\t'young_all',\t'work_all', 'ekder_all'], axis = 1)\t"
      ],
      "metadata": {
        "id": "-66TEBNwe3CY"
      },
      "execution_count": 1929,
      "outputs": []
    },
    {
      "cell_type": "code",
      "source": [
        "df = df.drop(columns=['ekder_male',\t'ekder_female',\t'0_6_all',\t'0_6_male',\t'0_6_female',\t'7_14_all',\t'7_14_male',\t'7_14_female',\t'0_17_all',\t'0_17_male',\t'0_17_female'], axis = 1)\t"
      ],
      "metadata": {
        "id": "TZESykQqfSHZ"
      },
      "execution_count": 1930,
      "outputs": []
    },
    {
      "cell_type": "code",
      "source": [
        "df = df.drop(columns=['16_29_all',\t'16_29_male',\t'16_29_female',\t'0_13_all',\t'0_13_male',\t'0_13_female'],axis = 1)"
      ],
      "metadata": {
        "id": "daiBIG9_fm6l"
      },
      "execution_count": 1931,
      "outputs": []
    },
    {
      "cell_type": "code",
      "source": [
        "df_b = df[['raion_build_count_with_material_info',\t'build_count_block',\t'build_count_wood',\t'build_count_frame',\t'build_count_brick',\t'build_count_monolith',\t'build_count_panel',\t'build_count_foam',\t'build_count_slag',\t'build_count_mix',\t'raion_build_count_with_builddate_info']]"
      ],
      "metadata": {
        "id": "8VmFvWbjf6-Q"
      },
      "execution_count": 1932,
      "outputs": []
    },
    {
      "cell_type": "code",
      "source": [
        "corr = df_b.drop('build_count_panel', axis=1).corr() \n",
        "plt.figure(figsize=(8, 5))\n",
        "\n",
        "sns.heatmap(corr[(corr >= 0.5) | (corr <= -0.4)], \n",
        "            cmap='viridis', vmax=1.0, vmin=-1.0, linewidths=0.1,\n",
        "            annot=True, annot_kws={\"size\": 8}, square=True);"
      ],
      "metadata": {
        "colab": {
          "base_uri": "https://localhost:8080/",
          "height": 504
        },
        "id": "x-ZiF057gP2o",
        "outputId": "fb2de42a-82fc-49ba-85c4-150e500bf1bf"
      },
      "execution_count": 1933,
      "outputs": [
        {
          "output_type": "display_data",
          "data": {
            "image/png": "[encoded data removed]",
            "text/plain": [
              "<Figure size 576x360 with 2 Axes>"
            ]
          },
          "metadata": {
            "needs_background": "light"
          }
        }
      ]
    },
    {
      "cell_type": "markdown",
      "source": [
        "Коррелируют два показателя.Удалим один из них"
      ],
      "metadata": {
        "id": "9ltK3FtViGFS"
      }
    },
    {
      "cell_type": "code",
      "source": [
        "df = df.drop(columns='raion_build_count_with_builddate_info',axis = 1)"
      ],
      "metadata": {
        "id": "s2JnA2R2iR41"
      },
      "execution_count": 1934,
      "outputs": []
    },
    {
      "cell_type": "markdown",
      "source": [
        "Проверим информативность еще раз и удалим колонки, в которых индентичная информация более 80%"
      ],
      "metadata": {
        "id": "MvHPOLO-jG9C"
      }
    },
    {
      "cell_type": "code",
      "source": [
        "num_rows = len(df.index)\n",
        "low_information_cols = [] \n",
        "for col in df.columns:\n",
        "    cnts = df[col].value_counts(dropna=False)\n",
        "    top_pct = (cnts/num_rows).iloc[0]\n",
        "    \n",
        "    if top_pct > 0.8:\n",
        "        low_information_cols.append(col)\n"
      ],
      "metadata": {
        "id": "fZgjujpAjD3W"
      },
      "execution_count": 1935,
      "outputs": []
    },
    {
      "cell_type": "code",
      "source": [
        "df = df.drop(columns = low_information_cols, axis = 1)"
      ],
      "metadata": {
        "id": "vdXT0Q_ujy5a"
      },
      "execution_count": 1936,
      "outputs": []
    },
    {
      "cell_type": "markdown",
      "source": [
        "Теперь создадим группу с данными по типу bool"
      ],
      "metadata": {
        "id": "v6xu9PiEkOFZ"
      }
    },
    {
      "cell_type": "code",
      "source": [
        "df.dtypes"
      ],
      "metadata": {
        "colab": {
          "base_uri": "https://localhost:8080/"
        },
        "id": "tC5RqhnAkuE-",
        "outputId": "9ae44dd7-cd51-4844-eaf1-900e97912502"
      },
      "execution_count": 1937,
      "outputs": [
        {
          "output_type": "execute_result",
          "data": {
            "text/plain": [
              "timestamp                                     datetime64[ns]\n",
              "full_sq                                              float64\n",
              "life_sq                                              float64\n",
              "floor                                                float64\n",
              "kitch_sq                                             float64\n",
              "product_type                                           int64\n",
              "area_m                                               float64\n",
              "green_zone_part                                      float64\n",
              "indust_part                                          float64\n",
              "children_preschool                                     int64\n",
              "preschool_quota                                      float64\n",
              "preschool_education_centers_raion                      int64\n",
              "children_school                                        int64\n",
              "school_quota                                         float64\n",
              "school_education_centers_raion                         int64\n",
              "healthcare_centers_raion                               int64\n",
              "sport_objects_raion                                    int64\n",
              "additional_education_raion                             int64\n",
              "shopping_centers_raion                                 int64\n",
              "office_raion                                           int64\n",
              "radiation_raion                                        int64\n",
              "raion_build_count_with_material_info                 float64\n",
              "build_count_block                                    float64\n",
              "build_count_wood                                     float64\n",
              "build_count_frame                                    float64\n",
              "build_count_brick                                    float64\n",
              "build_count_monolith                                 float64\n",
              "build_count_panel                                    float64\n",
              "build_count_slag                                     float64\n",
              "build_count_before_1920                              float64\n",
              "build_count_1921-1945                                float64\n",
              "build_count_1946-1970                                float64\n",
              "build_count_1971-1995                                float64\n",
              "build_count_after_1995                               float64\n",
              "metro_min_avto                                       float64\n",
              "metro_km_avto                                        float64\n",
              "metro_min_walk                                       float64\n",
              "metro_km_walk                                        float64\n",
              "kindergarten_km                                      float64\n",
              "school_km                                            float64\n",
              "park_km                                              float64\n",
              "green_zone_km                                        float64\n",
              "industrial_km                                        float64\n",
              "water_treatment_km                                   float64\n",
              "cemetery_km                                          float64\n",
              "incineration_km                                      float64\n",
              "railroad_station_walk_km                             float64\n",
              "railroad_station_walk_min                            float64\n",
              "railroad_station_avto_km                             float64\n",
              "railroad_station_avto_min                            float64\n",
              "public_transport_station_km                          float64\n",
              "public_transport_station_min_walk                    float64\n",
              "water_km                                             float64\n",
              "mkad_km                                              float64\n",
              "ttk_km                                               float64\n",
              "sadovoe_km                                           float64\n",
              "bulvar_ring_km                                       float64\n",
              "kremlin_km                                           float64\n",
              "big_road1_km                                         float64\n",
              "big_road2_km                                         float64\n",
              "railroad_km                                          float64\n",
              "zd_vokzaly_avto_km                                   float64\n",
              "bus_terminal_avto_km                                 float64\n",
              "oil_chemistry_km                                     float64\n",
              "nuclear_reactor_km                                   float64\n",
              "radiation_km                                         float64\n",
              "power_transmission_line_km                           float64\n",
              "thermal_power_plant_km                               float64\n",
              "ts_km                                                float64\n",
              "big_market_km                                        float64\n",
              "market_shop_km                                       float64\n",
              "fitness_km                                           float64\n",
              "swim_pool_km                                         float64\n",
              "ice_rink_km                                          float64\n",
              "stadium_km                                           float64\n",
              "basketball_km                                        float64\n",
              "hospice_morgue_km                                    float64\n",
              "detention_facility_km                                float64\n",
              "public_healthcare_km                                 float64\n",
              "university_km                                        float64\n",
              "workplaces_km                                        float64\n",
              "shopping_centers_km                                  float64\n",
              "office_km                                            float64\n",
              "additional_education_km                              float64\n",
              "preschool_km                                         float64\n",
              "big_church_km                                        float64\n",
              "church_synagogue_km                                  float64\n",
              "mosque_km                                            float64\n",
              "theater_km                                           float64\n",
              "museum_km                                            float64\n",
              "exhibition_km                                        float64\n",
              "catering_km                                          float64\n",
              "ecology                                                int64\n",
              "green_part_500                                       float64\n",
              "prom_part_500                                        float64\n",
              "office_count_500                                       int64\n",
              "office_sqm_500                                         int64\n",
              "trc_count_500                                          int64\n",
              "trc_sqm_500                                            int64\n",
              "cafe_count_500                                         int64\n",
              "cafe_count_500_price_500                               int64\n",
              "cafe_count_500_price_1000                              int64\n",
              "cafe_count_500_price_1500                              int64\n",
              "church_count_500                                       int64\n",
              "sport_count_500                                        int64\n",
              "green_part_1000                                      float64\n",
              "prom_part_1000                                       float64\n",
              "office_count_1000                                      int64\n",
              "office_sqm_1000                                        int64\n",
              "trc_count_1000                                         int64\n",
              "trc_sqm_1000                                           int64\n",
              "cafe_count_1000                                        int64\n",
              "cafe_sum_1000_min_price_avg                          float64\n",
              "cafe_sum_1000_max_price_avg                          float64\n",
              "cafe_avg_price_1000                                  float64\n",
              "cafe_count_1000_na_price                               int64\n",
              "cafe_count_1000_price_500                              int64\n",
              "cafe_count_1000_price_1000                             int64\n",
              "cafe_count_1000_price_1500                             int64\n",
              "cafe_count_1000_price_2500                             int64\n",
              "big_church_count_1000                                  int64\n",
              "church_count_1000                                      int64\n",
              "sport_count_1000                                       int64\n",
              "market_count_1000                                      int64\n",
              "green_part_1500                                      float64\n",
              "prom_part_1500                                       float64\n",
              "office_count_1500                                      int64\n",
              "office_sqm_1500                                        int64\n",
              "trc_count_1500                                         int64\n",
              "trc_sqm_1500                                           int64\n",
              "cafe_count_1500                                        int64\n",
              "cafe_sum_1500_min_price_avg                          float64\n",
              "cafe_sum_1500_max_price_avg                          float64\n",
              "cafe_avg_price_1500                                  float64\n",
              "cafe_count_1500_na_price                               int64\n",
              "cafe_count_1500_price_500                              int64\n",
              "cafe_count_1500_price_1000                             int64\n",
              "cafe_count_1500_price_1500                             int64\n",
              "cafe_count_1500_price_2500                             int64\n",
              "cafe_count_1500_price_4000                             int64\n",
              "big_church_count_1500                                  int64\n",
              "church_count_1500                                      int64\n",
              "leisure_count_1500                                     int64\n",
              "sport_count_1500                                       int64\n",
              "market_count_1500                                      int64\n",
              "green_part_2000                                      float64\n",
              "prom_part_2000                                       float64\n",
              "office_count_2000                                      int64\n",
              "office_sqm_2000                                        int64\n",
              "trc_count_2000                                         int64\n",
              "trc_sqm_2000                                           int64\n",
              "cafe_count_2000                                        int64\n",
              "cafe_sum_2000_min_price_avg                          float64\n",
              "cafe_sum_2000_max_price_avg                          float64\n",
              "cafe_avg_price_2000                                  float64\n",
              "cafe_count_2000_na_price                               int64\n",
              "cafe_count_2000_price_500                              int64\n",
              "cafe_count_2000_price_1000                             int64\n",
              "cafe_count_2000_price_1500                             int64\n",
              "cafe_count_2000_price_2500                             int64\n",
              "cafe_count_2000_price_4000                             int64\n",
              "big_church_count_2000                                  int64\n",
              "church_count_2000                                      int64\n",
              "leisure_count_2000                                     int64\n",
              "sport_count_2000                                       int64\n",
              "market_count_2000                                      int64\n",
              "green_part_3000                                      float64\n",
              "prom_part_3000                                       float64\n",
              "office_count_3000                                      int64\n",
              "office_sqm_3000                                        int64\n",
              "trc_count_3000                                         int64\n",
              "trc_sqm_3000                                           int64\n",
              "cafe_count_3000                                        int64\n",
              "cafe_sum_3000_min_price_avg                          float64\n",
              "cafe_sum_3000_max_price_avg                          float64\n",
              "cafe_avg_price_3000                                  float64\n",
              "cafe_count_3000_na_price                               int64\n",
              "cafe_count_3000_price_500                              int64\n",
              "cafe_count_3000_price_1000                             int64\n",
              "cafe_count_3000_price_1500                             int64\n",
              "cafe_count_3000_price_2500                             int64\n",
              "cafe_count_3000_price_4000                             int64\n",
              "big_church_count_3000                                  int64\n",
              "church_count_3000                                      int64\n",
              "leisure_count_3000                                     int64\n",
              "sport_count_3000                                       int64\n",
              "market_count_3000                                      int64\n",
              "green_part_5000                                      float64\n",
              "prom_part_5000                                       float64\n",
              "office_count_5000                                      int64\n",
              "office_sqm_5000                                        int64\n",
              "trc_count_5000                                         int64\n",
              "trc_sqm_5000                                           int64\n",
              "cafe_count_5000                                        int64\n",
              "cafe_sum_5000_min_price_avg                          float64\n",
              "cafe_sum_5000_max_price_avg                          float64\n",
              "cafe_avg_price_5000                                  float64\n",
              "cafe_count_5000_na_price                               int64\n",
              "cafe_count_5000_price_500                              int64\n",
              "cafe_count_5000_price_1000                             int64\n",
              "cafe_count_5000_price_1500                             int64\n",
              "cafe_count_5000_price_2500                             int64\n",
              "cafe_count_5000_price_4000                             int64\n",
              "cafe_count_5000_price_high                             int64\n",
              "big_church_count_5000                                  int64\n",
              "church_count_5000                                      int64\n",
              "mosque_count_5000                                      int64\n",
              "leisure_count_5000                                     int64\n",
              "sport_count_5000                                       int64\n",
              "market_count_5000                                      int64\n",
              "oil_urals                                            float64\n",
              "gdp_quart                                            float64\n",
              "gdp_quart_growth                                     float64\n",
              "cpi                                                  float64\n",
              "ppi                                                  float64\n",
              "gdp_deflator                                         float64\n",
              "balance_trade                                        float64\n",
              "balance_trade_growth                                 float64\n",
              "usdrub                                               float64\n",
              "eurrub                                               float64\n",
              "brent                                                float64\n",
              "net_capital_export                                   float64\n",
              "gdp_annual                                           float64\n",
              "gdp_annual_growth                                    float64\n",
              "average_provision_of_build_contract                  float64\n",
              "average_provision_of_build_contract_moscow           float64\n",
              "rts                                                  float64\n",
              "micex                                                float64\n",
              "micex_rgbi_tr                                        float64\n",
              "micex_cbi_tr                                         float64\n",
              "deposits_value                                         int64\n",
              "deposits_growth                                      float64\n",
              "deposits_rate                                        float64\n",
              "mortgage_value                                         int64\n",
              "mortgage_growth                                      float64\n",
              "mortgage_rate                                        float64\n",
              "grp                                                  float64\n",
              "income_per_cap                                       float64\n",
              "real_dispos_income_per_cap_growth                    float64\n",
              "salary                                               float64\n",
              "salary_growth                                        float64\n",
              "fixed_basket                                         float64\n",
              "retail_trade_turnover                                float64\n",
              "retail_trade_turnover_per_cap                        float64\n",
              "retail_trade_turnover_growth                         float64\n",
              "labor_force                                          float64\n",
              "unemployment                                         float64\n",
              "employment                                           float64\n",
              "invest_fixed_capital_per_cap                         float64\n",
              "invest_fixed_assets                                  float64\n",
              "profitable_enterpr_share                             float64\n",
              "unprofitable_enterpr_share                           float64\n",
              "share_own_revenues                                   float64\n",
              "overdue_wages_per_cap                                float64\n",
              "fin_res_per_cap                                      float64\n",
              "marriages_per_1000_cap                               float64\n",
              "divorce_rate                                         float64\n",
              "construction_value                                   float64\n",
              "invest_fixed_assets_phys                             float64\n",
              "pop_natural_increase                                 float64\n",
              "pop_migration                                        float64\n",
              "pop_total_inc                                        float64\n",
              "mortality                                            float64\n",
              "housing_fund_sqm                                     float64\n",
              "lodging_sqm_per_cap                                  float64\n",
              "sewerage_share                                       float64\n",
              "gas_share                                            float64\n",
              "electric_stove_share                                 float64\n",
              "average_life_exp                                     float64\n",
              "infant_mortarity_per_1000_cap                        float64\n",
              "perinatal_mort_per_1000_cap                          float64\n",
              "incidence_population                                 float64\n",
              "rent_price_4+room_bus                                float64\n",
              "rent_price_3room_bus                                 float64\n",
              "rent_price_2room_bus                                 float64\n",
              "rent_price_1room_bus                                 float64\n",
              "rent_price_3room_eco                                 float64\n",
              "rent_price_2room_eco                                 float64\n",
              "rent_price_1room_eco                                 float64\n",
              "load_of_teachers_school_per_teacher                  float64\n",
              "students_state_oneshift                              float64\n",
              "provision_doctors                                    float64\n",
              "provision_nurse                                      float64\n",
              "load_on_doctors                                      float64\n",
              "power_clinics                                        float64\n",
              "turnover_catering_per_cap                            float64\n",
              "seats_theather_rfmin_per_100000_cap                  float64\n",
              "bandwidth_sports                                     float64\n",
              "apartment_build                                      float64\n",
              "apartment_fund_sqm                                   float64\n",
              "preschool_quota_ismissing                               bool\n",
              "school_quota_ismissing                                  bool\n",
              "cafe_sum_1000_min_price_avg_ismissing                   bool\n",
              "cafe_sum_1000_max_price_avg_ismissing                   bool\n",
              "cafe_avg_price_1000_ismissing                           bool\n",
              "sub_area_okrug                                        object\n",
              "new_price_per                                        float64\n",
              "target                                               float64\n",
              "dtype: object"
            ]
          },
          "metadata": {},
          "execution_count": 1937
        }
      ]
    },
    {
      "cell_type": "code",
      "source": [
        "bins = ['preschool_quota_ismissing', 'school_quota_ismissing', 'cafe_sum_1000_min_price_avg_ismissing', 'cafe_sum_1000_max_price_avg_ismissing', 'cafe_avg_price_1000_ismissing']\n",
        "df[bins] = df[bins].applymap(lambda x : 1 if x == 'yes' else 0)"
      ],
      "metadata": {
        "id": "1o-g2bVMmx3d"
      },
      "execution_count": 1938,
      "outputs": []
    },
    {
      "cell_type": "markdown",
      "source": [
        "# Категориальные данные.OneHot"
      ],
      "metadata": {
        "id": "od3_lw5UrVSE"
      }
    },
    {
      "cell_type": "code",
      "source": [
        "encoding_col = pd.get_dummies(df['sub_area_okrug'])\n",
        "df = df.join(encoding_col).drop(['sub_area_okrug'], axis=1)"
      ],
      "metadata": {
        "id": "6vAejsXjsB7M"
      },
      "execution_count": 1939,
      "outputs": []
    },
    {
      "cell_type": "markdown",
      "source": [
        "# Построение модели."
      ],
      "metadata": {
        "id": "hgHDHSRF70pk"
      }
    },
    {
      "cell_type": "code",
      "source": [
        "df.dtypes"
      ],
      "metadata": {
        "colab": {
          "base_uri": "https://localhost:8080/"
        },
        "id": "XKWi-0EI_abq",
        "outputId": "6df2c475-3680-4691-f0a9-5d3513d4b2d2"
      },
      "execution_count": 1949,
      "outputs": [
        {
          "output_type": "execute_result",
          "data": {
            "text/plain": [
              "timestamp                                     datetime64[ns]\n",
              "full_sq                                              float64\n",
              "life_sq                                              float64\n",
              "floor                                                float64\n",
              "kitch_sq                                             float64\n",
              "product_type                                           int64\n",
              "area_m                                               float64\n",
              "green_zone_part                                      float64\n",
              "indust_part                                          float64\n",
              "children_preschool                                     int64\n",
              "preschool_quota                                      float64\n",
              "preschool_education_centers_raion                      int64\n",
              "children_school                                        int64\n",
              "school_quota                                         float64\n",
              "school_education_centers_raion                         int64\n",
              "healthcare_centers_raion                               int64\n",
              "sport_objects_raion                                    int64\n",
              "additional_education_raion                             int64\n",
              "shopping_centers_raion                                 int64\n",
              "office_raion                                           int64\n",
              "radiation_raion                                        int64\n",
              "raion_build_count_with_material_info                 float64\n",
              "build_count_block                                    float64\n",
              "build_count_wood                                     float64\n",
              "build_count_frame                                    float64\n",
              "build_count_brick                                    float64\n",
              "build_count_monolith                                 float64\n",
              "build_count_panel                                    float64\n",
              "build_count_slag                                     float64\n",
              "build_count_before_1920                              float64\n",
              "build_count_1921-1945                                float64\n",
              "build_count_1946-1970                                float64\n",
              "build_count_1971-1995                                float64\n",
              "build_count_after_1995                               float64\n",
              "metro_min_avto                                       float64\n",
              "metro_km_avto                                        float64\n",
              "metro_min_walk                                       float64\n",
              "metro_km_walk                                        float64\n",
              "kindergarten_km                                      float64\n",
              "school_km                                            float64\n",
              "park_km                                              float64\n",
              "green_zone_km                                        float64\n",
              "industrial_km                                        float64\n",
              "water_treatment_km                                   float64\n",
              "cemetery_km                                          float64\n",
              "incineration_km                                      float64\n",
              "railroad_station_walk_km                             float64\n",
              "railroad_station_walk_min                            float64\n",
              "railroad_station_avto_km                             float64\n",
              "railroad_station_avto_min                            float64\n",
              "public_transport_station_km                          float64\n",
              "public_transport_station_min_walk                    float64\n",
              "water_km                                             float64\n",
              "mkad_km                                              float64\n",
              "ttk_km                                               float64\n",
              "sadovoe_km                                           float64\n",
              "bulvar_ring_km                                       float64\n",
              "kremlin_km                                           float64\n",
              "big_road1_km                                         float64\n",
              "big_road2_km                                         float64\n",
              "railroad_km                                          float64\n",
              "zd_vokzaly_avto_km                                   float64\n",
              "bus_terminal_avto_km                                 float64\n",
              "oil_chemistry_km                                     float64\n",
              "nuclear_reactor_km                                   float64\n",
              "radiation_km                                         float64\n",
              "power_transmission_line_km                           float64\n",
              "thermal_power_plant_km                               float64\n",
              "ts_km                                                float64\n",
              "big_market_km                                        float64\n",
              "market_shop_km                                       float64\n",
              "fitness_km                                           float64\n",
              "swim_pool_km                                         float64\n",
              "ice_rink_km                                          float64\n",
              "stadium_km                                           float64\n",
              "basketball_km                                        float64\n",
              "hospice_morgue_km                                    float64\n",
              "detention_facility_km                                float64\n",
              "public_healthcare_km                                 float64\n",
              "university_km                                        float64\n",
              "workplaces_km                                        float64\n",
              "shopping_centers_km                                  float64\n",
              "office_km                                            float64\n",
              "additional_education_km                              float64\n",
              "preschool_km                                         float64\n",
              "big_church_km                                        float64\n",
              "church_synagogue_km                                  float64\n",
              "mosque_km                                            float64\n",
              "theater_km                                           float64\n",
              "museum_km                                            float64\n",
              "exhibition_km                                        float64\n",
              "catering_km                                          float64\n",
              "ecology                                                int64\n",
              "green_part_500                                       float64\n",
              "prom_part_500                                        float64\n",
              "office_count_500                                       int64\n",
              "office_sqm_500                                         int64\n",
              "trc_count_500                                          int64\n",
              "trc_sqm_500                                            int64\n",
              "cafe_count_500                                         int64\n",
              "cafe_count_500_price_500                               int64\n",
              "cafe_count_500_price_1000                              int64\n",
              "cafe_count_500_price_1500                              int64\n",
              "church_count_500                                       int64\n",
              "sport_count_500                                        int64\n",
              "green_part_1000                                      float64\n",
              "prom_part_1000                                       float64\n",
              "office_count_1000                                      int64\n",
              "office_sqm_1000                                        int64\n",
              "trc_count_1000                                         int64\n",
              "trc_sqm_1000                                           int64\n",
              "cafe_count_1000                                        int64\n",
              "cafe_sum_1000_min_price_avg                          float64\n",
              "cafe_sum_1000_max_price_avg                          float64\n",
              "cafe_avg_price_1000                                  float64\n",
              "cafe_count_1000_na_price                               int64\n",
              "cafe_count_1000_price_500                              int64\n",
              "cafe_count_1000_price_1000                             int64\n",
              "cafe_count_1000_price_1500                             int64\n",
              "cafe_count_1000_price_2500                             int64\n",
              "big_church_count_1000                                  int64\n",
              "church_count_1000                                      int64\n",
              "sport_count_1000                                       int64\n",
              "market_count_1000                                      int64\n",
              "green_part_1500                                      float64\n",
              "prom_part_1500                                       float64\n",
              "office_count_1500                                      int64\n",
              "office_sqm_1500                                        int64\n",
              "trc_count_1500                                         int64\n",
              "trc_sqm_1500                                           int64\n",
              "cafe_count_1500                                        int64\n",
              "cafe_sum_1500_min_price_avg                          float64\n",
              "cafe_sum_1500_max_price_avg                          float64\n",
              "cafe_avg_price_1500                                  float64\n",
              "cafe_count_1500_na_price                               int64\n",
              "cafe_count_1500_price_500                              int64\n",
              "cafe_count_1500_price_1000                             int64\n",
              "cafe_count_1500_price_1500                             int64\n",
              "cafe_count_1500_price_2500                             int64\n",
              "cafe_count_1500_price_4000                             int64\n",
              "big_church_count_1500                                  int64\n",
              "church_count_1500                                      int64\n",
              "leisure_count_1500                                     int64\n",
              "sport_count_1500                                       int64\n",
              "market_count_1500                                      int64\n",
              "green_part_2000                                      float64\n",
              "prom_part_2000                                       float64\n",
              "office_count_2000                                      int64\n",
              "office_sqm_2000                                        int64\n",
              "trc_count_2000                                         int64\n",
              "trc_sqm_2000                                           int64\n",
              "cafe_count_2000                                        int64\n",
              "cafe_sum_2000_min_price_avg                          float64\n",
              "cafe_sum_2000_max_price_avg                          float64\n",
              "cafe_avg_price_2000                                  float64\n",
              "cafe_count_2000_na_price                               int64\n",
              "cafe_count_2000_price_500                              int64\n",
              "cafe_count_2000_price_1000                             int64\n",
              "cafe_count_2000_price_1500                             int64\n",
              "cafe_count_2000_price_2500                             int64\n",
              "cafe_count_2000_price_4000                             int64\n",
              "big_church_count_2000                                  int64\n",
              "church_count_2000                                      int64\n",
              "leisure_count_2000                                     int64\n",
              "sport_count_2000                                       int64\n",
              "market_count_2000                                      int64\n",
              "green_part_3000                                      float64\n",
              "prom_part_3000                                       float64\n",
              "office_count_3000                                      int64\n",
              "office_sqm_3000                                        int64\n",
              "trc_count_3000                                         int64\n",
              "trc_sqm_3000                                           int64\n",
              "cafe_count_3000                                        int64\n",
              "cafe_sum_3000_min_price_avg                          float64\n",
              "cafe_sum_3000_max_price_avg                          float64\n",
              "cafe_avg_price_3000                                  float64\n",
              "cafe_count_3000_na_price                               int64\n",
              "cafe_count_3000_price_500                              int64\n",
              "cafe_count_3000_price_1000                             int64\n",
              "cafe_count_3000_price_1500                             int64\n",
              "cafe_count_3000_price_2500                             int64\n",
              "cafe_count_3000_price_4000                             int64\n",
              "big_church_count_3000                                  int64\n",
              "church_count_3000                                      int64\n",
              "leisure_count_3000                                     int64\n",
              "sport_count_3000                                       int64\n",
              "market_count_3000                                      int64\n",
              "green_part_5000                                      float64\n",
              "prom_part_5000                                       float64\n",
              "office_count_5000                                      int64\n",
              "office_sqm_5000                                        int64\n",
              "trc_count_5000                                         int64\n",
              "trc_sqm_5000                                           int64\n",
              "cafe_count_5000                                        int64\n",
              "cafe_sum_5000_min_price_avg                          float64\n",
              "cafe_sum_5000_max_price_avg                          float64\n",
              "cafe_avg_price_5000                                  float64\n",
              "cafe_count_5000_na_price                               int64\n",
              "cafe_count_5000_price_500                              int64\n",
              "cafe_count_5000_price_1000                             int64\n",
              "cafe_count_5000_price_1500                             int64\n",
              "cafe_count_5000_price_2500                             int64\n",
              "cafe_count_5000_price_4000                             int64\n",
              "cafe_count_5000_price_high                             int64\n",
              "big_church_count_5000                                  int64\n",
              "church_count_5000                                      int64\n",
              "mosque_count_5000                                      int64\n",
              "leisure_count_5000                                     int64\n",
              "sport_count_5000                                       int64\n",
              "market_count_5000                                      int64\n",
              "oil_urals                                            float64\n",
              "gdp_quart                                            float64\n",
              "gdp_quart_growth                                     float64\n",
              "cpi                                                  float64\n",
              "ppi                                                  float64\n",
              "gdp_deflator                                         float64\n",
              "balance_trade                                        float64\n",
              "balance_trade_growth                                 float64\n",
              "usdrub                                               float64\n",
              "eurrub                                               float64\n",
              "brent                                                float64\n",
              "net_capital_export                                   float64\n",
              "gdp_annual                                           float64\n",
              "gdp_annual_growth                                    float64\n",
              "average_provision_of_build_contract                  float64\n",
              "average_provision_of_build_contract_moscow           float64\n",
              "rts                                                  float64\n",
              "micex                                                float64\n",
              "micex_rgbi_tr                                        float64\n",
              "micex_cbi_tr                                         float64\n",
              "deposits_value                                         int64\n",
              "deposits_growth                                      float64\n",
              "deposits_rate                                        float64\n",
              "mortgage_value                                         int64\n",
              "mortgage_growth                                      float64\n",
              "mortgage_rate                                        float64\n",
              "grp                                                  float64\n",
              "income_per_cap                                       float64\n",
              "real_dispos_income_per_cap_growth                    float64\n",
              "salary                                               float64\n",
              "salary_growth                                        float64\n",
              "fixed_basket                                         float64\n",
              "retail_trade_turnover                                float64\n",
              "retail_trade_turnover_per_cap                        float64\n",
              "retail_trade_turnover_growth                         float64\n",
              "labor_force                                          float64\n",
              "unemployment                                         float64\n",
              "employment                                           float64\n",
              "invest_fixed_capital_per_cap                         float64\n",
              "invest_fixed_assets                                  float64\n",
              "profitable_enterpr_share                             float64\n",
              "unprofitable_enterpr_share                           float64\n",
              "share_own_revenues                                   float64\n",
              "overdue_wages_per_cap                                float64\n",
              "fin_res_per_cap                                      float64\n",
              "marriages_per_1000_cap                               float64\n",
              "divorce_rate                                         float64\n",
              "construction_value                                   float64\n",
              "invest_fixed_assets_phys                             float64\n",
              "pop_natural_increase                                 float64\n",
              "pop_migration                                        float64\n",
              "pop_total_inc                                        float64\n",
              "mortality                                            float64\n",
              "housing_fund_sqm                                     float64\n",
              "lodging_sqm_per_cap                                  float64\n",
              "sewerage_share                                       float64\n",
              "gas_share                                            float64\n",
              "electric_stove_share                                 float64\n",
              "average_life_exp                                     float64\n",
              "infant_mortarity_per_1000_cap                        float64\n",
              "perinatal_mort_per_1000_cap                          float64\n",
              "incidence_population                                 float64\n",
              "rent_price_4+room_bus                                float64\n",
              "rent_price_3room_bus                                 float64\n",
              "rent_price_2room_bus                                 float64\n",
              "rent_price_1room_bus                                 float64\n",
              "rent_price_3room_eco                                 float64\n",
              "rent_price_2room_eco                                 float64\n",
              "rent_price_1room_eco                                 float64\n",
              "load_of_teachers_school_per_teacher                  float64\n",
              "students_state_oneshift                              float64\n",
              "provision_doctors                                    float64\n",
              "provision_nurse                                      float64\n",
              "load_on_doctors                                      float64\n",
              "power_clinics                                        float64\n",
              "turnover_catering_per_cap                            float64\n",
              "seats_theather_rfmin_per_100000_cap                  float64\n",
              "bandwidth_sports                                     float64\n",
              "apartment_build                                      float64\n",
              "apartment_fund_sqm                                   float64\n",
              "preschool_quota_ismissing                              int64\n",
              "school_quota_ismissing                                 int64\n",
              "cafe_sum_1000_min_price_avg_ismissing                  int64\n",
              "cafe_sum_1000_max_price_avg_ismissing                  int64\n",
              "cafe_avg_price_1000_ismissing                          int64\n",
              "new_price_per                                        float64\n",
              "target                                               float64\n",
              "Central.nui                                            uint8\n",
              "Novomoskovskii                                         uint8\n",
              "Other                                                  uint8\n",
              "Severnyi                                               uint8\n",
              "Severo-Vostochnyi                                      uint8\n",
              "Severo-Zapadnyi                                        uint8\n",
              "Troitckii                                              uint8\n",
              "Vostochnyi                                             uint8\n",
              "Yugo-Vostochnyi                                        uint8\n",
              "Yugo-Zapadnyi                                          uint8\n",
              "Yuzhnyi                                                uint8\n",
              "Zapadnyi                                               uint8\n",
              "Zelenogradskii                                         uint8\n",
              "dtype: object"
            ]
          },
          "metadata": {},
          "execution_count": 1949
        }
      ]
    },
    {
      "cell_type": "markdown",
      "source": [
        "Выбрала числовые, т.к. срабатывает ошибка по типу, возможно из-за даты.."
      ],
      "metadata": {
        "id": "OHd6t7IvTAM7"
      }
    },
    {
      "cell_type": "code",
      "source": [
        "X_new = df.copy()\n",
        "X_new =X_new[X_new.select_dtypes(include = 'number').columns]\n",
        "y_new = X_new['target']\n"
      ],
      "metadata": {
        "id": "4imUHOHb743D"
      },
      "execution_count": 1950,
      "outputs": []
    },
    {
      "cell_type": "code",
      "source": [
        "X_train, X_test, y_train, y_test = train_test_split(X_new, y_new, test_size=0.2, shuffle=True, random_state=42)"
      ],
      "metadata": {
        "id": "JiNkxX6v_E3c"
      },
      "execution_count": 1951,
      "outputs": []
    },
    {
      "cell_type": "code",
      "source": [
        "from sklearn.ensemble import RandomForestRegressor\n",
        "\n",
        "model = RandomForestRegressor(random_state=42)\n",
        "model.fit(X_train, y_train)"
      ],
      "metadata": {
        "colab": {
          "base_uri": "https://localhost:8080/"
        },
        "id": "kUJNxj1V_xd2",
        "outputId": "cf6a51ab-968f-459a-b2d1-2639dbed5189"
      },
      "execution_count": 1952,
      "outputs": [
        {
          "output_type": "execute_result",
          "data": {
            "text/plain": [
              "RandomForestRegressor(random_state=42)"
            ]
          },
          "metadata": {},
          "execution_count": 1952
        }
      ]
    },
    {
      "cell_type": "code",
      "source": [
        "  pred_train = model.predict(X_train)\n",
        "  pred_test = model.predict(X_test)\n",
        "  \n",
        "  print({'MAE train' : mean_absolute_error(y_train, pred_train), \n",
        "                            'MAE test' : mean_absolute_error(y_test, pred_test), \n",
        "                            'MSE train' : mean_squared_error(y_train, pred_train), \n",
        "                            'MSE test' : mean_squared_error(y_test, pred_test), \n",
        "                            'R2 train' : r2_score(y_train, pred_train), \n",
        "                            'R2 test' : r2_score(y_test, pred_test)\n",
        "  })\n"
      ],
      "metadata": {
        "colab": {
          "base_uri": "https://localhost:8080/"
        },
        "id": "CQTY6293S_OU",
        "outputId": "823f5761-a5f0-4ae0-9e03-469835fb9be3"
      },
      "execution_count": 1953,
      "outputs": [
        {
          "output_type": "stream",
          "name": "stdout",
          "text": [
            "{'MAE train': 0.0001758175051005626, 'MAE test': 0.00031969168985511583, 'MSE train': 2.3570617189745054e-05, 'MSE test': 1.8149654739829622e-05, 'R2 train': 0.9999144272250249, 'R2 test': 0.9999343921774084}\n"
          ]
        }
      ]
    }
  ]
}