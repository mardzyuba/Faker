{
  "nbformat": 4,
  "nbformat_minor": 0,
  "metadata": {
    "colab": {
      "name": "Lesson7.ipynb",
      "provenance": [],
      "toc_visible": true,
      "authorship_tag": "ABX9TyOSiiXhcU07S9gK/evp0NGA",
      "include_colab_link": true
    },
    "kernelspec": {
      "name": "python3",
      "display_name": "Python 3"
    },
    "language_info": {
      "name": "python"
    }
  },
  "cells": [
    {
      "cell_type": "markdown",
      "metadata": {
        "id": "view-in-github",
        "colab_type": "text"
      },
      "source": [
        "<a href=\"https://colab.research.google.com/github/mardzyuba/Faker/blob/master/Lesson7.ipynb\" target=\"_parent\"><img src=\"https://colab.research.google.com/assets/colab-badge.svg\" alt=\"Open In Colab\"/></a>"
      ]
    },
    {
      "cell_type": "code",
      "execution_count": null,
      "metadata": {
        "colab": {
          "base_uri": "https://localhost:8080/"
        },
        "id": "Vv3sQh_eOzCR",
        "outputId": "f7a3a3de-e08e-40ce-c3f7-38ae522a75c0"
      },
      "outputs": [
        {
          "output_type": "stream",
          "name": "stderr",
          "text": [
            "/usr/local/lib/python3.7/dist-packages/sklearn/utils/deprecation.py:87: FutureWarning: Function load_boston is deprecated; `load_boston` is deprecated in 1.0 and will be removed in 1.2.\n",
            "\n",
            "    The Boston housing prices dataset has an ethical problem. You can refer to\n",
            "    the documentation of this function for further details.\n",
            "\n",
            "    The scikit-learn maintainers therefore strongly discourage the use of this\n",
            "    dataset unless the purpose of the code is to study and educate about\n",
            "    ethical issues in data science and machine learning.\n",
            "\n",
            "    In this special case, you can fetch the dataset from the original\n",
            "    source::\n",
            "\n",
            "        import pandas as pd\n",
            "        import numpy as np\n",
            "\n",
            "\n",
            "        data_url = \"http://lib.stat.cmu.edu/datasets/boston\"\n",
            "        raw_df = pd.read_csv(data_url, sep=\"\\s+\", skiprows=22, header=None)\n",
            "        data = np.hstack([raw_df.values[::2, :], raw_df.values[1::2, :2]])\n",
            "        target = raw_df.values[1::2, 2]\n",
            "\n",
            "    Alternative datasets include the California housing dataset (i.e.\n",
            "    :func:`~sklearn.datasets.fetch_california_housing`) and the Ames housing\n",
            "    dataset. You can load the datasets as follows::\n",
            "\n",
            "        from sklearn.datasets import fetch_california_housing\n",
            "        housing = fetch_california_housing()\n",
            "\n",
            "    for the California housing dataset and::\n",
            "\n",
            "        from sklearn.datasets import fetch_openml\n",
            "        housing = fetch_openml(name=\"house_prices\", as_frame=True)\n",
            "\n",
            "    for the Ames housing dataset.\n",
            "    \n",
            "  warnings.warn(msg, category=FutureWarning)\n"
          ]
        }
      ],
      "source": [
        "from matplotlib import pyplot as plt\n",
        "%matplotlib inline\n",
        "import seaborn as sns\n",
        "import pandas as pd\n",
        "import numpy as np\n",
        "from sklearn.datasets import load_boston\n",
        "from sklearn.preprocessing import Normalizer, StandardScaler\n",
        "from sklearn.model_selection import train_test_split\n",
        "from sklearn.linear_model import LinearRegression\n",
        "from sklearn.metrics import mean_absolute_error, mean_squared_error, r2_score\n",
        "\n",
        "boston_data = load_boston()\n",
        "\n",
        "x = pd.DataFrame(boston_data.data, columns=boston_data.feature_names)\n",
        "y = boston_data.target"
      ]
    },
    {
      "cell_type": "markdown",
      "source": [
        "# Задание 1.\n",
        "\n",
        "\n",
        "---\n",
        "\n"
      ],
      "metadata": {
        "id": "v2DzOMeGPan3"
      }
    },
    {
      "cell_type": "markdown",
      "source": [
        "1. Взять все признаки из датасета с урока. Применить модель Random Forest."
      ],
      "metadata": {
        "id": "aC9Bsg7TXeoR"
      }
    },
    {
      "cell_type": "markdown",
      "source": [
        "Датасет Бостон недоступен, поэтому взяла аналог Калифорния."
      ],
      "metadata": {
        "id": "Wzktpv4zPhjs"
      }
    },
    {
      "cell_type": "code",
      "source": [
        "from matplotlib import pyplot as plt\n",
        "%matplotlib inline\n",
        "import seaborn as sns\n",
        "import pandas as pd\n",
        "import numpy as np\n",
        "from sklearn.datasets import fetch_california_housing\n",
        "from sklearn.preprocessing import Normalizer, StandardScaler\n",
        "from sklearn.model_selection import train_test_split\n",
        "from sklearn.linear_model import LinearRegression\n",
        "from sklearn.metrics import mean_absolute_error, mean_squared_error, r2_score\n",
        "\n",
        "housing = fetch_california_housing()\n",
        "\n",
        "x = pd.DataFrame(housing.data, columns=housing.feature_names)\n",
        "y = housing.target"
      ],
      "metadata": {
        "id": "u0EmEd7oPHSf"
      },
      "execution_count": null,
      "outputs": []
    },
    {
      "cell_type": "code",
      "source": [
        "X_train, X_test, y_train, y_test = train_test_split(x, y, test_size=0.33, random_state=0)"
      ],
      "metadata": {
        "id": "M_JazsTAXvfy"
      },
      "execution_count": null,
      "outputs": []
    },
    {
      "cell_type": "markdown",
      "source": [
        "1. Взять все признаки из датасета с урока. Применить модель Random Forest."
      ],
      "metadata": {
        "id": "F5dsG91Ja5T4"
      }
    },
    {
      "cell_type": "code",
      "source": [
        "from sklearn.ensemble import RandomForestRegressor\n",
        "model = RandomForestRegressor(n_estimators=500)\n",
        "model.fit(X_train, y_train)"
      ],
      "metadata": {
        "colab": {
          "base_uri": "https://localhost:8080/"
        },
        "id": "eAelkkQoY4gb",
        "outputId": "a7a807df-95f0-4848-b1f1-2557a6544920"
      },
      "execution_count": null,
      "outputs": [
        {
          "output_type": "execute_result",
          "data": {
            "text/plain": [
              "RandomForestRegressor(n_estimators=500)"
            ]
          },
          "metadata": {},
          "execution_count": 31
        }
      ]
    },
    {
      "cell_type": "markdown",
      "source": [
        "2. Рассчитайте MAE, MSE, R2 на тренировочной и тестовой выборке."
      ],
      "metadata": {
        "id": "-GaJTcHpa8gG"
      }
    },
    {
      "cell_type": "code",
      "source": [
        "  pred_train = model.predict(X_train)\n",
        "  pred_test = model.predict(X_test)\n",
        "  \n",
        "  print({'MAE train' : mean_absolute_error(y_train, pred_train), \n",
        "                            'MAE test' : mean_absolute_error(y_test, pred_test), \n",
        "                            'MSE train' : mean_squared_error(y_train, pred_train), \n",
        "                            'MSE test' : mean_squared_error(y_test, pred_test), \n",
        "                            'R2 train' : r2_score(y_train, pred_train), \n",
        "                            'R2 test' : r2_score(y_test, pred_test)\n",
        "  })\n",
        "\n"
      ],
      "metadata": {
        "colab": {
          "base_uri": "https://localhost:8080/"
        },
        "id": "0ndfCu34ZprL",
        "outputId": "2a3d0661-ce4e-4a0f-ee31-792496319dde"
      },
      "execution_count": null,
      "outputs": [
        {
          "output_type": "stream",
          "name": "stdout",
          "text": [
            "{'MAE train': 0.12380019470494605, 'MAE test': 0.33804002808279493, 'MSE train': 0.03572205452348314, 'MSE test': 0.2715101717705207, 'R2 train': 0.9731940255241484, 'R2 test': 0.7957593019585407}\n"
          ]
        }
      ]
    },
    {
      "cell_type": "markdown",
      "source": [
        "# Самостоятельная работа.\n",
        "\n",
        "---\n",
        "\n"
      ],
      "metadata": {
        "id": "rJBNRU2fXYQu"
      }
    },
    {
      "cell_type": "markdown",
      "source": [
        "2. Здесь расчитала корреляцию по новым данным, для сравнения.Создала модель линейной регрессии(как в уроке)\n",
        "  Рассчитайте MAE, MSE, R2 на тренировочной и тестовой выборке."
      ],
      "metadata": {
        "id": "jCOtKHV1Xb0x"
      }
    },
    {
      "cell_type": "code",
      "source": [
        "x_corr = x.copy()\n",
        "x_corr['MedHouseVal'] = y\n",
        "correlation_matrix = x_corr.corr().round(2)\n",
        "plt.subplots(figsize=(10,7))\n",
        "sns.heatmap(data=correlation_matrix, annot=True)"
      ],
      "metadata": {
        "colab": {
          "base_uri": "https://localhost:8080/",
          "height": 507
        },
        "id": "B6hTyidxP6jq",
        "outputId": "04fc5ed2-9325-4836-cf3b-56ac15a534f5"
      },
      "execution_count": null,
      "outputs": [
        {
          "output_type": "execute_result",
          "data": {
            "text/plain": [
              "<matplotlib.axes._subplots.AxesSubplot at 0x7f7cd98cca50>"
            ]
          },
          "metadata": {},
          "execution_count": 20
        },
        {
          "output_type": "display_data",
          "data": {
            "image/png": "[encoded data removed]",
            "text/plain": [
              "<Figure size 720x504 with 2 Axes>"
            ]
          },
          "metadata": {
            "needs_background": "light"
          }
        }
      ]
    },
    {
      "cell_type": "code",
      "source": [
        "features = [['MedInc','AveRooms'], ['MedInc','AveRooms', 'AveBedrms'], ['MedInc','Latitude'], ['Latitude', 'Longitude']]"
      ],
      "metadata": {
        "id": "UoxpcKiOWISQ"
      },
      "execution_count": null,
      "outputs": []
    },
    {
      "cell_type": "code",
      "source": [
        "metrics_1 = pd.DataFrame(columns=['Features', 'MAE train', 'MAE test', 'MSE train', 'MSE test', 'R2 train', 'R2 test'])\n",
        "pd.set_option('display.max_columns', None)\n",
        "pd.set_option('display.width', 200)\n",
        "\n",
        "for future in features:\n",
        "  x_future_test = x.loc[:, future]\n",
        "  x_train, x_test, y_train, y_test = train_test_split(x_future_test, y, test_size = 0.2, random_state=5)\n",
        "\n",
        "  transformer = Normalizer().fit(x_train.loc[:, x_train.columns])\n",
        "  x_train = pd.DataFrame(transformer.transform(x_train.loc[:, x_train.columns]), index = x_train.index, columns = x_train.columns)\n",
        "  x_test = pd.DataFrame(transformer.transform(x_test.loc[:, x_test.columns]), index = x_test.index, columns = x_test.columns)\n",
        "\n",
        "  regr = LinearRegression()\n",
        "  regr.fit(x_train, y_train)\n",
        "  pred_train = regr.predict(x_train)\n",
        "  pred_test = regr.predict(x_test)\n",
        "  \n",
        "  metrics_1 = metrics_1.append({'Features' : future, \n",
        "                            'MAE train' : mean_absolute_error(y_train, pred_train), \n",
        "                            'MAE test' : mean_absolute_error(y_test, pred_test), \n",
        "                            'MSE train' : mean_squared_error(y_train, pred_train), \n",
        "                            'MSE test' : mean_squared_error(y_test, pred_test), \n",
        "                            'R2 train' : r2_score(y_train, pred_train), \n",
        "                            'R2 test' : r2_score(y_test, pred_test)}, ignore_index=True)\n",
        "\n",
        "print(metrics_1)"
      ],
      "metadata": {
        "colab": {
          "base_uri": "https://localhost:8080/"
        },
        "id": "ZvzCz7IcXNOo",
        "outputId": "ae8f3d9a-0ad7-4f47-86b8-7b61695f9a4e"
      },
      "execution_count": null,
      "outputs": [
        {
          "output_type": "stream",
          "name": "stdout",
          "text": [
            "                        Features  MAE train  MAE test  MSE train  MSE test  R2 train   R2 test\n",
            "0             [MedInc, AveRooms]   0.618180  0.627031   0.702645  0.726471  0.467454  0.473451\n",
            "1  [MedInc, AveRooms, AveBedrms]   0.612052  0.619749   0.689267  0.708870  0.477594  0.486209\n",
            "2             [MedInc, Latitude]   0.622535  0.624351   0.688984  0.694263  0.477808  0.496796\n",
            "3          [Latitude, Longitude]   0.865633  0.883322   1.234067  1.282518  0.064681  0.070426\n"
          ]
        }
      ]
    },
    {
      "cell_type": "markdown",
      "source": [
        "Сравнив данные по двум моделям, можно сделать вывод, что модель Random Forest намного лучше по показателям!\n",
        "\n",
        "MAE -  чем выше это значение, тем хуже модель.\n",
        "\n",
        "MSE - чем выше это значение, тем хуже модель.\n",
        "\n",
        "R^2 - чем ближе к 1 тем лучше модель.\n",
        "\n",
        "---\n",
        "\n",
        "\n",
        "\n",
        "'MAE train': 0.12380019470494605, \n",
        "'MAE test': 0.33804002808279493, \n",
        "\n",
        "---\n",
        "\n",
        "\n",
        "\n",
        "'MSE train': 0.03572205452348314, \n",
        "'MSE test': 0.2715101717705207, \n",
        "\n",
        "---\n",
        "\n",
        "\n",
        "\n",
        "'R2 train': 0.9731940255241484, \n",
        "'R2 test': 0.7957593019585407"
      ],
      "metadata": {
        "id": "V3nmJPC6bG6r"
      }
    }
  ]
}